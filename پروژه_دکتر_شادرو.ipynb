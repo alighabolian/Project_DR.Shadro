{
  "nbformat": 4,
  "nbformat_minor": 0,
  "metadata": {
    "colab": {
      "provenance": [],
      "authorship_tag": "ABX9TyNI2YOHrl/r3u35qEBF0Yg9",
      "include_colab_link": true
    },
    "kernelspec": {
      "name": "python3",
      "display_name": "Python 3"
    },
    "language_info": {
      "name": "python"
    }
  },
  "cells": [
    {
      "cell_type": "markdown",
      "metadata": {
        "id": "view-in-github",
        "colab_type": "text"
      },
      "source": [
        "<a href=\"https://colab.research.google.com/github/alighabolian/Project_DR.Shadro/blob/main/%D9%BE%D8%B1%D9%88%DA%98%D9%87_%D8%AF%DA%A9%D8%AA%D8%B1_%D8%B4%D8%A7%D8%AF%D8%B1%D9%88.ipynb\" target=\"_parent\"><img src=\"https://colab.research.google.com/assets/colab-badge.svg\" alt=\"Open In Colab\"/></a>"
      ]
    },
    {
      "cell_type": "code",
      "source": [
        "!nvidia-smi"
      ],
      "metadata": {
        "colab": {
          "base_uri": "https://localhost:8080/"
        },
        "collapsed": true,
        "id": "PYD6zV6jPuKQ",
        "outputId": "3fab8bff-cb53-43ec-d77d-a30e2d1b089d"
      },
      "execution_count": null,
      "outputs": [
        {
          "output_type": "stream",
          "name": "stdout",
          "text": [
            "Fri Nov 22 09:43:39 2024       \n",
            "+---------------------------------------------------------------------------------------+\n",
            "| NVIDIA-SMI 535.104.05             Driver Version: 535.104.05   CUDA Version: 12.2     |\n",
            "|-----------------------------------------+----------------------+----------------------+\n",
            "| GPU  Name                 Persistence-M | Bus-Id        Disp.A | Volatile Uncorr. ECC |\n",
            "| Fan  Temp   Perf          Pwr:Usage/Cap |         Memory-Usage | GPU-Util  Compute M. |\n",
            "|                                         |                      |               MIG M. |\n",
            "|=========================================+======================+======================|\n",
            "|   0  NVIDIA A100-SXM4-40GB          Off | 00000000:00:04.0 Off |                    0 |\n",
            "| N/A   30C    P0              44W / 400W |      2MiB / 40960MiB |      0%      Default |\n",
            "|                                         |                      |             Disabled |\n",
            "+-----------------------------------------+----------------------+----------------------+\n",
            "                                                                                         \n",
            "+---------------------------------------------------------------------------------------+\n",
            "| Processes:                                                                            |\n",
            "|  GPU   GI   CI        PID   Type   Process name                            GPU Memory |\n",
            "|        ID   ID                                                             Usage      |\n",
            "|=======================================================================================|\n",
            "|  No running processes found                                                           |\n",
            "+---------------------------------------------------------------------------------------+\n"
          ]
        }
      ]
    },
    {
      "cell_type": "code",
      "source": [
        "from google.colab import drive\n",
        "drive.mount('/content/drive')"
      ],
      "metadata": {
        "colab": {
          "base_uri": "https://localhost:8080/"
        },
        "collapsed": true,
        "id": "33zkAQ9aQKdj",
        "outputId": "38f6a0c5-b5b5-4005-f1c2-b18b956a8bc1"
      },
      "execution_count": null,
      "outputs": [
        {
          "output_type": "stream",
          "name": "stdout",
          "text": [
            "Mounted at /content/drive\n"
          ]
        }
      ]
    },
    {
      "cell_type": "code",
      "source": [
        "!pip install ultralytics"
      ],
      "metadata": {
        "collapsed": true,
        "colab": {
          "base_uri": "https://localhost:8080/"
        },
        "id": "HmE_4VOfQ1Jg",
        "outputId": "921b28e7-57fb-4b55-867f-58b21dd1d299"
      },
      "execution_count": null,
      "outputs": [
        {
          "output_type": "stream",
          "name": "stdout",
          "text": [
            "Collecting ultralytics\n",
            "  Downloading ultralytics-8.3.35-py3-none-any.whl.metadata (35 kB)\n",
            "Requirement already satisfied: numpy>=1.23.0 in /usr/local/lib/python3.10/dist-packages (from ultralytics) (1.26.4)\n",
            "Requirement already satisfied: matplotlib>=3.3.0 in /usr/local/lib/python3.10/dist-packages (from ultralytics) (3.8.0)\n",
            "Requirement already satisfied: opencv-python>=4.6.0 in /usr/local/lib/python3.10/dist-packages (from ultralytics) (4.10.0.84)\n",
            "Requirement already satisfied: pillow>=7.1.2 in /usr/local/lib/python3.10/dist-packages (from ultralytics) (11.0.0)\n",
            "Requirement already satisfied: pyyaml>=5.3.1 in /usr/local/lib/python3.10/dist-packages (from ultralytics) (6.0.2)\n",
            "Requirement already satisfied: requests>=2.23.0 in /usr/local/lib/python3.10/dist-packages (from ultralytics) (2.32.3)\n",
            "Requirement already satisfied: scipy>=1.4.1 in /usr/local/lib/python3.10/dist-packages (from ultralytics) (1.13.1)\n",
            "Requirement already satisfied: torch>=1.8.0 in /usr/local/lib/python3.10/dist-packages (from ultralytics) (2.5.1+cu121)\n",
            "Requirement already satisfied: torchvision>=0.9.0 in /usr/local/lib/python3.10/dist-packages (from ultralytics) (0.20.1+cu121)\n",
            "Requirement already satisfied: tqdm>=4.64.0 in /usr/local/lib/python3.10/dist-packages (from ultralytics) (4.66.6)\n",
            "Requirement already satisfied: psutil in /usr/local/lib/python3.10/dist-packages (from ultralytics) (5.9.5)\n",
            "Requirement already satisfied: py-cpuinfo in /usr/local/lib/python3.10/dist-packages (from ultralytics) (9.0.0)\n",
            "Requirement already satisfied: pandas>=1.1.4 in /usr/local/lib/python3.10/dist-packages (from ultralytics) (2.2.2)\n",
            "Requirement already satisfied: seaborn>=0.11.0 in /usr/local/lib/python3.10/dist-packages (from ultralytics) (0.13.2)\n",
            "Collecting ultralytics-thop>=2.0.0 (from ultralytics)\n",
            "  Downloading ultralytics_thop-2.0.12-py3-none-any.whl.metadata (9.4 kB)\n",
            "Requirement already satisfied: contourpy>=1.0.1 in /usr/local/lib/python3.10/dist-packages (from matplotlib>=3.3.0->ultralytics) (1.3.1)\n",
            "Requirement already satisfied: cycler>=0.10 in /usr/local/lib/python3.10/dist-packages (from matplotlib>=3.3.0->ultralytics) (0.12.1)\n",
            "Requirement already satisfied: fonttools>=4.22.0 in /usr/local/lib/python3.10/dist-packages (from matplotlib>=3.3.0->ultralytics) (4.55.0)\n",
            "Requirement already satisfied: kiwisolver>=1.0.1 in /usr/local/lib/python3.10/dist-packages (from matplotlib>=3.3.0->ultralytics) (1.4.7)\n",
            "Requirement already satisfied: packaging>=20.0 in /usr/local/lib/python3.10/dist-packages (from matplotlib>=3.3.0->ultralytics) (24.2)\n",
            "Requirement already satisfied: pyparsing>=2.3.1 in /usr/local/lib/python3.10/dist-packages (from matplotlib>=3.3.0->ultralytics) (3.2.0)\n",
            "Requirement already satisfied: python-dateutil>=2.7 in /usr/local/lib/python3.10/dist-packages (from matplotlib>=3.3.0->ultralytics) (2.8.2)\n",
            "Requirement already satisfied: pytz>=2020.1 in /usr/local/lib/python3.10/dist-packages (from pandas>=1.1.4->ultralytics) (2024.2)\n",
            "Requirement already satisfied: tzdata>=2022.7 in /usr/local/lib/python3.10/dist-packages (from pandas>=1.1.4->ultralytics) (2024.2)\n",
            "Requirement already satisfied: charset-normalizer<4,>=2 in /usr/local/lib/python3.10/dist-packages (from requests>=2.23.0->ultralytics) (3.4.0)\n",
            "Requirement already satisfied: idna<4,>=2.5 in /usr/local/lib/python3.10/dist-packages (from requests>=2.23.0->ultralytics) (3.10)\n",
            "Requirement already satisfied: urllib3<3,>=1.21.1 in /usr/local/lib/python3.10/dist-packages (from requests>=2.23.0->ultralytics) (2.2.3)\n",
            "Requirement already satisfied: certifi>=2017.4.17 in /usr/local/lib/python3.10/dist-packages (from requests>=2.23.0->ultralytics) (2024.8.30)\n",
            "Requirement already satisfied: filelock in /usr/local/lib/python3.10/dist-packages (from torch>=1.8.0->ultralytics) (3.16.1)\n",
            "Requirement already satisfied: typing-extensions>=4.8.0 in /usr/local/lib/python3.10/dist-packages (from torch>=1.8.0->ultralytics) (4.12.2)\n",
            "Requirement already satisfied: networkx in /usr/local/lib/python3.10/dist-packages (from torch>=1.8.0->ultralytics) (3.4.2)\n",
            "Requirement already satisfied: jinja2 in /usr/local/lib/python3.10/dist-packages (from torch>=1.8.0->ultralytics) (3.1.4)\n",
            "Requirement already satisfied: fsspec in /usr/local/lib/python3.10/dist-packages (from torch>=1.8.0->ultralytics) (2024.10.0)\n",
            "Requirement already satisfied: sympy==1.13.1 in /usr/local/lib/python3.10/dist-packages (from torch>=1.8.0->ultralytics) (1.13.1)\n",
            "Requirement already satisfied: mpmath<1.4,>=1.1.0 in /usr/local/lib/python3.10/dist-packages (from sympy==1.13.1->torch>=1.8.0->ultralytics) (1.3.0)\n",
            "Requirement already satisfied: six>=1.5 in /usr/local/lib/python3.10/dist-packages (from python-dateutil>=2.7->matplotlib>=3.3.0->ultralytics) (1.16.0)\n",
            "Requirement already satisfied: MarkupSafe>=2.0 in /usr/local/lib/python3.10/dist-packages (from jinja2->torch>=1.8.0->ultralytics) (3.0.2)\n",
            "Downloading ultralytics-8.3.35-py3-none-any.whl (887 kB)\n",
            "\u001b[2K   \u001b[90m━━━━━━━━━━━━━━━━━━━━━━━━━━━━━━━━━━━━━━━━\u001b[0m \u001b[32m887.4/887.4 kB\u001b[0m \u001b[31m14.6 MB/s\u001b[0m eta \u001b[36m0:00:00\u001b[0m\n",
            "\u001b[?25hDownloading ultralytics_thop-2.0.12-py3-none-any.whl (26 kB)\n",
            "Installing collected packages: ultralytics-thop, ultralytics\n",
            "Successfully installed ultralytics-8.3.35 ultralytics-thop-2.0.12\n"
          ]
        }
      ]
    },
    {
      "cell_type": "code",
      "source": [
        "from ultralytics import YOLO\n",
        "import os\n",
        "from IPython.display import display, Image\n",
        "from IPython import display\n",
        "\n",
        "display.clear_output()\n",
        "\n",
        "# Running the checks command properly\n",
        "!yolo checks"
      ],
      "metadata": {
        "collapsed": true,
        "colab": {
          "base_uri": "https://localhost:8080/"
        },
        "id": "PHtJGg4aQ4pK",
        "outputId": "bb57e8a3-d561-4cac-c3b3-985e398346fa"
      },
      "execution_count": null,
      "outputs": [
        {
          "output_type": "stream",
          "name": "stdout",
          "text": [
            "\u001b[2K\r\u001b[2K\rUltralytics 8.3.35 🚀 Python-3.10.12 torch-2.5.1+cu121 CUDA:0 (NVIDIA A100-SXM4-40GB, 40514MiB)\n",
            "Setup complete ✅ (12 CPUs, 83.5 GB RAM, 32.5/235.7 GB disk)\n",
            "\n",
            "OS                  Linux-6.1.85+-x86_64-with-glibc2.35\n",
            "Environment         Colab\n",
            "Python              3.10.12\n",
            "Install             pip\n",
            "RAM                 83.48 GB\n",
            "Disk                32.5/235.7 GB\n",
            "CPU                 Intel Xeon 2.20GHz\n",
            "CPU count           12\n",
            "GPU                 NVIDIA A100-SXM4-40GB, 40514MiB\n",
            "GPU count           1\n",
            "CUDA                12.1\n",
            "\n",
            "numpy               ✅ 1.26.4>=1.23.0\n",
            "numpy               ✅ 1.26.4<2.0.0; sys_platform == \"darwin\"\n",
            "matplotlib          ✅ 3.8.0>=3.3.0\n",
            "opencv-python       ✅ 4.10.0.84>=4.6.0\n",
            "pillow              ✅ 11.0.0>=7.1.2\n",
            "pyyaml              ✅ 6.0.2>=5.3.1\n",
            "requests            ✅ 2.32.3>=2.23.0\n",
            "scipy               ✅ 1.13.1>=1.4.1\n",
            "torch               ✅ 2.5.1+cu121>=1.8.0\n",
            "torch               ✅ 2.5.1+cu121!=2.4.0,>=1.8.0; sys_platform == \"win32\"\n",
            "torchvision         ✅ 0.20.1+cu121>=0.9.0\n",
            "tqdm                ✅ 4.66.6>=4.64.0\n",
            "psutil              ✅ 5.9.5\n",
            "py-cpuinfo          ✅ 9.0.0\n",
            "pandas              ✅ 2.2.2>=1.1.4\n",
            "seaborn             ✅ 0.13.2>=0.11.0\n",
            "ultralytics-thop    ✅ 2.0.12>=2.0.0\n"
          ]
        }
      ]
    },
    {
      "cell_type": "code",
      "source": [
        "!pip install wandb -qU"
      ],
      "metadata": {
        "id": "8oe1WLY6Q87y"
      },
      "execution_count": null,
      "outputs": []
    },
    {
      "cell_type": "code",
      "source": [
        "# Log in to your W&B account\n",
        "import wandb\n",
        "import random\n",
        "import math\n",
        "\n",
        "wandb.login()"
      ],
      "metadata": {
        "colab": {
          "base_uri": "https://localhost:8080/",
          "height": 139
        },
        "id": "_O7MYrckQ_T8",
        "outputId": "30f0ca1b-959f-4089-b1de-fcfee71d9ccc"
      },
      "execution_count": null,
      "outputs": [
        {
          "output_type": "stream",
          "name": "stderr",
          "text": [
            "\u001b[34m\u001b[1mwandb\u001b[0m: Using wandb-core as the SDK backend.  Please refer to https://wandb.me/wandb-core for more information.\n"
          ]
        },
        {
          "output_type": "display_data",
          "data": {
            "text/plain": [
              "<IPython.core.display.Javascript object>"
            ],
            "application/javascript": [
              "\n",
              "        window._wandbApiKey = new Promise((resolve, reject) => {\n",
              "            function loadScript(url) {\n",
              "            return new Promise(function(resolve, reject) {\n",
              "                let newScript = document.createElement(\"script\");\n",
              "                newScript.onerror = reject;\n",
              "                newScript.onload = resolve;\n",
              "                document.body.appendChild(newScript);\n",
              "                newScript.src = url;\n",
              "            });\n",
              "            }\n",
              "            loadScript(\"https://cdn.jsdelivr.net/npm/postmate/build/postmate.min.js\").then(() => {\n",
              "            const iframe = document.createElement('iframe')\n",
              "            iframe.style.cssText = \"width:0;height:0;border:none\"\n",
              "            document.body.appendChild(iframe)\n",
              "            const handshake = new Postmate({\n",
              "                container: iframe,\n",
              "                url: 'https://wandb.ai/authorize'\n",
              "            });\n",
              "            const timeout = setTimeout(() => reject(\"Couldn't auto authenticate\"), 5000)\n",
              "            handshake.then(function(child) {\n",
              "                child.on('authorize', data => {\n",
              "                    clearTimeout(timeout)\n",
              "                    resolve(data)\n",
              "                });\n",
              "            });\n",
              "            })\n",
              "        });\n",
              "    "
            ]
          },
          "metadata": {}
        },
        {
          "output_type": "stream",
          "name": "stderr",
          "text": [
            "\u001b[34m\u001b[1mwandb\u001b[0m: Logging into wandb.ai. (Learn how to deploy a W&B server locally: https://wandb.me/wandb-server)\n",
            "\u001b[34m\u001b[1mwandb\u001b[0m: You can find your API key in your browser here: https://wandb.ai/authorize\n",
            "wandb: Paste an API key from your profile and hit enter, or press ctrl+c to quit:"
          ]
        },
        {
          "name": "stdout",
          "output_type": "stream",
          "text": [
            " ··········\n"
          ]
        },
        {
          "output_type": "stream",
          "name": "stderr",
          "text": [
            "\u001b[34m\u001b[1mwandb\u001b[0m: Appending key for api.wandb.ai to your netrc file: /root/.netrc\n"
          ]
        },
        {
          "output_type": "execute_result",
          "data": {
            "text/plain": [
              "True"
            ]
          },
          "metadata": {},
          "execution_count": 6
        }
      ]
    },
    {
      "cell_type": "code",
      "source": [
        "import torch\n",
        "print(\"GPU available:\", torch.cuda.is_available())\n",
        "print(\"Device name:\", torch.cuda.get_device_name(0) if torch.cuda.is_available() else \"CPU\")"
      ],
      "metadata": {
        "colab": {
          "base_uri": "https://localhost:8080/"
        },
        "id": "DfwNIe8cRDMe",
        "outputId": "7bf2b856-4e41-4da8-9c91-2bd971314951"
      },
      "execution_count": null,
      "outputs": [
        {
          "output_type": "stream",
          "name": "stdout",
          "text": [
            "GPU available: True\n",
            "Device name: NVIDIA A100-SXM4-40GB\n"
          ]
        }
      ]
    },
    {
      "cell_type": "code",
      "source": [
        "from ultralytics import YOLO\n",
        "\n",
        "# Load the YOLOv8l model\n",
        "model = YOLO('yolov8l.pt')  # YOLOv8 Large model\n",
        "\n",
        "# Train the model\n",
        "model.train(\n",
        "    data='/content/drive/MyDrive/lasthope/data.yaml',  # Path to your dataset config\n",
        "    epochs=50,                 # Number of epochs (adjust based on your needs)\n",
        "    batch=16,                  # Adjust based on your GPU capacity\n",
        "    imgsz=640,                 # Image size (default is 640)\n",
        "    workers=8,                 # Number of data loader workers\n",
        "    device=0                   # Use the first GPU (change if using multiple GPUs)\n",
        ")\n"
      ],
      "metadata": {
        "colab": {
          "base_uri": "https://localhost:8080/"
        },
        "id": "ZTbn43Y6RHXB",
        "outputId": "4941d880-b33d-477f-b836-7c7f1f60696b"
      },
      "execution_count": null,
      "outputs": [
        {
          "output_type": "stream",
          "name": "stdout",
          "text": [
            "Ultralytics 8.3.35 🚀 Python-3.10.12 torch-2.5.1+cu121 CUDA:0 (NVIDIA A100-SXM4-40GB, 40514MiB)\n",
            "\u001b[34m\u001b[1mengine/trainer: \u001b[0mtask=detect, mode=train, model=yolov8l.pt, data=/content/drive/MyDrive/lasthope/data.yaml, epochs=50, time=None, patience=100, batch=16, imgsz=640, save=True, save_period=-1, cache=False, device=0, workers=8, project=None, name=train2, exist_ok=False, pretrained=True, optimizer=auto, verbose=True, seed=0, deterministic=True, single_cls=False, rect=False, cos_lr=False, close_mosaic=10, resume=False, amp=True, fraction=1.0, profile=False, freeze=None, multi_scale=False, overlap_mask=True, mask_ratio=4, dropout=0.0, val=True, split=val, save_json=False, save_hybrid=False, conf=None, iou=0.7, max_det=300, half=False, dnn=False, plots=True, source=None, vid_stride=1, stream_buffer=False, visualize=False, augment=False, agnostic_nms=False, classes=None, retina_masks=False, embed=None, show=False, save_frames=False, save_txt=False, save_conf=False, save_crop=False, show_labels=True, show_conf=True, show_boxes=True, line_width=None, format=torchscript, keras=False, optimize=False, int8=False, dynamic=False, simplify=True, opset=None, workspace=4, nms=False, lr0=0.01, lrf=0.01, momentum=0.937, weight_decay=0.0005, warmup_epochs=3.0, warmup_momentum=0.8, warmup_bias_lr=0.1, box=7.5, cls=0.5, dfl=1.5, pose=12.0, kobj=1.0, label_smoothing=0.0, nbs=64, hsv_h=0.015, hsv_s=0.7, hsv_v=0.4, degrees=0.0, translate=0.1, scale=0.5, shear=0.0, perspective=0.0, flipud=0.0, fliplr=0.5, bgr=0.0, mosaic=1.0, mixup=0.0, copy_paste=0.0, copy_paste_mode=flip, auto_augment=randaugment, erasing=0.4, crop_fraction=1.0, cfg=None, tracker=botsort.yaml, save_dir=runs/detect/train2\n",
            "Overriding model.yaml nc=80 with nc=1\n",
            "\n",
            "                   from  n    params  module                                       arguments                     \n",
            "  0                  -1  1      1856  ultralytics.nn.modules.conv.Conv             [3, 64, 3, 2]                 \n",
            "  1                  -1  1     73984  ultralytics.nn.modules.conv.Conv             [64, 128, 3, 2]               \n",
            "  2                  -1  3    279808  ultralytics.nn.modules.block.C2f             [128, 128, 3, True]           \n",
            "  3                  -1  1    295424  ultralytics.nn.modules.conv.Conv             [128, 256, 3, 2]              \n",
            "  4                  -1  6   2101248  ultralytics.nn.modules.block.C2f             [256, 256, 6, True]           \n",
            "  5                  -1  1   1180672  ultralytics.nn.modules.conv.Conv             [256, 512, 3, 2]              \n",
            "  6                  -1  6   8396800  ultralytics.nn.modules.block.C2f             [512, 512, 6, True]           \n",
            "  7                  -1  1   2360320  ultralytics.nn.modules.conv.Conv             [512, 512, 3, 2]              \n",
            "  8                  -1  3   4461568  ultralytics.nn.modules.block.C2f             [512, 512, 3, True]           \n",
            "  9                  -1  1    656896  ultralytics.nn.modules.block.SPPF            [512, 512, 5]                 \n",
            " 10                  -1  1         0  torch.nn.modules.upsampling.Upsample         [None, 2, 'nearest']          \n",
            " 11             [-1, 6]  1         0  ultralytics.nn.modules.conv.Concat           [1]                           \n",
            " 12                  -1  3   4723712  ultralytics.nn.modules.block.C2f             [1024, 512, 3]                \n",
            " 13                  -1  1         0  torch.nn.modules.upsampling.Upsample         [None, 2, 'nearest']          \n",
            " 14             [-1, 4]  1         0  ultralytics.nn.modules.conv.Concat           [1]                           \n",
            " 15                  -1  3   1247744  ultralytics.nn.modules.block.C2f             [768, 256, 3]                 \n",
            " 16                  -1  1    590336  ultralytics.nn.modules.conv.Conv             [256, 256, 3, 2]              \n",
            " 17            [-1, 12]  1         0  ultralytics.nn.modules.conv.Concat           [1]                           \n",
            " 18                  -1  3   4592640  ultralytics.nn.modules.block.C2f             [768, 512, 3]                 \n",
            " 19                  -1  1   2360320  ultralytics.nn.modules.conv.Conv             [512, 512, 3, 2]              \n",
            " 20             [-1, 9]  1         0  ultralytics.nn.modules.conv.Concat           [1]                           \n",
            " 21                  -1  3   4723712  ultralytics.nn.modules.block.C2f             [1024, 512, 3]                \n",
            " 22        [15, 18, 21]  1   5583571  ultralytics.nn.modules.head.Detect           [1, [256, 512, 512]]          \n",
            "Model summary: 365 layers, 43,630,611 parameters, 43,630,595 gradients, 165.4 GFLOPs\n",
            "\n",
            "Transferred 589/595 items from pretrained weights\n",
            "\u001b[34m\u001b[1mTensorBoard: \u001b[0mStart with 'tensorboard --logdir runs/detect/train2', view at http://localhost:6006/\n",
            "Freezing layer 'model.22.dfl.conv.weight'\n",
            "\u001b[34m\u001b[1mAMP: \u001b[0mrunning Automatic Mixed Precision (AMP) checks...\n",
            "\u001b[34m\u001b[1mAMP: \u001b[0mchecks passed ✅\n"
          ]
        },
        {
          "output_type": "stream",
          "name": "stderr",
          "text": [
            "\u001b[34m\u001b[1mtrain: \u001b[0mScanning /content/drive/MyDrive/lasthope/jadide/labels... 8150 images, 0 backgrounds, 0 corrupt: 100%|██████████| 8150/8150 [06:40<00:00, 20.37it/s]\n"
          ]
        },
        {
          "output_type": "stream",
          "name": "stdout",
          "text": [
            "\u001b[34m\u001b[1mtrain: \u001b[0mNew cache created: /content/drive/MyDrive/lasthope/jadide/labels.cache\n",
            "\u001b[34m\u001b[1malbumentations: \u001b[0mBlur(p=0.01, blur_limit=(3, 7)), MedianBlur(p=0.01, blur_limit=(3, 7)), ToGray(p=0.01, num_output_channels=3, method='weighted_average'), CLAHE(p=0.01, clip_limit=(1.0, 4.0), tile_grid_size=(8, 8))\n"
          ]
        },
        {
          "output_type": "stream",
          "name": "stderr",
          "text": [
            "\u001b[34m\u001b[1mval: \u001b[0mScanning /content/drive/MyDrive/lasthope/valid/labels... 466 images, 0 backgrounds, 0 corrupt: 100%|██████████| 466/466 [00:15<00:00, 30.42it/s]\n"
          ]
        },
        {
          "output_type": "stream",
          "name": "stdout",
          "text": [
            "\u001b[34m\u001b[1mval: \u001b[0mNew cache created: /content/drive/MyDrive/lasthope/valid/labels.cache\n",
            "Plotting labels to runs/detect/train2/labels.jpg... \n",
            "\u001b[34m\u001b[1moptimizer:\u001b[0m 'optimizer=auto' found, ignoring 'lr0=0.01' and 'momentum=0.937' and determining best 'optimizer', 'lr0' and 'momentum' automatically... \n",
            "\u001b[34m\u001b[1moptimizer:\u001b[0m AdamW(lr=0.002, momentum=0.9) with parameter groups 97 weight(decay=0.0), 104 weight(decay=0.0005), 103 bias(decay=0.0)\n",
            "\u001b[34m\u001b[1mTensorBoard: \u001b[0mmodel graph visualization added ✅\n",
            "Image sizes 640 train, 640 val\n",
            "Using 8 dataloader workers\n",
            "Logging results to \u001b[1mruns/detect/train2\u001b[0m\n",
            "Starting training for 50 epochs...\n",
            "\n",
            "      Epoch    GPU_mem   box_loss   cls_loss   dfl_loss  Instances       Size\n"
          ]
        },
        {
          "output_type": "stream",
          "name": "stderr",
          "text": [
            "       1/50      12.5G      1.655      0.878      1.272        146        640: 100%|██████████| 510/510 [01:37<00:00,  5.21it/s]\n",
            "                 Class     Images  Instances      Box(P          R      mAP50  mAP50-95): 100%|██████████| 15/15 [00:04<00:00,  3.46it/s]\n"
          ]
        },
        {
          "output_type": "stream",
          "name": "stdout",
          "text": [
            "                   all        466       8312      0.597      0.791      0.566      0.265\n",
            "\n",
            "      Epoch    GPU_mem   box_loss   cls_loss   dfl_loss  Instances       Size\n"
          ]
        },
        {
          "output_type": "stream",
          "name": "stderr",
          "text": [
            "       2/50      11.8G      1.612     0.8035      1.255        173        640: 100%|██████████| 510/510 [01:32<00:00,  5.49it/s]\n",
            "                 Class     Images  Instances      Box(P          R      mAP50  mAP50-95): 100%|██████████| 15/15 [00:02<00:00,  5.33it/s]"
          ]
        },
        {
          "output_type": "stream",
          "name": "stdout",
          "text": [
            "                   all        466       8312      0.907      0.838      0.914      0.463\n"
          ]
        },
        {
          "output_type": "stream",
          "name": "stderr",
          "text": [
            "\n"
          ]
        },
        {
          "output_type": "stream",
          "name": "stdout",
          "text": [
            "\n",
            "      Epoch    GPU_mem   box_loss   cls_loss   dfl_loss  Instances       Size\n"
          ]
        },
        {
          "output_type": "stream",
          "name": "stderr",
          "text": [
            "       3/50      11.9G      1.578     0.7681      1.237        135        640: 100%|██████████| 510/510 [01:30<00:00,  5.64it/s]\n",
            "                 Class     Images  Instances      Box(P          R      mAP50  mAP50-95): 100%|██████████| 15/15 [00:02<00:00,  5.68it/s]"
          ]
        },
        {
          "output_type": "stream",
          "name": "stdout",
          "text": [
            "                   all        466       8312        0.9       0.86      0.924      0.489\n"
          ]
        },
        {
          "output_type": "stream",
          "name": "stderr",
          "text": [
            "\n"
          ]
        },
        {
          "output_type": "stream",
          "name": "stdout",
          "text": [
            "\n",
            "      Epoch    GPU_mem   box_loss   cls_loss   dfl_loss  Instances       Size\n"
          ]
        },
        {
          "output_type": "stream",
          "name": "stderr",
          "text": [
            "       4/50      11.6G      1.535     0.7367      1.217        129        640: 100%|██████████| 510/510 [01:29<00:00,  5.68it/s]\n",
            "                 Class     Images  Instances      Box(P          R      mAP50  mAP50-95): 100%|██████████| 15/15 [00:02<00:00,  5.71it/s]"
          ]
        },
        {
          "output_type": "stream",
          "name": "stdout",
          "text": [
            "                   all        466       8312      0.911      0.887      0.938      0.514\n"
          ]
        },
        {
          "output_type": "stream",
          "name": "stderr",
          "text": [
            "\n"
          ]
        },
        {
          "output_type": "stream",
          "name": "stdout",
          "text": [
            "\n",
            "      Epoch    GPU_mem   box_loss   cls_loss   dfl_loss  Instances       Size\n"
          ]
        },
        {
          "output_type": "stream",
          "name": "stderr",
          "text": [
            "       5/50      12.6G      1.494     0.7001      1.192        172        640: 100%|██████████| 510/510 [01:29<00:00,  5.70it/s]\n",
            "                 Class     Images  Instances      Box(P          R      mAP50  mAP50-95): 100%|██████████| 15/15 [00:02<00:00,  5.43it/s]"
          ]
        },
        {
          "output_type": "stream",
          "name": "stdout",
          "text": [
            "                   all        466       8312      0.909      0.893       0.94      0.511\n"
          ]
        },
        {
          "output_type": "stream",
          "name": "stderr",
          "text": [
            "\n"
          ]
        },
        {
          "output_type": "stream",
          "name": "stdout",
          "text": [
            "\n",
            "      Epoch    GPU_mem   box_loss   cls_loss   dfl_loss  Instances       Size\n"
          ]
        },
        {
          "output_type": "stream",
          "name": "stderr",
          "text": [
            "       6/50      12.2G      1.482     0.6877      1.192        188        640: 100%|██████████| 510/510 [01:29<00:00,  5.70it/s]\n",
            "                 Class     Images  Instances      Box(P          R      mAP50  mAP50-95): 100%|██████████| 15/15 [00:02<00:00,  5.25it/s]"
          ]
        },
        {
          "output_type": "stream",
          "name": "stdout",
          "text": [
            "                   all        466       8312      0.926       0.89      0.952       0.53\n"
          ]
        },
        {
          "output_type": "stream",
          "name": "stderr",
          "text": [
            "\n"
          ]
        },
        {
          "output_type": "stream",
          "name": "stdout",
          "text": [
            "\n",
            "      Epoch    GPU_mem   box_loss   cls_loss   dfl_loss  Instances       Size\n"
          ]
        },
        {
          "output_type": "stream",
          "name": "stderr",
          "text": [
            "       7/50      12.6G      1.455     0.6696      1.174        227        640: 100%|██████████| 510/510 [01:29<00:00,  5.68it/s]\n",
            "                 Class     Images  Instances      Box(P          R      mAP50  mAP50-95): 100%|██████████| 15/15 [00:02<00:00,  5.71it/s]"
          ]
        },
        {
          "output_type": "stream",
          "name": "stdout",
          "text": [
            "                   all        466       8312      0.921      0.897       0.95      0.515\n"
          ]
        },
        {
          "output_type": "stream",
          "name": "stderr",
          "text": [
            "\n"
          ]
        },
        {
          "output_type": "stream",
          "name": "stdout",
          "text": [
            "\n",
            "      Epoch    GPU_mem   box_loss   cls_loss   dfl_loss  Instances       Size\n"
          ]
        },
        {
          "output_type": "stream",
          "name": "stderr",
          "text": [
            "       8/50      12.7G      1.441     0.6573      1.169        293        640: 100%|██████████| 510/510 [01:29<00:00,  5.71it/s]\n",
            "                 Class     Images  Instances      Box(P          R      mAP50  mAP50-95): 100%|██████████| 15/15 [00:02<00:00,  5.69it/s]"
          ]
        },
        {
          "output_type": "stream",
          "name": "stdout",
          "text": [
            "                   all        466       8312      0.924        0.9      0.951      0.527\n"
          ]
        },
        {
          "output_type": "stream",
          "name": "stderr",
          "text": [
            "\n"
          ]
        },
        {
          "output_type": "stream",
          "name": "stdout",
          "text": [
            "\n",
            "      Epoch    GPU_mem   box_loss   cls_loss   dfl_loss  Instances       Size\n"
          ]
        },
        {
          "output_type": "stream",
          "name": "stderr",
          "text": [
            "       9/50      12.6G      1.428     0.6504      1.162        144        640: 100%|██████████| 510/510 [01:29<00:00,  5.71it/s]\n",
            "                 Class     Images  Instances      Box(P          R      mAP50  mAP50-95): 100%|██████████| 15/15 [00:02<00:00,  5.45it/s]"
          ]
        },
        {
          "output_type": "stream",
          "name": "stdout",
          "text": [
            "                   all        466       8312      0.923      0.901      0.951      0.538\n"
          ]
        },
        {
          "output_type": "stream",
          "name": "stderr",
          "text": [
            "\n"
          ]
        },
        {
          "output_type": "stream",
          "name": "stdout",
          "text": [
            "\n",
            "      Epoch    GPU_mem   box_loss   cls_loss   dfl_loss  Instances       Size\n"
          ]
        },
        {
          "output_type": "stream",
          "name": "stderr",
          "text": [
            "      10/50      12.1G      1.404     0.6348      1.149        185        640: 100%|██████████| 510/510 [01:29<00:00,  5.70it/s]\n",
            "                 Class     Images  Instances      Box(P          R      mAP50  mAP50-95): 100%|██████████| 15/15 [00:02<00:00,  5.43it/s]"
          ]
        },
        {
          "output_type": "stream",
          "name": "stdout",
          "text": [
            "                   all        466       8312      0.928      0.903      0.953      0.544\n"
          ]
        },
        {
          "output_type": "stream",
          "name": "stderr",
          "text": [
            "\n"
          ]
        },
        {
          "output_type": "stream",
          "name": "stdout",
          "text": [
            "\n",
            "      Epoch    GPU_mem   box_loss   cls_loss   dfl_loss  Instances       Size\n"
          ]
        },
        {
          "output_type": "stream",
          "name": "stderr",
          "text": [
            "      11/50      12.1G      1.397     0.6273      1.149        163        640: 100%|██████████| 510/510 [01:29<00:00,  5.71it/s]\n",
            "                 Class     Images  Instances      Box(P          R      mAP50  mAP50-95): 100%|██████████| 15/15 [00:02<00:00,  5.59it/s]"
          ]
        },
        {
          "output_type": "stream",
          "name": "stdout",
          "text": [
            "                   all        466       8312      0.926      0.898      0.952      0.527\n"
          ]
        },
        {
          "output_type": "stream",
          "name": "stderr",
          "text": [
            "\n"
          ]
        },
        {
          "output_type": "stream",
          "name": "stdout",
          "text": [
            "\n",
            "      Epoch    GPU_mem   box_loss   cls_loss   dfl_loss  Instances       Size\n"
          ]
        },
        {
          "output_type": "stream",
          "name": "stderr",
          "text": [
            "      12/50      11.5G      1.379     0.6174       1.14        170        640: 100%|██████████| 510/510 [01:29<00:00,  5.70it/s]\n",
            "                 Class     Images  Instances      Box(P          R      mAP50  mAP50-95): 100%|██████████| 15/15 [00:02<00:00,  5.72it/s]"
          ]
        },
        {
          "output_type": "stream",
          "name": "stdout",
          "text": [
            "                   all        466       8312      0.925      0.904      0.953      0.547\n"
          ]
        },
        {
          "output_type": "stream",
          "name": "stderr",
          "text": [
            "\n"
          ]
        },
        {
          "output_type": "stream",
          "name": "stdout",
          "text": [
            "\n",
            "      Epoch    GPU_mem   box_loss   cls_loss   dfl_loss  Instances       Size\n"
          ]
        },
        {
          "output_type": "stream",
          "name": "stderr",
          "text": [
            "      13/50      12.1G      1.379     0.6141      1.133        209        640: 100%|██████████| 510/510 [01:29<00:00,  5.69it/s]\n",
            "                 Class     Images  Instances      Box(P          R      mAP50  mAP50-95): 100%|██████████| 15/15 [00:02<00:00,  5.52it/s]"
          ]
        },
        {
          "output_type": "stream",
          "name": "stdout",
          "text": [
            "                   all        466       8312      0.919      0.913      0.953      0.544\n"
          ]
        },
        {
          "output_type": "stream",
          "name": "stderr",
          "text": [
            "\n"
          ]
        },
        {
          "output_type": "stream",
          "name": "stdout",
          "text": [
            "\n",
            "      Epoch    GPU_mem   box_loss   cls_loss   dfl_loss  Instances       Size\n"
          ]
        },
        {
          "output_type": "stream",
          "name": "stderr",
          "text": [
            "      14/50      11.7G      1.357     0.6032      1.131        132        640: 100%|██████████| 510/510 [01:29<00:00,  5.71it/s]\n",
            "                 Class     Images  Instances      Box(P          R      mAP50  mAP50-95): 100%|██████████| 15/15 [00:02<00:00,  5.54it/s]"
          ]
        },
        {
          "output_type": "stream",
          "name": "stdout",
          "text": [
            "                   all        466       8312      0.922      0.911      0.956      0.543\n"
          ]
        },
        {
          "output_type": "stream",
          "name": "stderr",
          "text": [
            "\n"
          ]
        },
        {
          "output_type": "stream",
          "name": "stdout",
          "text": [
            "\n",
            "      Epoch    GPU_mem   box_loss   cls_loss   dfl_loss  Instances       Size\n"
          ]
        },
        {
          "output_type": "stream",
          "name": "stderr",
          "text": [
            "      15/50      12.7G      1.341      0.597      1.118        249        640: 100%|██████████| 510/510 [01:29<00:00,  5.71it/s]\n",
            "                 Class     Images  Instances      Box(P          R      mAP50  mAP50-95): 100%|██████████| 15/15 [00:02<00:00,  5.49it/s]"
          ]
        },
        {
          "output_type": "stream",
          "name": "stdout",
          "text": [
            "                   all        466       8312      0.917      0.912      0.955      0.547\n"
          ]
        },
        {
          "output_type": "stream",
          "name": "stderr",
          "text": [
            "\n"
          ]
        },
        {
          "output_type": "stream",
          "name": "stdout",
          "text": [
            "\n",
            "      Epoch    GPU_mem   box_loss   cls_loss   dfl_loss  Instances       Size\n"
          ]
        },
        {
          "output_type": "stream",
          "name": "stderr",
          "text": [
            "      16/50      12.3G      1.339     0.5923      1.116        210        640: 100%|██████████| 510/510 [01:29<00:00,  5.69it/s]\n",
            "                 Class     Images  Instances      Box(P          R      mAP50  mAP50-95): 100%|██████████| 15/15 [00:02<00:00,  5.69it/s]"
          ]
        },
        {
          "output_type": "stream",
          "name": "stdout",
          "text": [
            "                   all        466       8312      0.922      0.904      0.952      0.542\n"
          ]
        },
        {
          "output_type": "stream",
          "name": "stderr",
          "text": [
            "\n"
          ]
        },
        {
          "output_type": "stream",
          "name": "stdout",
          "text": [
            "\n",
            "      Epoch    GPU_mem   box_loss   cls_loss   dfl_loss  Instances       Size\n"
          ]
        },
        {
          "output_type": "stream",
          "name": "stderr",
          "text": [
            "      17/50      12.5G      1.323     0.5835      1.105        116        640: 100%|██████████| 510/510 [01:29<00:00,  5.71it/s]\n",
            "                 Class     Images  Instances      Box(P          R      mAP50  mAP50-95): 100%|██████████| 15/15 [00:02<00:00,  5.60it/s]"
          ]
        },
        {
          "output_type": "stream",
          "name": "stdout",
          "text": [
            "                   all        466       8312      0.925       0.91      0.956      0.547\n"
          ]
        },
        {
          "output_type": "stream",
          "name": "stderr",
          "text": [
            "\n"
          ]
        },
        {
          "output_type": "stream",
          "name": "stdout",
          "text": [
            "\n",
            "      Epoch    GPU_mem   box_loss   cls_loss   dfl_loss  Instances       Size\n"
          ]
        },
        {
          "output_type": "stream",
          "name": "stderr",
          "text": [
            "      18/50      12.4G      1.312     0.5764        1.1        194        640: 100%|██████████| 510/510 [01:29<00:00,  5.70it/s]\n",
            "                 Class     Images  Instances      Box(P          R      mAP50  mAP50-95): 100%|██████████| 15/15 [00:02<00:00,  5.46it/s]"
          ]
        },
        {
          "output_type": "stream",
          "name": "stdout",
          "text": [
            "                   all        466       8312      0.919      0.914      0.957      0.539\n"
          ]
        },
        {
          "output_type": "stream",
          "name": "stderr",
          "text": [
            "\n"
          ]
        },
        {
          "output_type": "stream",
          "name": "stdout",
          "text": [
            "\n",
            "      Epoch    GPU_mem   box_loss   cls_loss   dfl_loss  Instances       Size\n"
          ]
        },
        {
          "output_type": "stream",
          "name": "stderr",
          "text": [
            "      19/50      13.1G      1.295     0.5721        1.1        149        640: 100%|██████████| 510/510 [01:29<00:00,  5.68it/s]\n",
            "                 Class     Images  Instances      Box(P          R      mAP50  mAP50-95): 100%|██████████| 15/15 [00:02<00:00,  5.39it/s]"
          ]
        },
        {
          "output_type": "stream",
          "name": "stdout",
          "text": [
            "                   all        466       8312      0.924      0.915      0.957      0.553\n"
          ]
        },
        {
          "output_type": "stream",
          "name": "stderr",
          "text": [
            "\n"
          ]
        },
        {
          "output_type": "stream",
          "name": "stdout",
          "text": [
            "\n",
            "      Epoch    GPU_mem   box_loss   cls_loss   dfl_loss  Instances       Size\n"
          ]
        },
        {
          "output_type": "stream",
          "name": "stderr",
          "text": [
            "      20/50      11.5G      1.284      0.563      1.096        198        640: 100%|██████████| 510/510 [01:29<00:00,  5.69it/s]\n",
            "                 Class     Images  Instances      Box(P          R      mAP50  mAP50-95): 100%|██████████| 15/15 [00:02<00:00,  5.83it/s]"
          ]
        },
        {
          "output_type": "stream",
          "name": "stdout",
          "text": [
            "                   all        466       8312      0.923      0.906      0.951      0.535\n"
          ]
        },
        {
          "output_type": "stream",
          "name": "stderr",
          "text": [
            "\n"
          ]
        },
        {
          "output_type": "stream",
          "name": "stdout",
          "text": [
            "\n",
            "      Epoch    GPU_mem   box_loss   cls_loss   dfl_loss  Instances       Size\n"
          ]
        },
        {
          "output_type": "stream",
          "name": "stderr",
          "text": [
            "      21/50      12.2G      1.271     0.5599      1.085        157        640: 100%|██████████| 510/510 [01:29<00:00,  5.71it/s]\n",
            "                 Class     Images  Instances      Box(P          R      mAP50  mAP50-95): 100%|██████████| 15/15 [00:02<00:00,  5.60it/s]"
          ]
        },
        {
          "output_type": "stream",
          "name": "stdout",
          "text": [
            "                   all        466       8312      0.919      0.916      0.957       0.54\n"
          ]
        },
        {
          "output_type": "stream",
          "name": "stderr",
          "text": [
            "\n"
          ]
        },
        {
          "output_type": "stream",
          "name": "stdout",
          "text": [
            "\n",
            "      Epoch    GPU_mem   box_loss   cls_loss   dfl_loss  Instances       Size\n"
          ]
        },
        {
          "output_type": "stream",
          "name": "stderr",
          "text": [
            "      22/50      12.7G       1.26     0.5543      1.082        211        640: 100%|██████████| 510/510 [01:29<00:00,  5.69it/s]\n",
            "                 Class     Images  Instances      Box(P          R      mAP50  mAP50-95): 100%|██████████| 15/15 [00:02<00:00,  5.47it/s]"
          ]
        },
        {
          "output_type": "stream",
          "name": "stdout",
          "text": [
            "                   all        466       8312      0.926      0.913      0.958      0.553\n"
          ]
        },
        {
          "output_type": "stream",
          "name": "stderr",
          "text": [
            "\n"
          ]
        },
        {
          "output_type": "stream",
          "name": "stdout",
          "text": [
            "\n",
            "      Epoch    GPU_mem   box_loss   cls_loss   dfl_loss  Instances       Size\n"
          ]
        },
        {
          "output_type": "stream",
          "name": "stderr",
          "text": [
            "      23/50      12.3G      1.249     0.5462      1.074        240        640: 100%|██████████| 510/510 [01:29<00:00,  5.70it/s]\n",
            "                 Class     Images  Instances      Box(P          R      mAP50  mAP50-95): 100%|██████████| 15/15 [00:02<00:00,  5.41it/s]"
          ]
        },
        {
          "output_type": "stream",
          "name": "stdout",
          "text": [
            "                   all        466       8312      0.929      0.908      0.958       0.55\n"
          ]
        },
        {
          "output_type": "stream",
          "name": "stderr",
          "text": [
            "\n"
          ]
        },
        {
          "output_type": "stream",
          "name": "stdout",
          "text": [
            "\n",
            "      Epoch    GPU_mem   box_loss   cls_loss   dfl_loss  Instances       Size\n"
          ]
        },
        {
          "output_type": "stream",
          "name": "stderr",
          "text": [
            "      24/50      12.4G      1.235     0.5396      1.069        279        640: 100%|██████████| 510/510 [01:29<00:00,  5.69it/s]\n",
            "                 Class     Images  Instances      Box(P          R      mAP50  mAP50-95): 100%|██████████| 15/15 [00:02<00:00,  5.61it/s]"
          ]
        },
        {
          "output_type": "stream",
          "name": "stdout",
          "text": [
            "                   all        466       8312      0.921      0.909      0.951      0.538\n"
          ]
        },
        {
          "output_type": "stream",
          "name": "stderr",
          "text": [
            "\n"
          ]
        },
        {
          "output_type": "stream",
          "name": "stdout",
          "text": [
            "\n",
            "      Epoch    GPU_mem   box_loss   cls_loss   dfl_loss  Instances       Size\n"
          ]
        },
        {
          "output_type": "stream",
          "name": "stderr",
          "text": [
            "      25/50        12G      1.224     0.5375      1.064        355        640: 100%|██████████| 510/510 [01:29<00:00,  5.68it/s]\n",
            "                 Class     Images  Instances      Box(P          R      mAP50  mAP50-95): 100%|██████████| 15/15 [00:02<00:00,  5.66it/s]"
          ]
        },
        {
          "output_type": "stream",
          "name": "stdout",
          "text": [
            "                   all        466       8312       0.92      0.919      0.955      0.543\n"
          ]
        },
        {
          "output_type": "stream",
          "name": "stderr",
          "text": [
            "\n"
          ]
        },
        {
          "output_type": "stream",
          "name": "stdout",
          "text": [
            "\n",
            "      Epoch    GPU_mem   box_loss   cls_loss   dfl_loss  Instances       Size\n"
          ]
        },
        {
          "output_type": "stream",
          "name": "stderr",
          "text": [
            "      26/50      12.1G      1.215     0.5315      1.064        100        640: 100%|██████████| 510/510 [01:29<00:00,  5.69it/s]\n",
            "                 Class     Images  Instances      Box(P          R      mAP50  mAP50-95): 100%|██████████| 15/15 [00:02<00:00,  5.37it/s]"
          ]
        },
        {
          "output_type": "stream",
          "name": "stdout",
          "text": [
            "                   all        466       8312       0.93      0.911      0.955      0.542\n"
          ]
        },
        {
          "output_type": "stream",
          "name": "stderr",
          "text": [
            "\n"
          ]
        },
        {
          "output_type": "stream",
          "name": "stdout",
          "text": [
            "\n",
            "      Epoch    GPU_mem   box_loss   cls_loss   dfl_loss  Instances       Size\n"
          ]
        },
        {
          "output_type": "stream",
          "name": "stderr",
          "text": [
            "      27/50      11.9G        1.2     0.5247      1.053        248        640: 100%|██████████| 510/510 [01:29<00:00,  5.69it/s]\n",
            "                 Class     Images  Instances      Box(P          R      mAP50  mAP50-95): 100%|██████████| 15/15 [00:02<00:00,  5.38it/s]"
          ]
        },
        {
          "output_type": "stream",
          "name": "stdout",
          "text": [
            "                   all        466       8312      0.922      0.916      0.957      0.547\n"
          ]
        },
        {
          "output_type": "stream",
          "name": "stderr",
          "text": [
            "\n"
          ]
        },
        {
          "output_type": "stream",
          "name": "stdout",
          "text": [
            "\n",
            "      Epoch    GPU_mem   box_loss   cls_loss   dfl_loss  Instances       Size\n"
          ]
        },
        {
          "output_type": "stream",
          "name": "stderr",
          "text": [
            "      28/50      12.6G      1.184     0.5168      1.047        206        640: 100%|██████████| 510/510 [01:29<00:00,  5.69it/s]\n",
            "                 Class     Images  Instances      Box(P          R      mAP50  mAP50-95): 100%|██████████| 15/15 [00:02<00:00,  5.68it/s]"
          ]
        },
        {
          "output_type": "stream",
          "name": "stdout",
          "text": [
            "                   all        466       8312      0.929      0.913      0.957      0.545\n"
          ]
        },
        {
          "output_type": "stream",
          "name": "stderr",
          "text": [
            "\n"
          ]
        },
        {
          "output_type": "stream",
          "name": "stdout",
          "text": [
            "\n",
            "      Epoch    GPU_mem   box_loss   cls_loss   dfl_loss  Instances       Size\n"
          ]
        },
        {
          "output_type": "stream",
          "name": "stderr",
          "text": [
            "      29/50        12G      1.171     0.5134      1.046        129        640: 100%|██████████| 510/510 [01:29<00:00,  5.70it/s]\n",
            "                 Class     Images  Instances      Box(P          R      mAP50  mAP50-95): 100%|██████████| 15/15 [00:02<00:00,  5.59it/s]"
          ]
        },
        {
          "output_type": "stream",
          "name": "stdout",
          "text": [
            "                   all        466       8312      0.924      0.918      0.958      0.544\n"
          ]
        },
        {
          "output_type": "stream",
          "name": "stderr",
          "text": [
            "\n"
          ]
        },
        {
          "output_type": "stream",
          "name": "stdout",
          "text": [
            "\n",
            "      Epoch    GPU_mem   box_loss   cls_loss   dfl_loss  Instances       Size\n"
          ]
        },
        {
          "output_type": "stream",
          "name": "stderr",
          "text": [
            "      30/50      12.5G       1.16     0.5075      1.039        138        640: 100%|██████████| 510/510 [01:29<00:00,  5.69it/s]\n",
            "                 Class     Images  Instances      Box(P          R      mAP50  mAP50-95): 100%|██████████| 15/15 [00:02<00:00,  5.40it/s]"
          ]
        },
        {
          "output_type": "stream",
          "name": "stdout",
          "text": [
            "                   all        466       8312      0.925      0.908      0.954      0.542\n"
          ]
        },
        {
          "output_type": "stream",
          "name": "stderr",
          "text": [
            "\n"
          ]
        },
        {
          "output_type": "stream",
          "name": "stdout",
          "text": [
            "\n",
            "      Epoch    GPU_mem   box_loss   cls_loss   dfl_loss  Instances       Size\n"
          ]
        },
        {
          "output_type": "stream",
          "name": "stderr",
          "text": [
            "      31/50      11.8G       1.15     0.5024      1.034        175        640: 100%|██████████| 510/510 [01:29<00:00,  5.69it/s]\n",
            "                 Class     Images  Instances      Box(P          R      mAP50  mAP50-95): 100%|██████████| 15/15 [00:02<00:00,  5.40it/s]"
          ]
        },
        {
          "output_type": "stream",
          "name": "stdout",
          "text": [
            "                   all        466       8312      0.926       0.91      0.954      0.542\n"
          ]
        },
        {
          "output_type": "stream",
          "name": "stderr",
          "text": [
            "\n"
          ]
        },
        {
          "output_type": "stream",
          "name": "stdout",
          "text": [
            "\n",
            "      Epoch    GPU_mem   box_loss   cls_loss   dfl_loss  Instances       Size\n"
          ]
        },
        {
          "output_type": "stream",
          "name": "stderr",
          "text": [
            "      32/50      12.2G      1.136     0.4969      1.026        149        640: 100%|██████████| 510/510 [01:29<00:00,  5.68it/s]\n",
            "                 Class     Images  Instances      Box(P          R      mAP50  mAP50-95): 100%|██████████| 15/15 [00:02<00:00,  5.63it/s]"
          ]
        },
        {
          "output_type": "stream",
          "name": "stdout",
          "text": [
            "                   all        466       8312      0.921      0.916      0.955      0.546\n"
          ]
        },
        {
          "output_type": "stream",
          "name": "stderr",
          "text": [
            "\n"
          ]
        },
        {
          "output_type": "stream",
          "name": "stdout",
          "text": [
            "\n",
            "      Epoch    GPU_mem   box_loss   cls_loss   dfl_loss  Instances       Size\n"
          ]
        },
        {
          "output_type": "stream",
          "name": "stderr",
          "text": [
            "      33/50      12.4G      1.121     0.4925      1.023        283        640: 100%|██████████| 510/510 [01:29<00:00,  5.70it/s]\n",
            "                 Class     Images  Instances      Box(P          R      mAP50  mAP50-95): 100%|██████████| 15/15 [00:02<00:00,  5.70it/s]"
          ]
        },
        {
          "output_type": "stream",
          "name": "stdout",
          "text": [
            "                   all        466       8312      0.925      0.912      0.954      0.543\n"
          ]
        },
        {
          "output_type": "stream",
          "name": "stderr",
          "text": [
            "\n"
          ]
        },
        {
          "output_type": "stream",
          "name": "stdout",
          "text": [
            "\n",
            "      Epoch    GPU_mem   box_loss   cls_loss   dfl_loss  Instances       Size\n"
          ]
        },
        {
          "output_type": "stream",
          "name": "stderr",
          "text": [
            "      34/50      11.9G      1.109     0.4866      1.019        261        640: 100%|██████████| 510/510 [01:29<00:00,  5.69it/s]\n",
            "                 Class     Images  Instances      Box(P          R      mAP50  mAP50-95): 100%|██████████| 15/15 [00:02<00:00,  5.38it/s]"
          ]
        },
        {
          "output_type": "stream",
          "name": "stdout",
          "text": [
            "                   all        466       8312      0.922      0.912      0.953      0.539\n"
          ]
        },
        {
          "output_type": "stream",
          "name": "stderr",
          "text": [
            "\n"
          ]
        },
        {
          "output_type": "stream",
          "name": "stdout",
          "text": [
            "\n",
            "      Epoch    GPU_mem   box_loss   cls_loss   dfl_loss  Instances       Size\n"
          ]
        },
        {
          "output_type": "stream",
          "name": "stderr",
          "text": [
            "      35/50        12G      1.093     0.4806      1.012        360        640: 100%|██████████| 510/510 [01:29<00:00,  5.69it/s]\n",
            "                 Class     Images  Instances      Box(P          R      mAP50  mAP50-95): 100%|██████████| 15/15 [00:02<00:00,  5.48it/s]"
          ]
        },
        {
          "output_type": "stream",
          "name": "stdout",
          "text": [
            "                   all        466       8312      0.925      0.913      0.954      0.539\n"
          ]
        },
        {
          "output_type": "stream",
          "name": "stderr",
          "text": [
            "\n"
          ]
        },
        {
          "output_type": "stream",
          "name": "stdout",
          "text": [
            "\n",
            "      Epoch    GPU_mem   box_loss   cls_loss   dfl_loss  Instances       Size\n"
          ]
        },
        {
          "output_type": "stream",
          "name": "stderr",
          "text": [
            "      36/50      11.4G      1.086     0.4754      1.003        186        640: 100%|██████████| 510/510 [01:29<00:00,  5.70it/s]\n",
            "                 Class     Images  Instances      Box(P          R      mAP50  mAP50-95): 100%|██████████| 15/15 [00:02<00:00,  5.69it/s]"
          ]
        },
        {
          "output_type": "stream",
          "name": "stdout",
          "text": [
            "                   all        466       8312      0.924      0.911      0.952      0.538\n"
          ]
        },
        {
          "output_type": "stream",
          "name": "stderr",
          "text": [
            "\n"
          ]
        },
        {
          "output_type": "stream",
          "name": "stdout",
          "text": [
            "\n",
            "      Epoch    GPU_mem   box_loss   cls_loss   dfl_loss  Instances       Size\n"
          ]
        },
        {
          "output_type": "stream",
          "name": "stderr",
          "text": [
            "      37/50      11.9G      1.072     0.4708     0.9992        179        640: 100%|██████████| 510/510 [01:29<00:00,  5.69it/s]\n",
            "                 Class     Images  Instances      Box(P          R      mAP50  mAP50-95): 100%|██████████| 15/15 [00:02<00:00,  5.58it/s]"
          ]
        },
        {
          "output_type": "stream",
          "name": "stdout",
          "text": [
            "                   all        466       8312      0.923      0.914      0.954      0.541\n"
          ]
        },
        {
          "output_type": "stream",
          "name": "stderr",
          "text": [
            "\n"
          ]
        },
        {
          "output_type": "stream",
          "name": "stdout",
          "text": [
            "\n",
            "      Epoch    GPU_mem   box_loss   cls_loss   dfl_loss  Instances       Size\n"
          ]
        },
        {
          "output_type": "stream",
          "name": "stderr",
          "text": [
            "      38/50      12.6G      1.057      0.465     0.9974        227        640: 100%|██████████| 510/510 [01:29<00:00,  5.69it/s]\n",
            "                 Class     Images  Instances      Box(P          R      mAP50  mAP50-95): 100%|██████████| 15/15 [00:02<00:00,  5.55it/s]"
          ]
        },
        {
          "output_type": "stream",
          "name": "stdout",
          "text": [
            "                   all        466       8312      0.923      0.914      0.954       0.54\n"
          ]
        },
        {
          "output_type": "stream",
          "name": "stderr",
          "text": [
            "\n"
          ]
        },
        {
          "output_type": "stream",
          "name": "stdout",
          "text": [
            "\n",
            "      Epoch    GPU_mem   box_loss   cls_loss   dfl_loss  Instances       Size\n"
          ]
        },
        {
          "output_type": "stream",
          "name": "stderr",
          "text": [
            "      39/50      11.9G      1.045     0.4611     0.9939        190        640: 100%|██████████| 510/510 [01:29<00:00,  5.70it/s]\n",
            "                 Class     Images  Instances      Box(P          R      mAP50  mAP50-95): 100%|██████████| 15/15 [00:02<00:00,  5.44it/s]"
          ]
        },
        {
          "output_type": "stream",
          "name": "stdout",
          "text": [
            "                   all        466       8312      0.921      0.915      0.954      0.539\n"
          ]
        },
        {
          "output_type": "stream",
          "name": "stderr",
          "text": [
            "\n"
          ]
        },
        {
          "output_type": "stream",
          "name": "stdout",
          "text": [
            "\n",
            "      Epoch    GPU_mem   box_loss   cls_loss   dfl_loss  Instances       Size\n"
          ]
        },
        {
          "output_type": "stream",
          "name": "stderr",
          "text": [
            "      40/50      12.1G      1.034     0.4556     0.9837        170        640: 100%|██████████| 510/510 [01:29<00:00,  5.69it/s]\n",
            "                 Class     Images  Instances      Box(P          R      mAP50  mAP50-95): 100%|██████████| 15/15 [00:02<00:00,  5.63it/s]"
          ]
        },
        {
          "output_type": "stream",
          "name": "stdout",
          "text": [
            "                   all        466       8312      0.928      0.908      0.953      0.541\n"
          ]
        },
        {
          "output_type": "stream",
          "name": "stderr",
          "text": [
            "\n"
          ]
        },
        {
          "output_type": "stream",
          "name": "stdout",
          "text": [
            "Closing dataloader mosaic\n",
            "\u001b[34m\u001b[1malbumentations: \u001b[0mBlur(p=0.01, blur_limit=(3, 7)), MedianBlur(p=0.01, blur_limit=(3, 7)), ToGray(p=0.01, num_output_channels=3, method='weighted_average'), CLAHE(p=0.01, clip_limit=(1.0, 4.0), tile_grid_size=(8, 8))\n",
            "\n",
            "      Epoch    GPU_mem   box_loss   cls_loss   dfl_loss  Instances       Size\n"
          ]
        },
        {
          "output_type": "stream",
          "name": "stderr",
          "text": [
            "      41/50      10.9G      1.031     0.4267     0.9991         65        640: 100%|██████████| 510/510 [01:30<00:00,  5.62it/s]\n",
            "                 Class     Images  Instances      Box(P          R      mAP50  mAP50-95): 100%|██████████| 15/15 [00:02<00:00,  5.59it/s]"
          ]
        },
        {
          "output_type": "stream",
          "name": "stdout",
          "text": [
            "                   all        466       8312      0.925       0.91      0.954      0.539\n"
          ]
        },
        {
          "output_type": "stream",
          "name": "stderr",
          "text": [
            "\n"
          ]
        },
        {
          "output_type": "stream",
          "name": "stdout",
          "text": [
            "\n",
            "      Epoch    GPU_mem   box_loss   cls_loss   dfl_loss  Instances       Size\n"
          ]
        },
        {
          "output_type": "stream",
          "name": "stderr",
          "text": [
            "      42/50      11.3G      1.005     0.4172     0.9887         47        640: 100%|██████████| 510/510 [01:28<00:00,  5.75it/s]\n",
            "                 Class     Images  Instances      Box(P          R      mAP50  mAP50-95): 100%|██████████| 15/15 [00:02<00:00,  5.36it/s]"
          ]
        },
        {
          "output_type": "stream",
          "name": "stdout",
          "text": [
            "                   all        466       8312      0.921       0.91      0.952      0.542\n"
          ]
        },
        {
          "output_type": "stream",
          "name": "stderr",
          "text": [
            "\n"
          ]
        },
        {
          "output_type": "stream",
          "name": "stdout",
          "text": [
            "\n",
            "      Epoch    GPU_mem   box_loss   cls_loss   dfl_loss  Instances       Size\n"
          ]
        },
        {
          "output_type": "stream",
          "name": "stderr",
          "text": [
            "      43/50      11.2G     0.9885     0.4116      0.978         91        640: 100%|██████████| 510/510 [01:28<00:00,  5.75it/s]\n",
            "                 Class     Images  Instances      Box(P          R      mAP50  mAP50-95): 100%|██████████| 15/15 [00:02<00:00,  5.37it/s]"
          ]
        },
        {
          "output_type": "stream",
          "name": "stdout",
          "text": [
            "                   all        466       8312      0.931      0.906      0.953      0.544\n"
          ]
        },
        {
          "output_type": "stream",
          "name": "stderr",
          "text": [
            "\n"
          ]
        },
        {
          "output_type": "stream",
          "name": "stdout",
          "text": [
            "\n",
            "      Epoch    GPU_mem   box_loss   cls_loss   dfl_loss  Instances       Size\n"
          ]
        },
        {
          "output_type": "stream",
          "name": "stderr",
          "text": [
            "      44/50      11.3G     0.9699     0.4055     0.9719         63        640: 100%|██████████| 510/510 [01:28<00:00,  5.76it/s]\n",
            "                 Class     Images  Instances      Box(P          R      mAP50  mAP50-95): 100%|██████████| 15/15 [00:02<00:00,  5.65it/s]"
          ]
        },
        {
          "output_type": "stream",
          "name": "stdout",
          "text": [
            "                   all        466       8312      0.924      0.913      0.953      0.543\n"
          ]
        },
        {
          "output_type": "stream",
          "name": "stderr",
          "text": [
            "\n"
          ]
        },
        {
          "output_type": "stream",
          "name": "stdout",
          "text": [
            "\n",
            "      Epoch    GPU_mem   box_loss   cls_loss   dfl_loss  Instances       Size\n"
          ]
        },
        {
          "output_type": "stream",
          "name": "stderr",
          "text": [
            "      45/50      11.2G     0.9556     0.4005     0.9688         66        640: 100%|██████████| 510/510 [01:28<00:00,  5.75it/s]\n",
            "                 Class     Images  Instances      Box(P          R      mAP50  mAP50-95): 100%|██████████| 15/15 [00:02<00:00,  5.71it/s]"
          ]
        },
        {
          "output_type": "stream",
          "name": "stdout",
          "text": [
            "                   all        466       8312      0.926      0.907      0.953      0.544\n"
          ]
        },
        {
          "output_type": "stream",
          "name": "stderr",
          "text": [
            "\n"
          ]
        },
        {
          "output_type": "stream",
          "name": "stdout",
          "text": [
            "\n",
            "      Epoch    GPU_mem   box_loss   cls_loss   dfl_loss  Instances       Size\n"
          ]
        },
        {
          "output_type": "stream",
          "name": "stderr",
          "text": [
            "      46/50      11.3G     0.9414     0.3949     0.9622        104        640: 100%|██████████| 510/510 [01:29<00:00,  5.73it/s]\n",
            "                 Class     Images  Instances      Box(P          R      mAP50  mAP50-95): 100%|██████████| 15/15 [00:02<00:00,  5.58it/s]"
          ]
        },
        {
          "output_type": "stream",
          "name": "stdout",
          "text": [
            "                   all        466       8312      0.926       0.91      0.953      0.543\n"
          ]
        },
        {
          "output_type": "stream",
          "name": "stderr",
          "text": [
            "\n"
          ]
        },
        {
          "output_type": "stream",
          "name": "stdout",
          "text": [
            "\n",
            "      Epoch    GPU_mem   box_loss   cls_loss   dfl_loss  Instances       Size\n"
          ]
        },
        {
          "output_type": "stream",
          "name": "stderr",
          "text": [
            "      47/50      11.3G     0.9305     0.3906     0.9555        143        640: 100%|██████████| 510/510 [01:28<00:00,  5.76it/s]\n",
            "                 Class     Images  Instances      Box(P          R      mAP50  mAP50-95): 100%|██████████| 15/15 [00:02<00:00,  5.44it/s]"
          ]
        },
        {
          "output_type": "stream",
          "name": "stdout",
          "text": [
            "                   all        466       8312      0.924      0.912      0.952      0.542\n"
          ]
        },
        {
          "output_type": "stream",
          "name": "stderr",
          "text": [
            "\n"
          ]
        },
        {
          "output_type": "stream",
          "name": "stdout",
          "text": [
            "\n",
            "      Epoch    GPU_mem   box_loss   cls_loss   dfl_loss  Instances       Size\n"
          ]
        },
        {
          "output_type": "stream",
          "name": "stderr",
          "text": [
            "      48/50        11G     0.9159     0.3869     0.9496         64        640: 100%|██████████| 510/510 [01:28<00:00,  5.75it/s]\n",
            "                 Class     Images  Instances      Box(P          R      mAP50  mAP50-95): 100%|██████████| 15/15 [00:02<00:00,  5.42it/s]"
          ]
        },
        {
          "output_type": "stream",
          "name": "stdout",
          "text": [
            "                   all        466       8312      0.926      0.908      0.952      0.542\n"
          ]
        },
        {
          "output_type": "stream",
          "name": "stderr",
          "text": [
            "\n"
          ]
        },
        {
          "output_type": "stream",
          "name": "stdout",
          "text": [
            "\n",
            "      Epoch    GPU_mem   box_loss   cls_loss   dfl_loss  Instances       Size\n"
          ]
        },
        {
          "output_type": "stream",
          "name": "stderr",
          "text": [
            "      49/50      11.2G     0.9028     0.3809     0.9435        168        640: 100%|██████████| 510/510 [01:28<00:00,  5.75it/s]\n",
            "                 Class     Images  Instances      Box(P          R      mAP50  mAP50-95): 100%|██████████| 15/15 [00:02<00:00,  5.45it/s]"
          ]
        },
        {
          "output_type": "stream",
          "name": "stdout",
          "text": [
            "                   all        466       8312      0.926      0.911      0.951      0.541\n"
          ]
        },
        {
          "output_type": "stream",
          "name": "stderr",
          "text": [
            "\n"
          ]
        },
        {
          "output_type": "stream",
          "name": "stdout",
          "text": [
            "\n",
            "      Epoch    GPU_mem   box_loss   cls_loss   dfl_loss  Instances       Size\n"
          ]
        },
        {
          "output_type": "stream",
          "name": "stderr",
          "text": [
            "      50/50      11.2G     0.8926     0.3779     0.9405        143        640: 100%|██████████| 510/510 [01:28<00:00,  5.75it/s]\n",
            "                 Class     Images  Instances      Box(P          R      mAP50  mAP50-95): 100%|██████████| 15/15 [00:02<00:00,  5.90it/s]"
          ]
        },
        {
          "output_type": "stream",
          "name": "stdout",
          "text": [
            "                   all        466       8312      0.924      0.909      0.951      0.541\n"
          ]
        },
        {
          "output_type": "stream",
          "name": "stderr",
          "text": [
            "\n"
          ]
        },
        {
          "output_type": "stream",
          "name": "stdout",
          "text": [
            "\n",
            "50 epochs completed in 1.308 hours.\n",
            "Optimizer stripped from runs/detect/train2/weights/last.pt, 87.6MB\n",
            "Optimizer stripped from runs/detect/train2/weights/best.pt, 87.6MB\n",
            "\n",
            "Validating runs/detect/train2/weights/best.pt...\n",
            "Ultralytics 8.3.35 🚀 Python-3.10.12 torch-2.5.1+cu121 CUDA:0 (NVIDIA A100-SXM4-40GB, 40514MiB)\n",
            "Model summary (fused): 268 layers, 43,607,379 parameters, 0 gradients, 164.8 GFLOPs\n"
          ]
        },
        {
          "output_type": "stream",
          "name": "stderr",
          "text": [
            "                 Class     Images  Instances      Box(P          R      mAP50  mAP50-95): 100%|██████████| 15/15 [00:05<00:00,  2.52it/s]\n"
          ]
        },
        {
          "output_type": "stream",
          "name": "stdout",
          "text": [
            "                   all        466       8312      0.924      0.915      0.957      0.553\n",
            "Speed: 0.1ms preprocess, 1.9ms inference, 0.0ms loss, 0.8ms postprocess per image\n",
            "Results saved to \u001b[1mruns/detect/train2\u001b[0m\n"
          ]
        },
        {
          "output_type": "execute_result",
          "data": {
            "text/plain": [
              "ultralytics.utils.metrics.DetMetrics object with attributes:\n",
              "\n",
              "ap_class_index: array([0])\n",
              "box: ultralytics.utils.metrics.Metric object\n",
              "confusion_matrix: <ultralytics.utils.metrics.ConfusionMatrix object at 0x7cc4dac33f70>\n",
              "curves: ['Precision-Recall(B)', 'F1-Confidence(B)', 'Precision-Confidence(B)', 'Recall-Confidence(B)']\n",
              "curves_results: [[array([          0,    0.001001,    0.002002,    0.003003,    0.004004,    0.005005,    0.006006,    0.007007,    0.008008,    0.009009,     0.01001,    0.011011,    0.012012,    0.013013,    0.014014,    0.015015,    0.016016,    0.017017,    0.018018,    0.019019,     0.02002,    0.021021,    0.022022,    0.023023,\n",
              "          0.024024,    0.025025,    0.026026,    0.027027,    0.028028,    0.029029,     0.03003,    0.031031,    0.032032,    0.033033,    0.034034,    0.035035,    0.036036,    0.037037,    0.038038,    0.039039,     0.04004,    0.041041,    0.042042,    0.043043,    0.044044,    0.045045,    0.046046,    0.047047,\n",
              "          0.048048,    0.049049,     0.05005,    0.051051,    0.052052,    0.053053,    0.054054,    0.055055,    0.056056,    0.057057,    0.058058,    0.059059,     0.06006,    0.061061,    0.062062,    0.063063,    0.064064,    0.065065,    0.066066,    0.067067,    0.068068,    0.069069,     0.07007,    0.071071,\n",
              "          0.072072,    0.073073,    0.074074,    0.075075,    0.076076,    0.077077,    0.078078,    0.079079,     0.08008,    0.081081,    0.082082,    0.083083,    0.084084,    0.085085,    0.086086,    0.087087,    0.088088,    0.089089,     0.09009,    0.091091,    0.092092,    0.093093,    0.094094,    0.095095,\n",
              "          0.096096,    0.097097,    0.098098,    0.099099,      0.1001,      0.1011,      0.1021,      0.1031,      0.1041,     0.10511,     0.10611,     0.10711,     0.10811,     0.10911,     0.11011,     0.11111,     0.11211,     0.11311,     0.11411,     0.11512,     0.11612,     0.11712,     0.11812,     0.11912,\n",
              "           0.12012,     0.12112,     0.12212,     0.12312,     0.12412,     0.12513,     0.12613,     0.12713,     0.12813,     0.12913,     0.13013,     0.13113,     0.13213,     0.13313,     0.13413,     0.13514,     0.13614,     0.13714,     0.13814,     0.13914,     0.14014,     0.14114,     0.14214,     0.14314,\n",
              "           0.14414,     0.14515,     0.14615,     0.14715,     0.14815,     0.14915,     0.15015,     0.15115,     0.15215,     0.15315,     0.15415,     0.15516,     0.15616,     0.15716,     0.15816,     0.15916,     0.16016,     0.16116,     0.16216,     0.16316,     0.16416,     0.16517,     0.16617,     0.16717,\n",
              "           0.16817,     0.16917,     0.17017,     0.17117,     0.17217,     0.17317,     0.17417,     0.17518,     0.17618,     0.17718,     0.17818,     0.17918,     0.18018,     0.18118,     0.18218,     0.18318,     0.18418,     0.18519,     0.18619,     0.18719,     0.18819,     0.18919,     0.19019,     0.19119,\n",
              "           0.19219,     0.19319,     0.19419,      0.1952,      0.1962,      0.1972,      0.1982,      0.1992,      0.2002,      0.2012,      0.2022,      0.2032,      0.2042,     0.20521,     0.20621,     0.20721,     0.20821,     0.20921,     0.21021,     0.21121,     0.21221,     0.21321,     0.21421,     0.21522,\n",
              "           0.21622,     0.21722,     0.21822,     0.21922,     0.22022,     0.22122,     0.22222,     0.22322,     0.22422,     0.22523,     0.22623,     0.22723,     0.22823,     0.22923,     0.23023,     0.23123,     0.23223,     0.23323,     0.23423,     0.23524,     0.23624,     0.23724,     0.23824,     0.23924,\n",
              "           0.24024,     0.24124,     0.24224,     0.24324,     0.24424,     0.24525,     0.24625,     0.24725,     0.24825,     0.24925,     0.25025,     0.25125,     0.25225,     0.25325,     0.25425,     0.25526,     0.25626,     0.25726,     0.25826,     0.25926,     0.26026,     0.26126,     0.26226,     0.26326,\n",
              "           0.26426,     0.26527,     0.26627,     0.26727,     0.26827,     0.26927,     0.27027,     0.27127,     0.27227,     0.27327,     0.27427,     0.27528,     0.27628,     0.27728,     0.27828,     0.27928,     0.28028,     0.28128,     0.28228,     0.28328,     0.28428,     0.28529,     0.28629,     0.28729,\n",
              "           0.28829,     0.28929,     0.29029,     0.29129,     0.29229,     0.29329,     0.29429,      0.2953,      0.2963,      0.2973,      0.2983,      0.2993,      0.3003,      0.3013,      0.3023,      0.3033,      0.3043,     0.30531,     0.30631,     0.30731,     0.30831,     0.30931,     0.31031,     0.31131,\n",
              "           0.31231,     0.31331,     0.31431,     0.31532,     0.31632,     0.31732,     0.31832,     0.31932,     0.32032,     0.32132,     0.32232,     0.32332,     0.32432,     0.32533,     0.32633,     0.32733,     0.32833,     0.32933,     0.33033,     0.33133,     0.33233,     0.33333,     0.33433,     0.33534,\n",
              "           0.33634,     0.33734,     0.33834,     0.33934,     0.34034,     0.34134,     0.34234,     0.34334,     0.34434,     0.34535,     0.34635,     0.34735,     0.34835,     0.34935,     0.35035,     0.35135,     0.35235,     0.35335,     0.35435,     0.35536,     0.35636,     0.35736,     0.35836,     0.35936,\n",
              "           0.36036,     0.36136,     0.36236,     0.36336,     0.36436,     0.36537,     0.36637,     0.36737,     0.36837,     0.36937,     0.37037,     0.37137,     0.37237,     0.37337,     0.37437,     0.37538,     0.37638,     0.37738,     0.37838,     0.37938,     0.38038,     0.38138,     0.38238,     0.38338,\n",
              "           0.38438,     0.38539,     0.38639,     0.38739,     0.38839,     0.38939,     0.39039,     0.39139,     0.39239,     0.39339,     0.39439,      0.3954,      0.3964,      0.3974,      0.3984,      0.3994,      0.4004,      0.4014,      0.4024,      0.4034,      0.4044,     0.40541,     0.40641,     0.40741,\n",
              "           0.40841,     0.40941,     0.41041,     0.41141,     0.41241,     0.41341,     0.41441,     0.41542,     0.41642,     0.41742,     0.41842,     0.41942,     0.42042,     0.42142,     0.42242,     0.42342,     0.42442,     0.42543,     0.42643,     0.42743,     0.42843,     0.42943,     0.43043,     0.43143,\n",
              "           0.43243,     0.43343,     0.43443,     0.43544,     0.43644,     0.43744,     0.43844,     0.43944,     0.44044,     0.44144,     0.44244,     0.44344,     0.44444,     0.44545,     0.44645,     0.44745,     0.44845,     0.44945,     0.45045,     0.45145,     0.45245,     0.45345,     0.45445,     0.45546,\n",
              "           0.45646,     0.45746,     0.45846,     0.45946,     0.46046,     0.46146,     0.46246,     0.46346,     0.46446,     0.46547,     0.46647,     0.46747,     0.46847,     0.46947,     0.47047,     0.47147,     0.47247,     0.47347,     0.47447,     0.47548,     0.47648,     0.47748,     0.47848,     0.47948,\n",
              "           0.48048,     0.48148,     0.48248,     0.48348,     0.48448,     0.48549,     0.48649,     0.48749,     0.48849,     0.48949,     0.49049,     0.49149,     0.49249,     0.49349,     0.49449,      0.4955,      0.4965,      0.4975,      0.4985,      0.4995,      0.5005,      0.5015,      0.5025,      0.5035,\n",
              "            0.5045,     0.50551,     0.50651,     0.50751,     0.50851,     0.50951,     0.51051,     0.51151,     0.51251,     0.51351,     0.51451,     0.51552,     0.51652,     0.51752,     0.51852,     0.51952,     0.52052,     0.52152,     0.52252,     0.52352,     0.52452,     0.52553,     0.52653,     0.52753,\n",
              "           0.52853,     0.52953,     0.53053,     0.53153,     0.53253,     0.53353,     0.53453,     0.53554,     0.53654,     0.53754,     0.53854,     0.53954,     0.54054,     0.54154,     0.54254,     0.54354,     0.54454,     0.54555,     0.54655,     0.54755,     0.54855,     0.54955,     0.55055,     0.55155,\n",
              "           0.55255,     0.55355,     0.55455,     0.55556,     0.55656,     0.55756,     0.55856,     0.55956,     0.56056,     0.56156,     0.56256,     0.56356,     0.56456,     0.56557,     0.56657,     0.56757,     0.56857,     0.56957,     0.57057,     0.57157,     0.57257,     0.57357,     0.57457,     0.57558,\n",
              "           0.57658,     0.57758,     0.57858,     0.57958,     0.58058,     0.58158,     0.58258,     0.58358,     0.58458,     0.58559,     0.58659,     0.58759,     0.58859,     0.58959,     0.59059,     0.59159,     0.59259,     0.59359,     0.59459,      0.5956,      0.5966,      0.5976,      0.5986,      0.5996,\n",
              "            0.6006,      0.6016,      0.6026,      0.6036,      0.6046,     0.60561,     0.60661,     0.60761,     0.60861,     0.60961,     0.61061,     0.61161,     0.61261,     0.61361,     0.61461,     0.61562,     0.61662,     0.61762,     0.61862,     0.61962,     0.62062,     0.62162,     0.62262,     0.62362,\n",
              "           0.62462,     0.62563,     0.62663,     0.62763,     0.62863,     0.62963,     0.63063,     0.63163,     0.63263,     0.63363,     0.63463,     0.63564,     0.63664,     0.63764,     0.63864,     0.63964,     0.64064,     0.64164,     0.64264,     0.64364,     0.64464,     0.64565,     0.64665,     0.64765,\n",
              "           0.64865,     0.64965,     0.65065,     0.65165,     0.65265,     0.65365,     0.65465,     0.65566,     0.65666,     0.65766,     0.65866,     0.65966,     0.66066,     0.66166,     0.66266,     0.66366,     0.66466,     0.66567,     0.66667,     0.66767,     0.66867,     0.66967,     0.67067,     0.67167,\n",
              "           0.67267,     0.67367,     0.67467,     0.67568,     0.67668,     0.67768,     0.67868,     0.67968,     0.68068,     0.68168,     0.68268,     0.68368,     0.68468,     0.68569,     0.68669,     0.68769,     0.68869,     0.68969,     0.69069,     0.69169,     0.69269,     0.69369,     0.69469,      0.6957,\n",
              "            0.6967,      0.6977,      0.6987,      0.6997,      0.7007,      0.7017,      0.7027,      0.7037,      0.7047,     0.70571,     0.70671,     0.70771,     0.70871,     0.70971,     0.71071,     0.71171,     0.71271,     0.71371,     0.71471,     0.71572,     0.71672,     0.71772,     0.71872,     0.71972,\n",
              "           0.72072,     0.72172,     0.72272,     0.72372,     0.72472,     0.72573,     0.72673,     0.72773,     0.72873,     0.72973,     0.73073,     0.73173,     0.73273,     0.73373,     0.73473,     0.73574,     0.73674,     0.73774,     0.73874,     0.73974,     0.74074,     0.74174,     0.74274,     0.74374,\n",
              "           0.74474,     0.74575,     0.74675,     0.74775,     0.74875,     0.74975,     0.75075,     0.75175,     0.75275,     0.75375,     0.75475,     0.75576,     0.75676,     0.75776,     0.75876,     0.75976,     0.76076,     0.76176,     0.76276,     0.76376,     0.76476,     0.76577,     0.76677,     0.76777,\n",
              "           0.76877,     0.76977,     0.77077,     0.77177,     0.77277,     0.77377,     0.77477,     0.77578,     0.77678,     0.77778,     0.77878,     0.77978,     0.78078,     0.78178,     0.78278,     0.78378,     0.78478,     0.78579,     0.78679,     0.78779,     0.78879,     0.78979,     0.79079,     0.79179,\n",
              "           0.79279,     0.79379,     0.79479,      0.7958,      0.7968,      0.7978,      0.7988,      0.7998,      0.8008,      0.8018,      0.8028,      0.8038,      0.8048,     0.80581,     0.80681,     0.80781,     0.80881,     0.80981,     0.81081,     0.81181,     0.81281,     0.81381,     0.81481,     0.81582,\n",
              "           0.81682,     0.81782,     0.81882,     0.81982,     0.82082,     0.82182,     0.82282,     0.82382,     0.82482,     0.82583,     0.82683,     0.82783,     0.82883,     0.82983,     0.83083,     0.83183,     0.83283,     0.83383,     0.83483,     0.83584,     0.83684,     0.83784,     0.83884,     0.83984,\n",
              "           0.84084,     0.84184,     0.84284,     0.84384,     0.84484,     0.84585,     0.84685,     0.84785,     0.84885,     0.84985,     0.85085,     0.85185,     0.85285,     0.85385,     0.85485,     0.85586,     0.85686,     0.85786,     0.85886,     0.85986,     0.86086,     0.86186,     0.86286,     0.86386,\n",
              "           0.86486,     0.86587,     0.86687,     0.86787,     0.86887,     0.86987,     0.87087,     0.87187,     0.87287,     0.87387,     0.87487,     0.87588,     0.87688,     0.87788,     0.87888,     0.87988,     0.88088,     0.88188,     0.88288,     0.88388,     0.88488,     0.88589,     0.88689,     0.88789,\n",
              "           0.88889,     0.88989,     0.89089,     0.89189,     0.89289,     0.89389,     0.89489,      0.8959,      0.8969,      0.8979,      0.8989,      0.8999,      0.9009,      0.9019,      0.9029,      0.9039,      0.9049,     0.90591,     0.90691,     0.90791,     0.90891,     0.90991,     0.91091,     0.91191,\n",
              "           0.91291,     0.91391,     0.91491,     0.91592,     0.91692,     0.91792,     0.91892,     0.91992,     0.92092,     0.92192,     0.92292,     0.92392,     0.92492,     0.92593,     0.92693,     0.92793,     0.92893,     0.92993,     0.93093,     0.93193,     0.93293,     0.93393,     0.93493,     0.93594,\n",
              "           0.93694,     0.93794,     0.93894,     0.93994,     0.94094,     0.94194,     0.94294,     0.94394,     0.94494,     0.94595,     0.94695,     0.94795,     0.94895,     0.94995,     0.95095,     0.95195,     0.95295,     0.95395,     0.95495,     0.95596,     0.95696,     0.95796,     0.95896,     0.95996,\n",
              "           0.96096,     0.96196,     0.96296,     0.96396,     0.96496,     0.96597,     0.96697,     0.96797,     0.96897,     0.96997,     0.97097,     0.97197,     0.97297,     0.97397,     0.97497,     0.97598,     0.97698,     0.97798,     0.97898,     0.97998,     0.98098,     0.98198,     0.98298,     0.98398,\n",
              "           0.98498,     0.98599,     0.98699,     0.98799,     0.98899,     0.98999,     0.99099,     0.99199,     0.99299,     0.99399,     0.99499,       0.996,       0.997,       0.998,       0.999,           1]), array([[          1,           1,           1,           1,           1,           1,           1,           1,           1,           1,           1,           1,           1,           1,           1,           1,           1,           1,           1,           1,           1,           1,           1,\n",
              "                  1,           1,           1,           1,           1,           1,           1,           1,           1,           1,           1,           1,           1,           1,           1,           1,           1,           1,           1,           1,           1,           1,           1,\n",
              "                  1,           1,           1,           1,           1,           1,           1,           1,           1,           1,           1,           1,           1,           1,           1,           1,           1,           1,           1,           1,           1,           1,           1,\n",
              "                  1,           1,           1,           1,           1,           1,           1,           1,           1,           1,           1,           1,           1,           1,           1,           1,           1,           1,           1,           1,           1,           1,           1,\n",
              "                  1,           1,           1,           1,           1,           1,           1,           1,           1,           1,           1,           1,           1,           1,           1,           1,           1,           1,           1,           1,           1,           1,           1,\n",
              "                  1,           1,           1,           1,           1,     0.99935,     0.99935,     0.99935,     0.99935,     0.99935,     0.99935,     0.99935,     0.99935,     0.99935,     0.99935,     0.99935,     0.99935,     0.99935,     0.99935,     0.99935,     0.99935,     0.99935,     0.99935,\n",
              "            0.99935,     0.99935,     0.99935,     0.99935,     0.99935,     0.99935,     0.99935,     0.99935,     0.99935,     0.99935,     0.99935,     0.99935,     0.99935,     0.99935,     0.99935,     0.99935,     0.99935,     0.99935,     0.99935,     0.99935,     0.99935,     0.99935,     0.99935,\n",
              "            0.99935,     0.99935,     0.99935,     0.99935,     0.99935,     0.99935,     0.99935,     0.99935,     0.99935,     0.99935,     0.99935,     0.99935,     0.99935,     0.99935,     0.99935,     0.99935,     0.99935,     0.99935,     0.99935,     0.99935,     0.99935,     0.99935,     0.99935,\n",
              "             0.9987,     0.99814,     0.99814,     0.99814,     0.99814,     0.99814,     0.99814,     0.99814,     0.99814,     0.99814,     0.99776,     0.99776,     0.99776,     0.99776,     0.99776,     0.99776,     0.99776,     0.99776,     0.99776,     0.99776,     0.99776,     0.99776,     0.99776,\n",
              "            0.99776,     0.99776,     0.99776,     0.99776,     0.99776,     0.99776,     0.99776,     0.99776,     0.99723,     0.99685,     0.99685,     0.99685,     0.99685,     0.99685,     0.99685,     0.99685,     0.99685,     0.99685,     0.99685,     0.99685,     0.99685,     0.99685,     0.99637,\n",
              "            0.99637,     0.99537,     0.99537,     0.99516,     0.99516,     0.99516,     0.99516,     0.99516,     0.99516,     0.99516,     0.99516,     0.99516,     0.99516,     0.99516,     0.99516,     0.99516,     0.99516,     0.99516,     0.99486,     0.99486,     0.99486,     0.99486,     0.99486,\n",
              "            0.99486,     0.99486,     0.99486,     0.99449,     0.99449,     0.99449,     0.99449,     0.99449,     0.99449,     0.99449,     0.99449,     0.99449,     0.99449,     0.99449,     0.99449,     0.99449,     0.99449,     0.99449,     0.99449,     0.99449,     0.99449,     0.99449,     0.99449,\n",
              "            0.99449,     0.99449,     0.99449,     0.99449,     0.99449,     0.99449,      0.9943,      0.9943,      0.9943,      0.9943,      0.9943,      0.9943,      0.9943,      0.9943,      0.9943,      0.9943,      0.9943,      0.9943,     0.99415,     0.99415,     0.99415,     0.99415,     0.99415,\n",
              "            0.99415,     0.99415,     0.99415,     0.99415,     0.99415,     0.99415,     0.99415,     0.99415,     0.99415,     0.99415,     0.99415,     0.99415,     0.99415,     0.99415,     0.99415,     0.99415,     0.99415,     0.99415,     0.99415,     0.99415,     0.99415,     0.99415,     0.99415,\n",
              "            0.99415,     0.99415,     0.99415,     0.99415,     0.99415,     0.99414,     0.99414,     0.99414,     0.99414,     0.99414,     0.99414,     0.99414,     0.99414,     0.99414,     0.99414,     0.99414,     0.99414,     0.99414,     0.99414,     0.99414,     0.99414,     0.99414,     0.99414,\n",
              "            0.99414,     0.99414,     0.99414,     0.99414,     0.99414,     0.99414,     0.99414,     0.99414,     0.99414,     0.99414,     0.99414,     0.99414,     0.99414,     0.99414,     0.99414,     0.99414,     0.99414,     0.99414,     0.99414,     0.99414,     0.99414,     0.99414,     0.99414,\n",
              "            0.99414,     0.99414,     0.99414,     0.99414,     0.99414,     0.99414,     0.99414,     0.99414,     0.99414,     0.99414,     0.99414,     0.99414,     0.99414,     0.99414,     0.99414,     0.99414,     0.99414,     0.99414,     0.99414,     0.99414,     0.99385,     0.99355,     0.99334,\n",
              "            0.99334,     0.99334,     0.99334,     0.99334,     0.99319,     0.99319,     0.99319,     0.99319,     0.99319,     0.99319,     0.99319,     0.99319,     0.99319,     0.99303,     0.99303,     0.99303,     0.99303,     0.99303,     0.99303,     0.99303,     0.99303,     0.99274,     0.99274,\n",
              "            0.99274,     0.99274,     0.99274,     0.99274,     0.99274,     0.99274,     0.99274,     0.99274,     0.99274,     0.99274,     0.99274,     0.99274,     0.99274,     0.99274,     0.99268,     0.99268,     0.99268,     0.99268,     0.99268,     0.99268,     0.99268,     0.99268,     0.99268,\n",
              "            0.99268,     0.99268,     0.99268,      0.9926,      0.9926,      0.9926,      0.9926,      0.9926,      0.9926,      0.9926,      0.9926,      0.9926,      0.9926,      0.9926,      0.9926,     0.99239,     0.99239,     0.99239,     0.99221,     0.99221,     0.99221,     0.99221,     0.99221,\n",
              "            0.99173,     0.99173,     0.99149,     0.99101,     0.99091,     0.99091,     0.99091,     0.99091,     0.99091,     0.99091,     0.99091,     0.99091,     0.99088,     0.99088,     0.99088,     0.99088,     0.99088,     0.99088,     0.99088,     0.99088,     0.99088,     0.99088,     0.99088,\n",
              "            0.99088,     0.99074,     0.99074,     0.99074,     0.99074,     0.99074,     0.99044,     0.99044,     0.99044,     0.99044,     0.99044,     0.99044,     0.99044,     0.99044,     0.99044,     0.99044,     0.99038,     0.99038,     0.99038,     0.99038,     0.99038,     0.99038,     0.99038,\n",
              "            0.99038,     0.99038,     0.99038,     0.99038,     0.99038,     0.99038,     0.99038,     0.99038,     0.99038,     0.99038,     0.99038,     0.99038,     0.99038,     0.99038,     0.99038,     0.99038,     0.99038,     0.99038,     0.99038,     0.99038,     0.99038,     0.99038,     0.99038,\n",
              "            0.99038,     0.99038,     0.99038,     0.99038,     0.99038,     0.99038,     0.99038,     0.99038,     0.99038,     0.99038,     0.99038,     0.99038,     0.99038,     0.99038,     0.99038,     0.99038,     0.99024,     0.99024,     0.99024,     0.99024,     0.99004,     0.98986,     0.98986,\n",
              "            0.98979,     0.98979,     0.98979,     0.98979,     0.98979,     0.98979,     0.98979,     0.98959,     0.98942,     0.98942,     0.98924,     0.98924,     0.98917,     0.98917,     0.98917,     0.98917,     0.98917,     0.98917,     0.98917,     0.98902,     0.98902,     0.98902,     0.98883,\n",
              "             0.9887,      0.9887,      0.9887,      0.9887,     0.98856,     0.98856,     0.98856,     0.98847,     0.98847,     0.98847,     0.98847,     0.98847,     0.98847,     0.98836,     0.98836,     0.98836,     0.98836,     0.98829,     0.98829,     0.98829,     0.98829,     0.98829,     0.98829,\n",
              "            0.98829,     0.98812,     0.98794,     0.98776,      0.9876,      0.9876,     0.98756,     0.98756,     0.98756,     0.98756,     0.98756,     0.98756,     0.98756,      0.9875,      0.9875,      0.9875,      0.9875,      0.9875,      0.9875,      0.9875,      0.9875,      0.9875,      0.9875,\n",
              "             0.9875,      0.9875,      0.9875,      0.9875,      0.9875,      0.9875,      0.9875,      0.9875,      0.9875,      0.9875,      0.9875,      0.9875,      0.9875,      0.9875,      0.9875,      0.9874,      0.9874,      0.9874,      0.9874,      0.9874,     0.98731,     0.98731,     0.98731,\n",
              "            0.98731,     0.98731,     0.98731,     0.98731,     0.98731,     0.98731,     0.98731,     0.98731,     0.98731,     0.98731,     0.98731,     0.98716,       0.987,       0.987,     0.98686,     0.98672,     0.98672,     0.98655,     0.98623,     0.98607,     0.98598,     0.98598,     0.98598,\n",
              "            0.98598,     0.98583,     0.98534,     0.98534,     0.98528,     0.98528,     0.98528,     0.98528,     0.98528,     0.98518,     0.98518,     0.98518,     0.98506,     0.98506,     0.98506,     0.98475,     0.98475,     0.98446,     0.98446,     0.98438,     0.98438,     0.98438,     0.98438,\n",
              "            0.98425,     0.98415,     0.98415,     0.98415,     0.98399,     0.98385,     0.98376,     0.98376,     0.98376,     0.98368,     0.98368,     0.98368,     0.98368,     0.98357,     0.98357,     0.98357,     0.98301,     0.98301,     0.98301,     0.98301,       0.983,       0.983,       0.983,\n",
              "              0.983,       0.983,       0.983,     0.98288,     0.98288,     0.98244,     0.98244,      0.9823,     0.98216,     0.98187,     0.98177,     0.98177,     0.98163,      0.9815,     0.98134,     0.98105,     0.98095,     0.98095,     0.98052,     0.98037,     0.98024,     0.97995,     0.97985,\n",
              "            0.97985,     0.97973,      0.9796,     0.97932,     0.97917,     0.97909,     0.97909,     0.97909,     0.97888,     0.97888,     0.97888,     0.97876,     0.97847,     0.97836,     0.97826,     0.97826,     0.97818,     0.97818,     0.97818,     0.97795,     0.97795,      0.9778,     0.97753,\n",
              "            0.97727,     0.97715,     0.97703,      0.9768,      0.9768,      0.9768,     0.97669,     0.97657,     0.97644,     0.97594,     0.97594,     0.97594,      0.9757,      0.9757,     0.97559,     0.97473,     0.97438,     0.97438,     0.97438,     0.97383,     0.97375,     0.97375,     0.97367,\n",
              "            0.97367,     0.97359,     0.97359,     0.97348,     0.97327,     0.97327,       0.973,     0.97275,     0.97237,     0.97223,     0.97199,     0.97175,     0.97142,     0.97142,     0.97142,     0.97138,     0.97138,     0.97138,     0.97112,     0.97088,     0.97062,     0.97023,     0.96986,\n",
              "            0.96962,     0.96929,     0.96929,     0.96916,     0.96878,     0.96843,     0.96843,     0.96823,     0.96823,       0.968,     0.96776,     0.96753,     0.96728,      0.9669,     0.96655,     0.96644,     0.96594,     0.96572,     0.96558,     0.96558,     0.96558,     0.96546,     0.96541,\n",
              "            0.96541,      0.9653,     0.96469,     0.96457,     0.96409,     0.96399,     0.96322,     0.96291,     0.96291,     0.96283,     0.96221,     0.96185,     0.96163,     0.96141,     0.96117,     0.96075,     0.96075,     0.96055,     0.95992,     0.95959,     0.95958,     0.95958,     0.95958,\n",
              "            0.95936,     0.95889,     0.95819,     0.95781,     0.95749,     0.95726,     0.95699,     0.95699,     0.95677,     0.95643,     0.95623,     0.95615,     0.95574,     0.95574,     0.95444,     0.95444,     0.95411,     0.95392,     0.95334,     0.95275,     0.95182,     0.95174,     0.95153,\n",
              "            0.95112,     0.95065,     0.95045,     0.94992,     0.94983,     0.94962,     0.94882,     0.94855,     0.94844,     0.94727,     0.94563,     0.94509,     0.94441,     0.94354,     0.94296,     0.94176,     0.94176,     0.94111,      0.9401,     0.93957,     0.93895,     0.93876,     0.93833,\n",
              "            0.93771,      0.9374,     0.93679,     0.93626,     0.93552,     0.93475,     0.93365,     0.93313,     0.93252,     0.93215,     0.93161,     0.93065,     0.93015,     0.92841,     0.92801,     0.92673,     0.92556,     0.92396,     0.92236,     0.92176,     0.92105,     0.91948,     0.91791,\n",
              "            0.91644,     0.91414,      0.9129,     0.91191,     0.91036,     0.90919,     0.90776,     0.90549,     0.90063,     0.89884,     0.89571,     0.89211,     0.89099,     0.88862,     0.88681,     0.88339,     0.88132,     0.87975,     0.87864,     0.87511,     0.87299,     0.87068,     0.86897,\n",
              "            0.86659,     0.86452,     0.86039,     0.85791,     0.85485,     0.84976,     0.84858,     0.84374,     0.83877,     0.83221,     0.82768,      0.8203,     0.81539,     0.80876,     0.80216,     0.79599,     0.78871,     0.77719,     0.76811,     0.75569,     0.75228,     0.74635,     0.72323,\n",
              "            0.71215,     0.69935,      0.6717,     0.63453,     0.62858,     0.61515,     0.56762,     0.55601,     0.50295,     0.47763,     0.44579,     0.39029,     0.33656,     0.29114,     0.25144,      0.2365,     0.22336,     0.21022,     0.19708,     0.18394,     0.17081,     0.15767,     0.14453,\n",
              "            0.13139,     0.11825,     0.10511,    0.091972,    0.078833,    0.065694,    0.052556,    0.039417,    0.026278,    0.013139,           0]]), 'Recall', 'Precision'], [array([          0,    0.001001,    0.002002,    0.003003,    0.004004,    0.005005,    0.006006,    0.007007,    0.008008,    0.009009,     0.01001,    0.011011,    0.012012,    0.013013,    0.014014,    0.015015,    0.016016,    0.017017,    0.018018,    0.019019,     0.02002,    0.021021,    0.022022,    0.023023,\n",
              "          0.024024,    0.025025,    0.026026,    0.027027,    0.028028,    0.029029,     0.03003,    0.031031,    0.032032,    0.033033,    0.034034,    0.035035,    0.036036,    0.037037,    0.038038,    0.039039,     0.04004,    0.041041,    0.042042,    0.043043,    0.044044,    0.045045,    0.046046,    0.047047,\n",
              "          0.048048,    0.049049,     0.05005,    0.051051,    0.052052,    0.053053,    0.054054,    0.055055,    0.056056,    0.057057,    0.058058,    0.059059,     0.06006,    0.061061,    0.062062,    0.063063,    0.064064,    0.065065,    0.066066,    0.067067,    0.068068,    0.069069,     0.07007,    0.071071,\n",
              "          0.072072,    0.073073,    0.074074,    0.075075,    0.076076,    0.077077,    0.078078,    0.079079,     0.08008,    0.081081,    0.082082,    0.083083,    0.084084,    0.085085,    0.086086,    0.087087,    0.088088,    0.089089,     0.09009,    0.091091,    0.092092,    0.093093,    0.094094,    0.095095,\n",
              "          0.096096,    0.097097,    0.098098,    0.099099,      0.1001,      0.1011,      0.1021,      0.1031,      0.1041,     0.10511,     0.10611,     0.10711,     0.10811,     0.10911,     0.11011,     0.11111,     0.11211,     0.11311,     0.11411,     0.11512,     0.11612,     0.11712,     0.11812,     0.11912,\n",
              "           0.12012,     0.12112,     0.12212,     0.12312,     0.12412,     0.12513,     0.12613,     0.12713,     0.12813,     0.12913,     0.13013,     0.13113,     0.13213,     0.13313,     0.13413,     0.13514,     0.13614,     0.13714,     0.13814,     0.13914,     0.14014,     0.14114,     0.14214,     0.14314,\n",
              "           0.14414,     0.14515,     0.14615,     0.14715,     0.14815,     0.14915,     0.15015,     0.15115,     0.15215,     0.15315,     0.15415,     0.15516,     0.15616,     0.15716,     0.15816,     0.15916,     0.16016,     0.16116,     0.16216,     0.16316,     0.16416,     0.16517,     0.16617,     0.16717,\n",
              "           0.16817,     0.16917,     0.17017,     0.17117,     0.17217,     0.17317,     0.17417,     0.17518,     0.17618,     0.17718,     0.17818,     0.17918,     0.18018,     0.18118,     0.18218,     0.18318,     0.18418,     0.18519,     0.18619,     0.18719,     0.18819,     0.18919,     0.19019,     0.19119,\n",
              "           0.19219,     0.19319,     0.19419,      0.1952,      0.1962,      0.1972,      0.1982,      0.1992,      0.2002,      0.2012,      0.2022,      0.2032,      0.2042,     0.20521,     0.20621,     0.20721,     0.20821,     0.20921,     0.21021,     0.21121,     0.21221,     0.21321,     0.21421,     0.21522,\n",
              "           0.21622,     0.21722,     0.21822,     0.21922,     0.22022,     0.22122,     0.22222,     0.22322,     0.22422,     0.22523,     0.22623,     0.22723,     0.22823,     0.22923,     0.23023,     0.23123,     0.23223,     0.23323,     0.23423,     0.23524,     0.23624,     0.23724,     0.23824,     0.23924,\n",
              "           0.24024,     0.24124,     0.24224,     0.24324,     0.24424,     0.24525,     0.24625,     0.24725,     0.24825,     0.24925,     0.25025,     0.25125,     0.25225,     0.25325,     0.25425,     0.25526,     0.25626,     0.25726,     0.25826,     0.25926,     0.26026,     0.26126,     0.26226,     0.26326,\n",
              "           0.26426,     0.26527,     0.26627,     0.26727,     0.26827,     0.26927,     0.27027,     0.27127,     0.27227,     0.27327,     0.27427,     0.27528,     0.27628,     0.27728,     0.27828,     0.27928,     0.28028,     0.28128,     0.28228,     0.28328,     0.28428,     0.28529,     0.28629,     0.28729,\n",
              "           0.28829,     0.28929,     0.29029,     0.29129,     0.29229,     0.29329,     0.29429,      0.2953,      0.2963,      0.2973,      0.2983,      0.2993,      0.3003,      0.3013,      0.3023,      0.3033,      0.3043,     0.30531,     0.30631,     0.30731,     0.30831,     0.30931,     0.31031,     0.31131,\n",
              "           0.31231,     0.31331,     0.31431,     0.31532,     0.31632,     0.31732,     0.31832,     0.31932,     0.32032,     0.32132,     0.32232,     0.32332,     0.32432,     0.32533,     0.32633,     0.32733,     0.32833,     0.32933,     0.33033,     0.33133,     0.33233,     0.33333,     0.33433,     0.33534,\n",
              "           0.33634,     0.33734,     0.33834,     0.33934,     0.34034,     0.34134,     0.34234,     0.34334,     0.34434,     0.34535,     0.34635,     0.34735,     0.34835,     0.34935,     0.35035,     0.35135,     0.35235,     0.35335,     0.35435,     0.35536,     0.35636,     0.35736,     0.35836,     0.35936,\n",
              "           0.36036,     0.36136,     0.36236,     0.36336,     0.36436,     0.36537,     0.36637,     0.36737,     0.36837,     0.36937,     0.37037,     0.37137,     0.37237,     0.37337,     0.37437,     0.37538,     0.37638,     0.37738,     0.37838,     0.37938,     0.38038,     0.38138,     0.38238,     0.38338,\n",
              "           0.38438,     0.38539,     0.38639,     0.38739,     0.38839,     0.38939,     0.39039,     0.39139,     0.39239,     0.39339,     0.39439,      0.3954,      0.3964,      0.3974,      0.3984,      0.3994,      0.4004,      0.4014,      0.4024,      0.4034,      0.4044,     0.40541,     0.40641,     0.40741,\n",
              "           0.40841,     0.40941,     0.41041,     0.41141,     0.41241,     0.41341,     0.41441,     0.41542,     0.41642,     0.41742,     0.41842,     0.41942,     0.42042,     0.42142,     0.42242,     0.42342,     0.42442,     0.42543,     0.42643,     0.42743,     0.42843,     0.42943,     0.43043,     0.43143,\n",
              "           0.43243,     0.43343,     0.43443,     0.43544,     0.43644,     0.43744,     0.43844,     0.43944,     0.44044,     0.44144,     0.44244,     0.44344,     0.44444,     0.44545,     0.44645,     0.44745,     0.44845,     0.44945,     0.45045,     0.45145,     0.45245,     0.45345,     0.45445,     0.45546,\n",
              "           0.45646,     0.45746,     0.45846,     0.45946,     0.46046,     0.46146,     0.46246,     0.46346,     0.46446,     0.46547,     0.46647,     0.46747,     0.46847,     0.46947,     0.47047,     0.47147,     0.47247,     0.47347,     0.47447,     0.47548,     0.47648,     0.47748,     0.47848,     0.47948,\n",
              "           0.48048,     0.48148,     0.48248,     0.48348,     0.48448,     0.48549,     0.48649,     0.48749,     0.48849,     0.48949,     0.49049,     0.49149,     0.49249,     0.49349,     0.49449,      0.4955,      0.4965,      0.4975,      0.4985,      0.4995,      0.5005,      0.5015,      0.5025,      0.5035,\n",
              "            0.5045,     0.50551,     0.50651,     0.50751,     0.50851,     0.50951,     0.51051,     0.51151,     0.51251,     0.51351,     0.51451,     0.51552,     0.51652,     0.51752,     0.51852,     0.51952,     0.52052,     0.52152,     0.52252,     0.52352,     0.52452,     0.52553,     0.52653,     0.52753,\n",
              "           0.52853,     0.52953,     0.53053,     0.53153,     0.53253,     0.53353,     0.53453,     0.53554,     0.53654,     0.53754,     0.53854,     0.53954,     0.54054,     0.54154,     0.54254,     0.54354,     0.54454,     0.54555,     0.54655,     0.54755,     0.54855,     0.54955,     0.55055,     0.55155,\n",
              "           0.55255,     0.55355,     0.55455,     0.55556,     0.55656,     0.55756,     0.55856,     0.55956,     0.56056,     0.56156,     0.56256,     0.56356,     0.56456,     0.56557,     0.56657,     0.56757,     0.56857,     0.56957,     0.57057,     0.57157,     0.57257,     0.57357,     0.57457,     0.57558,\n",
              "           0.57658,     0.57758,     0.57858,     0.57958,     0.58058,     0.58158,     0.58258,     0.58358,     0.58458,     0.58559,     0.58659,     0.58759,     0.58859,     0.58959,     0.59059,     0.59159,     0.59259,     0.59359,     0.59459,      0.5956,      0.5966,      0.5976,      0.5986,      0.5996,\n",
              "            0.6006,      0.6016,      0.6026,      0.6036,      0.6046,     0.60561,     0.60661,     0.60761,     0.60861,     0.60961,     0.61061,     0.61161,     0.61261,     0.61361,     0.61461,     0.61562,     0.61662,     0.61762,     0.61862,     0.61962,     0.62062,     0.62162,     0.62262,     0.62362,\n",
              "           0.62462,     0.62563,     0.62663,     0.62763,     0.62863,     0.62963,     0.63063,     0.63163,     0.63263,     0.63363,     0.63463,     0.63564,     0.63664,     0.63764,     0.63864,     0.63964,     0.64064,     0.64164,     0.64264,     0.64364,     0.64464,     0.64565,     0.64665,     0.64765,\n",
              "           0.64865,     0.64965,     0.65065,     0.65165,     0.65265,     0.65365,     0.65465,     0.65566,     0.65666,     0.65766,     0.65866,     0.65966,     0.66066,     0.66166,     0.66266,     0.66366,     0.66466,     0.66567,     0.66667,     0.66767,     0.66867,     0.66967,     0.67067,     0.67167,\n",
              "           0.67267,     0.67367,     0.67467,     0.67568,     0.67668,     0.67768,     0.67868,     0.67968,     0.68068,     0.68168,     0.68268,     0.68368,     0.68468,     0.68569,     0.68669,     0.68769,     0.68869,     0.68969,     0.69069,     0.69169,     0.69269,     0.69369,     0.69469,      0.6957,\n",
              "            0.6967,      0.6977,      0.6987,      0.6997,      0.7007,      0.7017,      0.7027,      0.7037,      0.7047,     0.70571,     0.70671,     0.70771,     0.70871,     0.70971,     0.71071,     0.71171,     0.71271,     0.71371,     0.71471,     0.71572,     0.71672,     0.71772,     0.71872,     0.71972,\n",
              "           0.72072,     0.72172,     0.72272,     0.72372,     0.72472,     0.72573,     0.72673,     0.72773,     0.72873,     0.72973,     0.73073,     0.73173,     0.73273,     0.73373,     0.73473,     0.73574,     0.73674,     0.73774,     0.73874,     0.73974,     0.74074,     0.74174,     0.74274,     0.74374,\n",
              "           0.74474,     0.74575,     0.74675,     0.74775,     0.74875,     0.74975,     0.75075,     0.75175,     0.75275,     0.75375,     0.75475,     0.75576,     0.75676,     0.75776,     0.75876,     0.75976,     0.76076,     0.76176,     0.76276,     0.76376,     0.76476,     0.76577,     0.76677,     0.76777,\n",
              "           0.76877,     0.76977,     0.77077,     0.77177,     0.77277,     0.77377,     0.77477,     0.77578,     0.77678,     0.77778,     0.77878,     0.77978,     0.78078,     0.78178,     0.78278,     0.78378,     0.78478,     0.78579,     0.78679,     0.78779,     0.78879,     0.78979,     0.79079,     0.79179,\n",
              "           0.79279,     0.79379,     0.79479,      0.7958,      0.7968,      0.7978,      0.7988,      0.7998,      0.8008,      0.8018,      0.8028,      0.8038,      0.8048,     0.80581,     0.80681,     0.80781,     0.80881,     0.80981,     0.81081,     0.81181,     0.81281,     0.81381,     0.81481,     0.81582,\n",
              "           0.81682,     0.81782,     0.81882,     0.81982,     0.82082,     0.82182,     0.82282,     0.82382,     0.82482,     0.82583,     0.82683,     0.82783,     0.82883,     0.82983,     0.83083,     0.83183,     0.83283,     0.83383,     0.83483,     0.83584,     0.83684,     0.83784,     0.83884,     0.83984,\n",
              "           0.84084,     0.84184,     0.84284,     0.84384,     0.84484,     0.84585,     0.84685,     0.84785,     0.84885,     0.84985,     0.85085,     0.85185,     0.85285,     0.85385,     0.85485,     0.85586,     0.85686,     0.85786,     0.85886,     0.85986,     0.86086,     0.86186,     0.86286,     0.86386,\n",
              "           0.86486,     0.86587,     0.86687,     0.86787,     0.86887,     0.86987,     0.87087,     0.87187,     0.87287,     0.87387,     0.87487,     0.87588,     0.87688,     0.87788,     0.87888,     0.87988,     0.88088,     0.88188,     0.88288,     0.88388,     0.88488,     0.88589,     0.88689,     0.88789,\n",
              "           0.88889,     0.88989,     0.89089,     0.89189,     0.89289,     0.89389,     0.89489,      0.8959,      0.8969,      0.8979,      0.8989,      0.8999,      0.9009,      0.9019,      0.9029,      0.9039,      0.9049,     0.90591,     0.90691,     0.90791,     0.90891,     0.90991,     0.91091,     0.91191,\n",
              "           0.91291,     0.91391,     0.91491,     0.91592,     0.91692,     0.91792,     0.91892,     0.91992,     0.92092,     0.92192,     0.92292,     0.92392,     0.92492,     0.92593,     0.92693,     0.92793,     0.92893,     0.92993,     0.93093,     0.93193,     0.93293,     0.93393,     0.93493,     0.93594,\n",
              "           0.93694,     0.93794,     0.93894,     0.93994,     0.94094,     0.94194,     0.94294,     0.94394,     0.94494,     0.94595,     0.94695,     0.94795,     0.94895,     0.94995,     0.95095,     0.95195,     0.95295,     0.95395,     0.95495,     0.95596,     0.95696,     0.95796,     0.95896,     0.95996,\n",
              "           0.96096,     0.96196,     0.96296,     0.96396,     0.96496,     0.96597,     0.96697,     0.96797,     0.96897,     0.96997,     0.97097,     0.97197,     0.97297,     0.97397,     0.97497,     0.97598,     0.97698,     0.97798,     0.97898,     0.97998,     0.98098,     0.98198,     0.98298,     0.98398,\n",
              "           0.98498,     0.98599,     0.98699,     0.98799,     0.98899,     0.98999,     0.99099,     0.99199,     0.99299,     0.99399,     0.99499,       0.996,       0.997,       0.998,       0.999,           1]), array([[    0.39782,     0.39782,      0.4805,     0.52817,      0.5636,     0.59119,     0.61368,      0.6313,      0.6479,     0.66006,     0.67192,     0.68261,     0.69228,     0.70097,     0.71023,     0.71719,     0.72277,      0.7289,     0.73524,     0.74028,     0.74539,     0.75108,       0.755,\n",
              "            0.75887,     0.76287,      0.7659,     0.76872,      0.7721,     0.77481,     0.77825,      0.7813,     0.78382,     0.78656,      0.7891,     0.79173,     0.79367,     0.79561,     0.79775,     0.79975,      0.8016,     0.80343,     0.80535,     0.80699,     0.80883,     0.81097,     0.81225,\n",
              "             0.8139,     0.81562,     0.81677,     0.81847,     0.81983,     0.82067,     0.82229,     0.82298,     0.82447,      0.8262,     0.82712,     0.82827,     0.82995,     0.83132,     0.83248,     0.83383,     0.83489,     0.83603,     0.83748,      0.8384,     0.83928,     0.84026,       0.841,\n",
              "            0.84199,     0.84331,     0.84372,     0.84444,     0.84544,     0.84606,     0.84684,     0.84732,     0.84809,     0.84888,     0.84957,     0.85043,     0.85122,     0.85174,     0.85236,      0.8528,     0.85364,     0.85418,     0.85471,     0.85536,     0.85594,     0.85643,     0.85692,\n",
              "            0.85761,     0.85853,     0.85903,      0.8597,     0.86035,     0.86084,     0.86138,     0.86179,     0.86251,     0.86302,     0.86358,     0.86423,     0.86475,     0.86512,     0.86562,     0.86591,     0.86615,     0.86647,     0.86702,     0.86743,     0.86812,     0.86852,     0.86918,\n",
              "            0.86935,     0.86979,     0.87036,     0.87079,     0.87118,     0.87181,     0.87238,     0.87286,     0.87321,     0.87358,     0.87436,     0.87502,     0.87547,     0.87615,     0.87644,     0.87669,     0.87709,     0.87727,     0.87758,     0.87806,     0.87833,     0.87862,     0.87895,\n",
              "            0.87945,      0.8799,     0.88007,     0.88041,     0.88076,     0.88099,     0.88128,     0.88151,      0.8818,     0.88204,     0.88234,     0.88246,     0.88255,     0.88305,     0.88342,     0.88408,      0.8847,     0.88511,     0.88537,     0.88565,     0.88574,     0.88598,     0.88632,\n",
              "            0.88667,      0.8869,     0.88728,     0.88759,       0.888,     0.88816,     0.88835,     0.88858,     0.88882,     0.88928,     0.88991,     0.89031,     0.89049,     0.89083,     0.89105,     0.89127,     0.89146,      0.8916,     0.89172,     0.89225,     0.89223,     0.89242,     0.89257,\n",
              "            0.89269,     0.89312,     0.89351,     0.89373,     0.89386,     0.89439,     0.89465,     0.89473,     0.89506,     0.89544,     0.89577,     0.89611,     0.89615,     0.89634,     0.89639,      0.8964,     0.89651,     0.89674,     0.89664,     0.89679,     0.89708,     0.89747,      0.8977,\n",
              "            0.89792,      0.8982,     0.89826,     0.89869,     0.89882,     0.89899,     0.89911,     0.89936,     0.89954,      0.8997,     0.89997,     0.90022,     0.90033,     0.90053,     0.90077,     0.90102,     0.90117,     0.90146,     0.90173,     0.90216,     0.90229,     0.90239,      0.9025,\n",
              "            0.90256,     0.90284,     0.90292,     0.90303,     0.90314,     0.90357,     0.90355,     0.90397,     0.90415,     0.90409,      0.9043,     0.90436,     0.90445,     0.90439,     0.90449,     0.90465,     0.90487,     0.90492,     0.90508,     0.90526,     0.90564,     0.90559,     0.90569,\n",
              "            0.90577,     0.90572,     0.90586,     0.90596,     0.90602,     0.90614,     0.90633,     0.90646,     0.90683,     0.90686,     0.90701,     0.90707,     0.90738,     0.90732,      0.9075,     0.90773,      0.9078,     0.90789,     0.90802,     0.90806,     0.90825,     0.90833,      0.9082,\n",
              "            0.90823,     0.90838,     0.90855,     0.90866,     0.90871,     0.90887,     0.90898,      0.9092,      0.9092,     0.90925,     0.90937,     0.90965,     0.90981,     0.90994,     0.91007,     0.91014,     0.91023,     0.91035,     0.91056,      0.9105,      0.9105,     0.91065,     0.91062,\n",
              "            0.91079,     0.91088,     0.91097,     0.91121,     0.91143,     0.91154,     0.91146,     0.91163,     0.91158,     0.91156,     0.91158,     0.91167,      0.9116,     0.91168,     0.91177,     0.91201,     0.91205,      0.9121,     0.91227,     0.91249,     0.91253,     0.91258,      0.9127,\n",
              "            0.91281,     0.91313,     0.91328,     0.91345,      0.9135,     0.91357,     0.91365,     0.91379,     0.91382,     0.91411,     0.91412,     0.91426,     0.91448,     0.91452,     0.91452,     0.91456,     0.91455,     0.91478,     0.91495,     0.91511,     0.91522,     0.91539,     0.91543,\n",
              "            0.91543,      0.9158,     0.91592,     0.91598,     0.91604,     0.91638,     0.91649,     0.91643,     0.91643,     0.91654,     0.91654,     0.91658,     0.91675,     0.91676,     0.91708,     0.91713,     0.91725,     0.91723,     0.91721,     0.91725,     0.91725,     0.91746,      0.9175,\n",
              "            0.91753,     0.91758,     0.91759,     0.91755,     0.91758,     0.91769,     0.91768,     0.91779,     0.91782,     0.91784,      0.9179,     0.91775,     0.91784,     0.91781,     0.91788,     0.91787,     0.91794,     0.91811,     0.91818,     0.91804,     0.91809,     0.91808,     0.91818,\n",
              "            0.91824,     0.91823,     0.91862,     0.91871,      0.9187,     0.91876,     0.91879,     0.91894,     0.91899,     0.91897,     0.91898,     0.91899,     0.91898,     0.91902,     0.91907,      0.9191,      0.9192,     0.91921,     0.91931,     0.91939,     0.91935,     0.91946,     0.91962,\n",
              "            0.91968,     0.91933,     0.91933,     0.91927,     0.91923,     0.91921,     0.91903,     0.91912,      0.9193,     0.91935,     0.91938,     0.91936,     0.91949,     0.91934,     0.91941,     0.91972,     0.91968,     0.91979,     0.91975,     0.91979,     0.91973,     0.91964,     0.91972,\n",
              "            0.91961,     0.91983,     0.91989,     0.91959,     0.91961,     0.91958,     0.91968,     0.91997,      0.9199,     0.91992,     0.91965,     0.91975,     0.91968,     0.91964,     0.91967,     0.91954,     0.91957,     0.91956,     0.91943,     0.91929,     0.91907,     0.91906,     0.91885,\n",
              "            0.91895,      0.9188,     0.91872,      0.9187,     0.91854,     0.91845,      0.9185,     0.91849,     0.91856,     0.91829,      0.9182,     0.91822,     0.91825,      0.9181,       0.918,     0.91792,     0.91773,     0.91757,     0.91761,     0.91734,     0.91717,     0.91713,     0.91711,\n",
              "             0.9167,     0.91667,     0.91645,     0.91624,     0.91621,     0.91609,     0.91597,     0.91599,      0.9158,      0.9158,     0.91585,     0.91585,     0.91577,     0.91575,     0.91567,     0.91572,     0.91544,     0.91504,     0.91504,     0.91514,     0.91513,     0.91504,     0.91516,\n",
              "             0.9152,     0.91472,     0.91475,     0.91466,     0.91478,     0.91467,     0.91459,     0.91436,     0.91424,     0.91419,     0.91438,     0.91446,     0.91443,      0.9144,     0.91389,     0.91361,     0.91364,     0.91362,     0.91359,     0.91324,     0.91294,     0.91252,     0.91222,\n",
              "            0.91206,     0.91166,     0.91144,     0.91114,     0.91067,     0.91032,      0.9099,      0.9099,     0.90973,     0.90984,     0.90955,     0.90941,     0.90929,     0.90895,     0.90879,     0.90854,     0.90813,     0.90812,     0.90818,     0.90802,     0.90772,     0.90735,      0.9071,\n",
              "            0.90662,     0.90647,     0.90618,      0.9059,     0.90565,      0.9049,     0.90455,      0.9043,     0.90402,     0.90401,     0.90365,     0.90342,     0.90308,     0.90279,     0.90281,     0.90252,     0.90225,     0.90205,     0.90145,     0.90096,     0.90059,     0.89997,     0.89988,\n",
              "             0.8995,     0.89935,     0.89891,     0.89856,     0.89815,     0.89777,     0.89731,     0.89661,     0.89643,     0.89626,     0.89601,     0.89552,     0.89506,     0.89448,     0.89447,     0.89422,     0.89349,     0.89329,     0.89278,     0.89262,     0.89198,     0.89115,     0.89076,\n",
              "             0.8904,     0.88975,     0.88917,     0.88894,     0.88834,     0.88796,     0.88789,     0.88737,     0.88665,     0.88571,     0.88536,     0.88475,     0.88406,     0.88322,     0.88237,     0.88193,     0.88181,      0.8815,     0.88081,     0.88056,     0.87979,     0.87927,     0.87845,\n",
              "            0.87791,     0.87742,     0.87623,     0.87578,     0.87506,     0.87431,     0.87367,     0.87333,     0.87272,     0.87218,     0.87171,     0.87027,     0.86926,     0.86841,     0.86794,     0.86756,     0.86699,     0.86576,       0.865,     0.86359,     0.86337,     0.86298,     0.86196,\n",
              "            0.86138,     0.86036,     0.85984,     0.85896,     0.85817,     0.85641,     0.85589,     0.85478,     0.85387,     0.85302,     0.85242,     0.85125,     0.85013,     0.84925,      0.8482,     0.84685,      0.8459,     0.84475,     0.84292,     0.84224,     0.84124,     0.84013,     0.83893,\n",
              "            0.83771,     0.83678,     0.83561,     0.83449,     0.83281,     0.83177,     0.83064,     0.82982,     0.82874,     0.82718,     0.82433,     0.82244,     0.82126,     0.81838,     0.81669,     0.81508,     0.81359,     0.81219,     0.81065,     0.80904,     0.80621,     0.80488,     0.80363,\n",
              "            0.80188,      0.8005,     0.79879,     0.79644,      0.7948,     0.79314,     0.79174,     0.79086,     0.78746,     0.78588,     0.78283,     0.78071,     0.77934,     0.77743,      0.7756,      0.7713,     0.76932,     0.76722,     0.76464,     0.76309,     0.75916,     0.75563,     0.75556,\n",
              "            0.75223,     0.75218,     0.74778,     0.74471,     0.74451,     0.74105,      0.7376,     0.73732,     0.73279,     0.72812,     0.72798,     0.72251,     0.71826,      0.7183,     0.71491,     0.71106,     0.71101,     0.70707,     0.70701,     0.70253,     0.69923,     0.69916,     0.69452,\n",
              "            0.68918,     0.68911,     0.68426,     0.68004,     0.67481,     0.67474,     0.66868,     0.66857,     0.66343,     0.65863,     0.65855,     0.65483,     0.64909,     0.64895,     0.64293,     0.63737,      0.6373,     0.63078,     0.62567,     0.62559,     0.62048,     0.61558,     0.61077,\n",
              "             0.6107,      0.6047,     0.59767,     0.59191,     0.59182,     0.58613,     0.57952,     0.57944,     0.57408,     0.56833,     0.56233,     0.56217,     0.55618,     0.55022,     0.55013,     0.54221,     0.53608,     0.53599,     0.52979,     0.52148,     0.51405,     0.50543,     0.50533,\n",
              "            0.49988,     0.49193,     0.48305,     0.48295,     0.47617,     0.46652,     0.45933,       0.459,      0.4532,     0.44551,     0.43732,     0.43722,     0.42884,     0.42036,     0.41325,     0.40595,     0.40572,      0.3995,     0.39382,       0.387,      0.3784,     0.37061,      0.3705,\n",
              "            0.36223,     0.35275,     0.34372,      0.3354,     0.33484,     0.32566,     0.31807,     0.31139,     0.30456,     0.29505,     0.29481,     0.28618,     0.27595,     0.26777,     0.25924,     0.24786,     0.23969,     0.23275,     0.22539,     0.22455,     0.21604,      0.2074,     0.20005,\n",
              "            0.19099,     0.18228,     0.17628,     0.16783,     0.16758,     0.15888,     0.15068,     0.14282,     0.13301,     0.12678,     0.12063,     0.11263,      0.1053,    0.099344,    0.092891,    0.086734,    0.081202,    0.074556,    0.069632,    0.063511,    0.059707,    0.056526,     0.05128,\n",
              "           0.047086,     0.04301,    0.039774,    0.036758,    0.033734,        0.03,    0.027657,    0.027183,    0.023894,    0.020712,    0.019291,    0.017632,    0.015969,    0.014513,    0.012875,     0.01168,    0.011152,     0.01036,   0.0091622,   0.0082021,   0.0067632,   0.0054419,   0.0049572,\n",
              "          0.0042623,   0.0040986,   0.0038612,   0.0036155,     0.00289,    0.002284,   0.0015993,    0.001191,  0.00094468,  0.00070602,   0.0005417,  0.00047107,  0.00045517,  0.00043927,  0.00042336,  0.00040745,  0.00039155,  0.00037564,  0.00035974,  0.00034383,  0.00032792,  0.00031202,  0.00029611,\n",
              "          0.0002802,  0.00026429,  0.00024839,           0,           0,           0,           0,           0,           0,           0,           0,           0,           0,           0,           0,           0,           0,           0,           0,           0,           0,           0,           0,\n",
              "                  0,           0,           0,           0,           0,           0,           0,           0,           0,           0,           0,           0,           0,           0,           0,           0,           0,           0,           0,           0,           0,           0,           0,\n",
              "                  0,           0,           0,           0,           0,           0,           0,           0,           0,           0,           0,           0,           0,           0,           0,           0,           0,           0,           0,           0,           0,           0,           0,\n",
              "                  0,           0,           0,           0,           0,           0,           0,           0,           0,           0,           0,           0,           0,           0,           0,           0,           0,           0,           0,           0,           0,           0,           0,\n",
              "                  0,           0,           0,           0,           0,           0,           0,           0,           0,           0,           0]]), 'Confidence', 'F1'], [array([          0,    0.001001,    0.002002,    0.003003,    0.004004,    0.005005,    0.006006,    0.007007,    0.008008,    0.009009,     0.01001,    0.011011,    0.012012,    0.013013,    0.014014,    0.015015,    0.016016,    0.017017,    0.018018,    0.019019,     0.02002,    0.021021,    0.022022,    0.023023,\n",
              "          0.024024,    0.025025,    0.026026,    0.027027,    0.028028,    0.029029,     0.03003,    0.031031,    0.032032,    0.033033,    0.034034,    0.035035,    0.036036,    0.037037,    0.038038,    0.039039,     0.04004,    0.041041,    0.042042,    0.043043,    0.044044,    0.045045,    0.046046,    0.047047,\n",
              "          0.048048,    0.049049,     0.05005,    0.051051,    0.052052,    0.053053,    0.054054,    0.055055,    0.056056,    0.057057,    0.058058,    0.059059,     0.06006,    0.061061,    0.062062,    0.063063,    0.064064,    0.065065,    0.066066,    0.067067,    0.068068,    0.069069,     0.07007,    0.071071,\n",
              "          0.072072,    0.073073,    0.074074,    0.075075,    0.076076,    0.077077,    0.078078,    0.079079,     0.08008,    0.081081,    0.082082,    0.083083,    0.084084,    0.085085,    0.086086,    0.087087,    0.088088,    0.089089,     0.09009,    0.091091,    0.092092,    0.093093,    0.094094,    0.095095,\n",
              "          0.096096,    0.097097,    0.098098,    0.099099,      0.1001,      0.1011,      0.1021,      0.1031,      0.1041,     0.10511,     0.10611,     0.10711,     0.10811,     0.10911,     0.11011,     0.11111,     0.11211,     0.11311,     0.11411,     0.11512,     0.11612,     0.11712,     0.11812,     0.11912,\n",
              "           0.12012,     0.12112,     0.12212,     0.12312,     0.12412,     0.12513,     0.12613,     0.12713,     0.12813,     0.12913,     0.13013,     0.13113,     0.13213,     0.13313,     0.13413,     0.13514,     0.13614,     0.13714,     0.13814,     0.13914,     0.14014,     0.14114,     0.14214,     0.14314,\n",
              "           0.14414,     0.14515,     0.14615,     0.14715,     0.14815,     0.14915,     0.15015,     0.15115,     0.15215,     0.15315,     0.15415,     0.15516,     0.15616,     0.15716,     0.15816,     0.15916,     0.16016,     0.16116,     0.16216,     0.16316,     0.16416,     0.16517,     0.16617,     0.16717,\n",
              "           0.16817,     0.16917,     0.17017,     0.17117,     0.17217,     0.17317,     0.17417,     0.17518,     0.17618,     0.17718,     0.17818,     0.17918,     0.18018,     0.18118,     0.18218,     0.18318,     0.18418,     0.18519,     0.18619,     0.18719,     0.18819,     0.18919,     0.19019,     0.19119,\n",
              "           0.19219,     0.19319,     0.19419,      0.1952,      0.1962,      0.1972,      0.1982,      0.1992,      0.2002,      0.2012,      0.2022,      0.2032,      0.2042,     0.20521,     0.20621,     0.20721,     0.20821,     0.20921,     0.21021,     0.21121,     0.21221,     0.21321,     0.21421,     0.21522,\n",
              "           0.21622,     0.21722,     0.21822,     0.21922,     0.22022,     0.22122,     0.22222,     0.22322,     0.22422,     0.22523,     0.22623,     0.22723,     0.22823,     0.22923,     0.23023,     0.23123,     0.23223,     0.23323,     0.23423,     0.23524,     0.23624,     0.23724,     0.23824,     0.23924,\n",
              "           0.24024,     0.24124,     0.24224,     0.24324,     0.24424,     0.24525,     0.24625,     0.24725,     0.24825,     0.24925,     0.25025,     0.25125,     0.25225,     0.25325,     0.25425,     0.25526,     0.25626,     0.25726,     0.25826,     0.25926,     0.26026,     0.26126,     0.26226,     0.26326,\n",
              "           0.26426,     0.26527,     0.26627,     0.26727,     0.26827,     0.26927,     0.27027,     0.27127,     0.27227,     0.27327,     0.27427,     0.27528,     0.27628,     0.27728,     0.27828,     0.27928,     0.28028,     0.28128,     0.28228,     0.28328,     0.28428,     0.28529,     0.28629,     0.28729,\n",
              "           0.28829,     0.28929,     0.29029,     0.29129,     0.29229,     0.29329,     0.29429,      0.2953,      0.2963,      0.2973,      0.2983,      0.2993,      0.3003,      0.3013,      0.3023,      0.3033,      0.3043,     0.30531,     0.30631,     0.30731,     0.30831,     0.30931,     0.31031,     0.31131,\n",
              "           0.31231,     0.31331,     0.31431,     0.31532,     0.31632,     0.31732,     0.31832,     0.31932,     0.32032,     0.32132,     0.32232,     0.32332,     0.32432,     0.32533,     0.32633,     0.32733,     0.32833,     0.32933,     0.33033,     0.33133,     0.33233,     0.33333,     0.33433,     0.33534,\n",
              "           0.33634,     0.33734,     0.33834,     0.33934,     0.34034,     0.34134,     0.34234,     0.34334,     0.34434,     0.34535,     0.34635,     0.34735,     0.34835,     0.34935,     0.35035,     0.35135,     0.35235,     0.35335,     0.35435,     0.35536,     0.35636,     0.35736,     0.35836,     0.35936,\n",
              "           0.36036,     0.36136,     0.36236,     0.36336,     0.36436,     0.36537,     0.36637,     0.36737,     0.36837,     0.36937,     0.37037,     0.37137,     0.37237,     0.37337,     0.37437,     0.37538,     0.37638,     0.37738,     0.37838,     0.37938,     0.38038,     0.38138,     0.38238,     0.38338,\n",
              "           0.38438,     0.38539,     0.38639,     0.38739,     0.38839,     0.38939,     0.39039,     0.39139,     0.39239,     0.39339,     0.39439,      0.3954,      0.3964,      0.3974,      0.3984,      0.3994,      0.4004,      0.4014,      0.4024,      0.4034,      0.4044,     0.40541,     0.40641,     0.40741,\n",
              "           0.40841,     0.40941,     0.41041,     0.41141,     0.41241,     0.41341,     0.41441,     0.41542,     0.41642,     0.41742,     0.41842,     0.41942,     0.42042,     0.42142,     0.42242,     0.42342,     0.42442,     0.42543,     0.42643,     0.42743,     0.42843,     0.42943,     0.43043,     0.43143,\n",
              "           0.43243,     0.43343,     0.43443,     0.43544,     0.43644,     0.43744,     0.43844,     0.43944,     0.44044,     0.44144,     0.44244,     0.44344,     0.44444,     0.44545,     0.44645,     0.44745,     0.44845,     0.44945,     0.45045,     0.45145,     0.45245,     0.45345,     0.45445,     0.45546,\n",
              "           0.45646,     0.45746,     0.45846,     0.45946,     0.46046,     0.46146,     0.46246,     0.46346,     0.46446,     0.46547,     0.46647,     0.46747,     0.46847,     0.46947,     0.47047,     0.47147,     0.47247,     0.47347,     0.47447,     0.47548,     0.47648,     0.47748,     0.47848,     0.47948,\n",
              "           0.48048,     0.48148,     0.48248,     0.48348,     0.48448,     0.48549,     0.48649,     0.48749,     0.48849,     0.48949,     0.49049,     0.49149,     0.49249,     0.49349,     0.49449,      0.4955,      0.4965,      0.4975,      0.4985,      0.4995,      0.5005,      0.5015,      0.5025,      0.5035,\n",
              "            0.5045,     0.50551,     0.50651,     0.50751,     0.50851,     0.50951,     0.51051,     0.51151,     0.51251,     0.51351,     0.51451,     0.51552,     0.51652,     0.51752,     0.51852,     0.51952,     0.52052,     0.52152,     0.52252,     0.52352,     0.52452,     0.52553,     0.52653,     0.52753,\n",
              "           0.52853,     0.52953,     0.53053,     0.53153,     0.53253,     0.53353,     0.53453,     0.53554,     0.53654,     0.53754,     0.53854,     0.53954,     0.54054,     0.54154,     0.54254,     0.54354,     0.54454,     0.54555,     0.54655,     0.54755,     0.54855,     0.54955,     0.55055,     0.55155,\n",
              "           0.55255,     0.55355,     0.55455,     0.55556,     0.55656,     0.55756,     0.55856,     0.55956,     0.56056,     0.56156,     0.56256,     0.56356,     0.56456,     0.56557,     0.56657,     0.56757,     0.56857,     0.56957,     0.57057,     0.57157,     0.57257,     0.57357,     0.57457,     0.57558,\n",
              "           0.57658,     0.57758,     0.57858,     0.57958,     0.58058,     0.58158,     0.58258,     0.58358,     0.58458,     0.58559,     0.58659,     0.58759,     0.58859,     0.58959,     0.59059,     0.59159,     0.59259,     0.59359,     0.59459,      0.5956,      0.5966,      0.5976,      0.5986,      0.5996,\n",
              "            0.6006,      0.6016,      0.6026,      0.6036,      0.6046,     0.60561,     0.60661,     0.60761,     0.60861,     0.60961,     0.61061,     0.61161,     0.61261,     0.61361,     0.61461,     0.61562,     0.61662,     0.61762,     0.61862,     0.61962,     0.62062,     0.62162,     0.62262,     0.62362,\n",
              "           0.62462,     0.62563,     0.62663,     0.62763,     0.62863,     0.62963,     0.63063,     0.63163,     0.63263,     0.63363,     0.63463,     0.63564,     0.63664,     0.63764,     0.63864,     0.63964,     0.64064,     0.64164,     0.64264,     0.64364,     0.64464,     0.64565,     0.64665,     0.64765,\n",
              "           0.64865,     0.64965,     0.65065,     0.65165,     0.65265,     0.65365,     0.65465,     0.65566,     0.65666,     0.65766,     0.65866,     0.65966,     0.66066,     0.66166,     0.66266,     0.66366,     0.66466,     0.66567,     0.66667,     0.66767,     0.66867,     0.66967,     0.67067,     0.67167,\n",
              "           0.67267,     0.67367,     0.67467,     0.67568,     0.67668,     0.67768,     0.67868,     0.67968,     0.68068,     0.68168,     0.68268,     0.68368,     0.68468,     0.68569,     0.68669,     0.68769,     0.68869,     0.68969,     0.69069,     0.69169,     0.69269,     0.69369,     0.69469,      0.6957,\n",
              "            0.6967,      0.6977,      0.6987,      0.6997,      0.7007,      0.7017,      0.7027,      0.7037,      0.7047,     0.70571,     0.70671,     0.70771,     0.70871,     0.70971,     0.71071,     0.71171,     0.71271,     0.71371,     0.71471,     0.71572,     0.71672,     0.71772,     0.71872,     0.71972,\n",
              "           0.72072,     0.72172,     0.72272,     0.72372,     0.72472,     0.72573,     0.72673,     0.72773,     0.72873,     0.72973,     0.73073,     0.73173,     0.73273,     0.73373,     0.73473,     0.73574,     0.73674,     0.73774,     0.73874,     0.73974,     0.74074,     0.74174,     0.74274,     0.74374,\n",
              "           0.74474,     0.74575,     0.74675,     0.74775,     0.74875,     0.74975,     0.75075,     0.75175,     0.75275,     0.75375,     0.75475,     0.75576,     0.75676,     0.75776,     0.75876,     0.75976,     0.76076,     0.76176,     0.76276,     0.76376,     0.76476,     0.76577,     0.76677,     0.76777,\n",
              "           0.76877,     0.76977,     0.77077,     0.77177,     0.77277,     0.77377,     0.77477,     0.77578,     0.77678,     0.77778,     0.77878,     0.77978,     0.78078,     0.78178,     0.78278,     0.78378,     0.78478,     0.78579,     0.78679,     0.78779,     0.78879,     0.78979,     0.79079,     0.79179,\n",
              "           0.79279,     0.79379,     0.79479,      0.7958,      0.7968,      0.7978,      0.7988,      0.7998,      0.8008,      0.8018,      0.8028,      0.8038,      0.8048,     0.80581,     0.80681,     0.80781,     0.80881,     0.80981,     0.81081,     0.81181,     0.81281,     0.81381,     0.81481,     0.81582,\n",
              "           0.81682,     0.81782,     0.81882,     0.81982,     0.82082,     0.82182,     0.82282,     0.82382,     0.82482,     0.82583,     0.82683,     0.82783,     0.82883,     0.82983,     0.83083,     0.83183,     0.83283,     0.83383,     0.83483,     0.83584,     0.83684,     0.83784,     0.83884,     0.83984,\n",
              "           0.84084,     0.84184,     0.84284,     0.84384,     0.84484,     0.84585,     0.84685,     0.84785,     0.84885,     0.84985,     0.85085,     0.85185,     0.85285,     0.85385,     0.85485,     0.85586,     0.85686,     0.85786,     0.85886,     0.85986,     0.86086,     0.86186,     0.86286,     0.86386,\n",
              "           0.86486,     0.86587,     0.86687,     0.86787,     0.86887,     0.86987,     0.87087,     0.87187,     0.87287,     0.87387,     0.87487,     0.87588,     0.87688,     0.87788,     0.87888,     0.87988,     0.88088,     0.88188,     0.88288,     0.88388,     0.88488,     0.88589,     0.88689,     0.88789,\n",
              "           0.88889,     0.88989,     0.89089,     0.89189,     0.89289,     0.89389,     0.89489,      0.8959,      0.8969,      0.8979,      0.8989,      0.8999,      0.9009,      0.9019,      0.9029,      0.9039,      0.9049,     0.90591,     0.90691,     0.90791,     0.90891,     0.90991,     0.91091,     0.91191,\n",
              "           0.91291,     0.91391,     0.91491,     0.91592,     0.91692,     0.91792,     0.91892,     0.91992,     0.92092,     0.92192,     0.92292,     0.92392,     0.92492,     0.92593,     0.92693,     0.92793,     0.92893,     0.92993,     0.93093,     0.93193,     0.93293,     0.93393,     0.93493,     0.93594,\n",
              "           0.93694,     0.93794,     0.93894,     0.93994,     0.94094,     0.94194,     0.94294,     0.94394,     0.94494,     0.94595,     0.94695,     0.94795,     0.94895,     0.94995,     0.95095,     0.95195,     0.95295,     0.95395,     0.95495,     0.95596,     0.95696,     0.95796,     0.95896,     0.95996,\n",
              "           0.96096,     0.96196,     0.96296,     0.96396,     0.96496,     0.96597,     0.96697,     0.96797,     0.96897,     0.96997,     0.97097,     0.97197,     0.97297,     0.97397,     0.97497,     0.97598,     0.97698,     0.97798,     0.97898,     0.97998,     0.98098,     0.98198,     0.98298,     0.98398,\n",
              "           0.98498,     0.98599,     0.98699,     0.98799,     0.98899,     0.98999,     0.99099,     0.99199,     0.99299,     0.99399,     0.99499,       0.996,       0.997,       0.998,       0.999,           1]), array([[     0.2495,      0.2495,     0.31835,     0.36173,     0.39589,     0.42373,     0.44738,     0.46641,     0.48494,     0.49888,     0.51266,     0.52528,     0.53682,     0.54741,     0.55899,     0.56791,     0.57498,     0.58286,     0.59102,     0.59765,     0.60443,     0.61195,     0.61722,\n",
              "            0.62265,     0.62821,     0.63264,      0.6367,     0.64136,      0.6451,     0.64994,     0.65431,     0.65786,     0.66184,     0.66549,     0.66925,     0.67209,     0.67493,     0.67802,     0.68091,      0.6836,     0.68626,     0.68912,     0.69153,     0.69443,     0.69778,      0.6998,\n",
              "            0.70238,     0.70501,     0.70672,     0.70941,     0.71152,     0.71285,      0.7153,     0.71648,     0.71887,     0.72165,     0.72312,       0.725,     0.72759,     0.72976,     0.73162,     0.73378,     0.73542,     0.73719,     0.73945,     0.74096,     0.74233,     0.74401,     0.74525,\n",
              "            0.74688,     0.74902,     0.74982,      0.7511,     0.75298,     0.75424,     0.75564,     0.75656,     0.75778,     0.75913,     0.76045,     0.76198,     0.76325,     0.76409,     0.76509,     0.76588,     0.76722,     0.76818,     0.76904,     0.77017,     0.77127,     0.77205,     0.77309,\n",
              "            0.77422,     0.77579,     0.77661,     0.77787,     0.77893,     0.77981,      0.7807,     0.78138,     0.78264,     0.78348,      0.7844,     0.78547,     0.78642,     0.78702,     0.78794,     0.78867,     0.78914,     0.78976,     0.79066,     0.79134,     0.79249,     0.79341,     0.79451,\n",
              "            0.79496,     0.79578,     0.79682,      0.7977,     0.79836,     0.79963,     0.80063,     0.80153,     0.80228,     0.80291,     0.80431,     0.80551,     0.80636,      0.8076,     0.80822,     0.80887,     0.80955,      0.8101,     0.81065,     0.81146,     0.81201,     0.81268,     0.81333,\n",
              "            0.81419,     0.81505,     0.81538,     0.81601,     0.81662,      0.8171,     0.81768,     0.81817,     0.81875,     0.81918,     0.81969,     0.82008,     0.82041,     0.82126,       0.822,     0.82323,     0.82433,      0.8251,     0.82574,     0.82633,     0.82648,     0.82699,     0.82757,\n",
              "            0.82834,     0.82896,      0.8297,     0.83025,     0.83127,     0.83161,     0.83194,     0.83243,     0.83286,     0.83386,     0.83506,     0.83575,     0.83607,     0.83668,     0.83725,     0.83773,     0.83807,     0.83832,     0.83863,     0.83974,     0.83979,      0.8403,     0.84059,\n",
              "             0.8409,     0.84176,     0.84245,     0.84294,     0.84318,     0.84421,     0.84496,      0.8451,     0.84574,     0.84647,     0.84715,     0.84775,     0.84812,     0.84846,     0.84874,     0.84895,     0.84934,     0.84976,     0.84986,     0.85033,     0.85085,     0.85155,     0.85196,\n",
              "            0.85246,     0.85306,     0.85327,     0.85414,     0.85437,     0.85478,     0.85509,     0.85584,     0.85616,     0.85656,     0.85724,     0.85798,     0.85829,     0.85895,     0.85938,     0.86004,     0.86038,     0.86113,     0.86164,     0.86252,     0.86276,     0.86315,     0.86354,\n",
              "            0.86376,     0.86427,     0.86441,     0.86472,     0.86512,       0.866,     0.86623,     0.86726,     0.86763,     0.86768,     0.86827,     0.86857,     0.86896,      0.8692,     0.86954,     0.87003,     0.87049,     0.87075,     0.87125,     0.87158,     0.87228,     0.87239,     0.87279,\n",
              "            0.87325,     0.87337,      0.8737,     0.87392,     0.87413,     0.87446,     0.87513,     0.87536,     0.87617,     0.87622,      0.8765,     0.87672,      0.8776,     0.87771,     0.87804,     0.87847,     0.87864,     0.87898,     0.87966,     0.88005,     0.88067,     0.88095,     0.88128,\n",
              "            0.88142,     0.88182,     0.88223,     0.88256,     0.88287,     0.88327,     0.88358,     0.88411,     0.88421,     0.88442,     0.88475,     0.88528,      0.8856,     0.88584,     0.88641,     0.88654,     0.88689,     0.88726,     0.88787,     0.88797,     0.88803,     0.88843,     0.88842,\n",
              "              0.889,     0.88925,     0.88949,     0.88998,     0.89051,     0.89083,     0.89096,     0.89133,     0.89145,     0.89165,     0.89172,     0.89202,     0.89216,     0.89243,      0.8926,      0.8931,     0.89325,     0.89346,     0.89388,      0.8943,     0.89461,     0.89482,     0.89505,\n",
              "            0.89537,     0.89609,     0.89661,     0.89693,     0.89715,     0.89728,     0.89752,     0.89783,     0.89821,     0.89876,     0.89883,     0.89929,     0.89983,     0.90013,     0.90023,     0.90054,     0.90065,     0.90109,     0.90141,     0.90184,     0.90206,      0.9025,     0.90259,\n",
              "             0.9028,     0.90376,     0.90399,     0.90411,     0.90421,     0.90488,     0.90509,     0.90509,     0.90521,     0.90543,     0.90549,     0.90585,     0.90617,      0.9063,     0.90694,     0.90714,     0.90739,     0.90758,     0.90789,     0.90814,      0.9083,     0.90883,     0.90925,\n",
              "            0.90956,     0.90977,     0.91016,     0.91028,     0.91059,     0.91092,     0.91097,     0.91135,     0.91149,     0.91168,      0.9118,     0.91197,     0.91239,     0.91248,     0.91292,     0.91319,     0.91364,     0.91398,     0.91411,     0.91419,      0.9143,      0.9144,     0.91495,\n",
              "            0.91506,     0.91516,     0.91593,     0.91614,     0.91658,     0.91669,     0.91716,     0.91759,     0.91775,      0.9179,     0.91808,     0.91821,     0.91831,      0.9184,     0.91862,     0.91893,     0.91949,     0.91978,     0.92043,     0.92062,     0.92075,     0.92098,     0.92141,\n",
              "            0.92154,     0.92165,     0.92192,     0.92226,     0.92233,     0.92253,     0.92264,     0.92284,      0.9233,     0.92367,     0.92374,     0.92395,     0.92448,     0.92467,     0.92491,     0.92556,     0.92558,     0.92591,     0.92633,     0.92666,     0.92672,     0.92692,     0.92735,\n",
              "            0.92741,     0.92787,     0.92798,     0.92797,     0.92816,     0.92848,     0.92882,     0.92939,     0.92961,     0.93004,     0.93011,     0.93033,     0.93044,     0.93086,     0.93119,     0.93128,      0.9316,     0.93184,     0.93213,     0.93222,     0.93241,     0.93245,     0.93259,\n",
              "            0.93293,     0.93302,     0.93323,     0.93351,     0.93364,     0.93385,     0.93426,     0.93484,     0.93551,     0.93558,     0.93579,     0.93624,     0.93644,     0.93677,     0.93697,     0.93707,     0.93717,     0.93737,      0.9376,     0.93768,       0.938,     0.93844,     0.93866,\n",
              "            0.93872,     0.93894,     0.93914,     0.93947,     0.93956,     0.93968,     0.93987,     0.94002,     0.94019,     0.94068,     0.94091,      0.9411,      0.9412,     0.94125,     0.94147,     0.94165,     0.94173,     0.94169,     0.94237,     0.94273,     0.94302,     0.94306,     0.94337,\n",
              "            0.94353,     0.94348,     0.94394,     0.94448,     0.94472,     0.94474,     0.94528,     0.94561,     0.94562,     0.94619,      0.9469,     0.94749,     0.94796,     0.94819,     0.94861,      0.9487,     0.94906,      0.9493,     0.94952,      0.9496,     0.94981,     0.94989,     0.95021,\n",
              "            0.95044,     0.95067,     0.95109,      0.9513,     0.95166,     0.95175,     0.95202,     0.95255,      0.9529,     0.95327,     0.95337,     0.95342,     0.95389,     0.95386,     0.95409,     0.95443,      0.9544,     0.95472,     0.95525,     0.95548,      0.9557,     0.95592,     0.95599,\n",
              "            0.95622,     0.95633,     0.95643,     0.95641,     0.95676,     0.95694,     0.95691,     0.95726,      0.9573,     0.95743,     0.95746,     0.95776,     0.95816,     0.95846,     0.95876,     0.95907,     0.95934,     0.95954,     0.95953,     0.95949,     0.95959,      0.9599,     0.96029,\n",
              "            0.96051,     0.96063,     0.96072,      0.9607,     0.96117,      0.9614,     0.96162,     0.96183,      0.9622,     0.96244,     0.96281,     0.96286,     0.96287,     0.96296,     0.96374,     0.96398,     0.96406,     0.96457,     0.96466,     0.96529,     0.96539,     0.96534,      0.9655,\n",
              "            0.96555,     0.96551,     0.96547,     0.96558,     0.96568,     0.96599,     0.96644,     0.96654,     0.96703,     0.96753,     0.96775,     0.96798,     0.96821,     0.96843,     0.96855,     0.96875,     0.96915,     0.96927,     0.96923,     0.96935,     0.96958,     0.97023,     0.97088,\n",
              "            0.97098,     0.97137,      0.9713,     0.97128,     0.97138,     0.97133,     0.97172,     0.97198,     0.97233,     0.97244,     0.97287,     0.97322,     0.97345,     0.97355,     0.97367,     0.97365,     0.97362,      0.9737,     0.97423,     0.97445,     0.97501,     0.97558,     0.97567,\n",
              "            0.97579,     0.97589,      0.9763,     0.97655,     0.97666,     0.97673,     0.97715,     0.97725,     0.97765,     0.97791,     0.97802,     0.97814,     0.97824,     0.97835,     0.97876,     0.97885,     0.97881,     0.97907,      0.9793,     0.97958,     0.97985,      0.9798,     0.98022,\n",
              "            0.98064,     0.98091,     0.98146,     0.98165,     0.98171,     0.98214,     0.98242,     0.98287,       0.983,     0.98294,       0.983,     0.98294,     0.98355,     0.98362,     0.98373,     0.98384,     0.98412,     0.98424,     0.98436,     0.98431,     0.98493,     0.98502,     0.98515,\n",
              "            0.98527,     0.98523,     0.98518,     0.98597,     0.98592,     0.98623,     0.98671,     0.98669,      0.9873,     0.98726,     0.98718,     0.98713,     0.98727,     0.98722,     0.98735,     0.98742,     0.98737,     0.98731,     0.98725,      0.9872,     0.98729,     0.98738,     0.98738,\n",
              "            0.98748,     0.98748,     0.98775,     0.98826,     0.98825,     0.98817,     0.98828,     0.98827,     0.98856,     0.98865,     0.98864,     0.98913,     0.98905,     0.98919,     0.98958,      0.9897,      0.9897,     0.99004,     0.99003,     0.99037,      0.9903,      0.9903,      0.9902,\n",
              "            0.99031,      0.9903,      0.9902,     0.99011,     0.99022,     0.99022,     0.99032,     0.99032,     0.99031,     0.99034,     0.99034,     0.99026,     0.99086,     0.99086,     0.99073,     0.99086,     0.99086,     0.99149,     0.99216,     0.99216,     0.99259,     0.99251,     0.99242,\n",
              "            0.99242,     0.99258,     0.99274,     0.99264,     0.99264,     0.99253,     0.99299,     0.99299,     0.99296,      0.9931,      0.9933,     0.99329,     0.99411,     0.99403,     0.99403,     0.99391,     0.99381,     0.99381,     0.99371,     0.99358,     0.99345,     0.99365,     0.99365,\n",
              "            0.99391,     0.99414,       0.994,       0.994,     0.99389,     0.99372,     0.99399,     0.99399,     0.99429,     0.99417,     0.99445,     0.99445,     0.99431,     0.99417,     0.99404,     0.99484,     0.99483,     0.99473,     0.99512,     0.99502,     0.99488,     0.99684,     0.99684,\n",
              "            0.99675,     0.99776,     0.99769,     0.99762,     0.99761,     0.99753,      0.9981,     0.99805,     0.99933,     0.99931,      0.9993,     0.99928,     0.99925,     0.99922,     0.99919,     0.99915,     0.99912,     0.99909,     0.99905,     0.99905,     0.99901,           1,           1,\n",
              "                  1,           1,           1,           1,           1,           1,           1,           1,           1,           1,           1,           1,           1,           1,           1,           1,           1,           1,           1,           1,           1,           1,           1,\n",
              "                  1,           1,           1,           1,           1,           1,           1,           1,           1,           1,           1,           1,           1,           1,           1,           1,           1,           1,           1,           1,           1,           1,           1,\n",
              "                  1,           1,           1,           1,           1,           1,           1,           1,           1,           1,           1,           1,           1,           1,           1,           1,           1,           1,           1,           1,           1,           1,           1,\n",
              "                  1,           1,           1,           1,           1,           1,           1,           1,           1,           1,           1,           1,           1,           1,           1,           1,           1,           1,           1,           1,           1,           1,           1,\n",
              "                  1,           1,           1,           1,           1,           1,           1,           1,           1,           1,           1,           1,           1,           1,           1,           1,           1,           1,           1,           1,           1,           1,           1,\n",
              "                  1,           1,           1,           1,           1,           1,           1,           1,           1,           1,           1,           1,           1,           1,           1,           1,           1,           1,           1,           1,           1,           1,           1,\n",
              "                  1,           1,           1,           1,           1,           1,           1,           1,           1,           1,           1,           1,           1,           1,           1,           1,           1,           1,           1,           1,           1,           1,           1,\n",
              "                  1,           1,           1,           1,           1,           1,           1,           1,           1,           1,           1]]), 'Confidence', 'Precision'], [array([          0,    0.001001,    0.002002,    0.003003,    0.004004,    0.005005,    0.006006,    0.007007,    0.008008,    0.009009,     0.01001,    0.011011,    0.012012,    0.013013,    0.014014,    0.015015,    0.016016,    0.017017,    0.018018,    0.019019,     0.02002,    0.021021,    0.022022,    0.023023,\n",
              "          0.024024,    0.025025,    0.026026,    0.027027,    0.028028,    0.029029,     0.03003,    0.031031,    0.032032,    0.033033,    0.034034,    0.035035,    0.036036,    0.037037,    0.038038,    0.039039,     0.04004,    0.041041,    0.042042,    0.043043,    0.044044,    0.045045,    0.046046,    0.047047,\n",
              "          0.048048,    0.049049,     0.05005,    0.051051,    0.052052,    0.053053,    0.054054,    0.055055,    0.056056,    0.057057,    0.058058,    0.059059,     0.06006,    0.061061,    0.062062,    0.063063,    0.064064,    0.065065,    0.066066,    0.067067,    0.068068,    0.069069,     0.07007,    0.071071,\n",
              "          0.072072,    0.073073,    0.074074,    0.075075,    0.076076,    0.077077,    0.078078,    0.079079,     0.08008,    0.081081,    0.082082,    0.083083,    0.084084,    0.085085,    0.086086,    0.087087,    0.088088,    0.089089,     0.09009,    0.091091,    0.092092,    0.093093,    0.094094,    0.095095,\n",
              "          0.096096,    0.097097,    0.098098,    0.099099,      0.1001,      0.1011,      0.1021,      0.1031,      0.1041,     0.10511,     0.10611,     0.10711,     0.10811,     0.10911,     0.11011,     0.11111,     0.11211,     0.11311,     0.11411,     0.11512,     0.11612,     0.11712,     0.11812,     0.11912,\n",
              "           0.12012,     0.12112,     0.12212,     0.12312,     0.12412,     0.12513,     0.12613,     0.12713,     0.12813,     0.12913,     0.13013,     0.13113,     0.13213,     0.13313,     0.13413,     0.13514,     0.13614,     0.13714,     0.13814,     0.13914,     0.14014,     0.14114,     0.14214,     0.14314,\n",
              "           0.14414,     0.14515,     0.14615,     0.14715,     0.14815,     0.14915,     0.15015,     0.15115,     0.15215,     0.15315,     0.15415,     0.15516,     0.15616,     0.15716,     0.15816,     0.15916,     0.16016,     0.16116,     0.16216,     0.16316,     0.16416,     0.16517,     0.16617,     0.16717,\n",
              "           0.16817,     0.16917,     0.17017,     0.17117,     0.17217,     0.17317,     0.17417,     0.17518,     0.17618,     0.17718,     0.17818,     0.17918,     0.18018,     0.18118,     0.18218,     0.18318,     0.18418,     0.18519,     0.18619,     0.18719,     0.18819,     0.18919,     0.19019,     0.19119,\n",
              "           0.19219,     0.19319,     0.19419,      0.1952,      0.1962,      0.1972,      0.1982,      0.1992,      0.2002,      0.2012,      0.2022,      0.2032,      0.2042,     0.20521,     0.20621,     0.20721,     0.20821,     0.20921,     0.21021,     0.21121,     0.21221,     0.21321,     0.21421,     0.21522,\n",
              "           0.21622,     0.21722,     0.21822,     0.21922,     0.22022,     0.22122,     0.22222,     0.22322,     0.22422,     0.22523,     0.22623,     0.22723,     0.22823,     0.22923,     0.23023,     0.23123,     0.23223,     0.23323,     0.23423,     0.23524,     0.23624,     0.23724,     0.23824,     0.23924,\n",
              "           0.24024,     0.24124,     0.24224,     0.24324,     0.24424,     0.24525,     0.24625,     0.24725,     0.24825,     0.24925,     0.25025,     0.25125,     0.25225,     0.25325,     0.25425,     0.25526,     0.25626,     0.25726,     0.25826,     0.25926,     0.26026,     0.26126,     0.26226,     0.26326,\n",
              "           0.26426,     0.26527,     0.26627,     0.26727,     0.26827,     0.26927,     0.27027,     0.27127,     0.27227,     0.27327,     0.27427,     0.27528,     0.27628,     0.27728,     0.27828,     0.27928,     0.28028,     0.28128,     0.28228,     0.28328,     0.28428,     0.28529,     0.28629,     0.28729,\n",
              "           0.28829,     0.28929,     0.29029,     0.29129,     0.29229,     0.29329,     0.29429,      0.2953,      0.2963,      0.2973,      0.2983,      0.2993,      0.3003,      0.3013,      0.3023,      0.3033,      0.3043,     0.30531,     0.30631,     0.30731,     0.30831,     0.30931,     0.31031,     0.31131,\n",
              "           0.31231,     0.31331,     0.31431,     0.31532,     0.31632,     0.31732,     0.31832,     0.31932,     0.32032,     0.32132,     0.32232,     0.32332,     0.32432,     0.32533,     0.32633,     0.32733,     0.32833,     0.32933,     0.33033,     0.33133,     0.33233,     0.33333,     0.33433,     0.33534,\n",
              "           0.33634,     0.33734,     0.33834,     0.33934,     0.34034,     0.34134,     0.34234,     0.34334,     0.34434,     0.34535,     0.34635,     0.34735,     0.34835,     0.34935,     0.35035,     0.35135,     0.35235,     0.35335,     0.35435,     0.35536,     0.35636,     0.35736,     0.35836,     0.35936,\n",
              "           0.36036,     0.36136,     0.36236,     0.36336,     0.36436,     0.36537,     0.36637,     0.36737,     0.36837,     0.36937,     0.37037,     0.37137,     0.37237,     0.37337,     0.37437,     0.37538,     0.37638,     0.37738,     0.37838,     0.37938,     0.38038,     0.38138,     0.38238,     0.38338,\n",
              "           0.38438,     0.38539,     0.38639,     0.38739,     0.38839,     0.38939,     0.39039,     0.39139,     0.39239,     0.39339,     0.39439,      0.3954,      0.3964,      0.3974,      0.3984,      0.3994,      0.4004,      0.4014,      0.4024,      0.4034,      0.4044,     0.40541,     0.40641,     0.40741,\n",
              "           0.40841,     0.40941,     0.41041,     0.41141,     0.41241,     0.41341,     0.41441,     0.41542,     0.41642,     0.41742,     0.41842,     0.41942,     0.42042,     0.42142,     0.42242,     0.42342,     0.42442,     0.42543,     0.42643,     0.42743,     0.42843,     0.42943,     0.43043,     0.43143,\n",
              "           0.43243,     0.43343,     0.43443,     0.43544,     0.43644,     0.43744,     0.43844,     0.43944,     0.44044,     0.44144,     0.44244,     0.44344,     0.44444,     0.44545,     0.44645,     0.44745,     0.44845,     0.44945,     0.45045,     0.45145,     0.45245,     0.45345,     0.45445,     0.45546,\n",
              "           0.45646,     0.45746,     0.45846,     0.45946,     0.46046,     0.46146,     0.46246,     0.46346,     0.46446,     0.46547,     0.46647,     0.46747,     0.46847,     0.46947,     0.47047,     0.47147,     0.47247,     0.47347,     0.47447,     0.47548,     0.47648,     0.47748,     0.47848,     0.47948,\n",
              "           0.48048,     0.48148,     0.48248,     0.48348,     0.48448,     0.48549,     0.48649,     0.48749,     0.48849,     0.48949,     0.49049,     0.49149,     0.49249,     0.49349,     0.49449,      0.4955,      0.4965,      0.4975,      0.4985,      0.4995,      0.5005,      0.5015,      0.5025,      0.5035,\n",
              "            0.5045,     0.50551,     0.50651,     0.50751,     0.50851,     0.50951,     0.51051,     0.51151,     0.51251,     0.51351,     0.51451,     0.51552,     0.51652,     0.51752,     0.51852,     0.51952,     0.52052,     0.52152,     0.52252,     0.52352,     0.52452,     0.52553,     0.52653,     0.52753,\n",
              "           0.52853,     0.52953,     0.53053,     0.53153,     0.53253,     0.53353,     0.53453,     0.53554,     0.53654,     0.53754,     0.53854,     0.53954,     0.54054,     0.54154,     0.54254,     0.54354,     0.54454,     0.54555,     0.54655,     0.54755,     0.54855,     0.54955,     0.55055,     0.55155,\n",
              "           0.55255,     0.55355,     0.55455,     0.55556,     0.55656,     0.55756,     0.55856,     0.55956,     0.56056,     0.56156,     0.56256,     0.56356,     0.56456,     0.56557,     0.56657,     0.56757,     0.56857,     0.56957,     0.57057,     0.57157,     0.57257,     0.57357,     0.57457,     0.57558,\n",
              "           0.57658,     0.57758,     0.57858,     0.57958,     0.58058,     0.58158,     0.58258,     0.58358,     0.58458,     0.58559,     0.58659,     0.58759,     0.58859,     0.58959,     0.59059,     0.59159,     0.59259,     0.59359,     0.59459,      0.5956,      0.5966,      0.5976,      0.5986,      0.5996,\n",
              "            0.6006,      0.6016,      0.6026,      0.6036,      0.6046,     0.60561,     0.60661,     0.60761,     0.60861,     0.60961,     0.61061,     0.61161,     0.61261,     0.61361,     0.61461,     0.61562,     0.61662,     0.61762,     0.61862,     0.61962,     0.62062,     0.62162,     0.62262,     0.62362,\n",
              "           0.62462,     0.62563,     0.62663,     0.62763,     0.62863,     0.62963,     0.63063,     0.63163,     0.63263,     0.63363,     0.63463,     0.63564,     0.63664,     0.63764,     0.63864,     0.63964,     0.64064,     0.64164,     0.64264,     0.64364,     0.64464,     0.64565,     0.64665,     0.64765,\n",
              "           0.64865,     0.64965,     0.65065,     0.65165,     0.65265,     0.65365,     0.65465,     0.65566,     0.65666,     0.65766,     0.65866,     0.65966,     0.66066,     0.66166,     0.66266,     0.66366,     0.66466,     0.66567,     0.66667,     0.66767,     0.66867,     0.66967,     0.67067,     0.67167,\n",
              "           0.67267,     0.67367,     0.67467,     0.67568,     0.67668,     0.67768,     0.67868,     0.67968,     0.68068,     0.68168,     0.68268,     0.68368,     0.68468,     0.68569,     0.68669,     0.68769,     0.68869,     0.68969,     0.69069,     0.69169,     0.69269,     0.69369,     0.69469,      0.6957,\n",
              "            0.6967,      0.6977,      0.6987,      0.6997,      0.7007,      0.7017,      0.7027,      0.7037,      0.7047,     0.70571,     0.70671,     0.70771,     0.70871,     0.70971,     0.71071,     0.71171,     0.71271,     0.71371,     0.71471,     0.71572,     0.71672,     0.71772,     0.71872,     0.71972,\n",
              "           0.72072,     0.72172,     0.72272,     0.72372,     0.72472,     0.72573,     0.72673,     0.72773,     0.72873,     0.72973,     0.73073,     0.73173,     0.73273,     0.73373,     0.73473,     0.73574,     0.73674,     0.73774,     0.73874,     0.73974,     0.74074,     0.74174,     0.74274,     0.74374,\n",
              "           0.74474,     0.74575,     0.74675,     0.74775,     0.74875,     0.74975,     0.75075,     0.75175,     0.75275,     0.75375,     0.75475,     0.75576,     0.75676,     0.75776,     0.75876,     0.75976,     0.76076,     0.76176,     0.76276,     0.76376,     0.76476,     0.76577,     0.76677,     0.76777,\n",
              "           0.76877,     0.76977,     0.77077,     0.77177,     0.77277,     0.77377,     0.77477,     0.77578,     0.77678,     0.77778,     0.77878,     0.77978,     0.78078,     0.78178,     0.78278,     0.78378,     0.78478,     0.78579,     0.78679,     0.78779,     0.78879,     0.78979,     0.79079,     0.79179,\n",
              "           0.79279,     0.79379,     0.79479,      0.7958,      0.7968,      0.7978,      0.7988,      0.7998,      0.8008,      0.8018,      0.8028,      0.8038,      0.8048,     0.80581,     0.80681,     0.80781,     0.80881,     0.80981,     0.81081,     0.81181,     0.81281,     0.81381,     0.81481,     0.81582,\n",
              "           0.81682,     0.81782,     0.81882,     0.81982,     0.82082,     0.82182,     0.82282,     0.82382,     0.82482,     0.82583,     0.82683,     0.82783,     0.82883,     0.82983,     0.83083,     0.83183,     0.83283,     0.83383,     0.83483,     0.83584,     0.83684,     0.83784,     0.83884,     0.83984,\n",
              "           0.84084,     0.84184,     0.84284,     0.84384,     0.84484,     0.84585,     0.84685,     0.84785,     0.84885,     0.84985,     0.85085,     0.85185,     0.85285,     0.85385,     0.85485,     0.85586,     0.85686,     0.85786,     0.85886,     0.85986,     0.86086,     0.86186,     0.86286,     0.86386,\n",
              "           0.86486,     0.86587,     0.86687,     0.86787,     0.86887,     0.86987,     0.87087,     0.87187,     0.87287,     0.87387,     0.87487,     0.87588,     0.87688,     0.87788,     0.87888,     0.87988,     0.88088,     0.88188,     0.88288,     0.88388,     0.88488,     0.88589,     0.88689,     0.88789,\n",
              "           0.88889,     0.88989,     0.89089,     0.89189,     0.89289,     0.89389,     0.89489,      0.8959,      0.8969,      0.8979,      0.8989,      0.8999,      0.9009,      0.9019,      0.9029,      0.9039,      0.9049,     0.90591,     0.90691,     0.90791,     0.90891,     0.90991,     0.91091,     0.91191,\n",
              "           0.91291,     0.91391,     0.91491,     0.91592,     0.91692,     0.91792,     0.91892,     0.91992,     0.92092,     0.92192,     0.92292,     0.92392,     0.92492,     0.92593,     0.92693,     0.92793,     0.92893,     0.92993,     0.93093,     0.93193,     0.93293,     0.93393,     0.93493,     0.93594,\n",
              "           0.93694,     0.93794,     0.93894,     0.93994,     0.94094,     0.94194,     0.94294,     0.94394,     0.94494,     0.94595,     0.94695,     0.94795,     0.94895,     0.94995,     0.95095,     0.95195,     0.95295,     0.95395,     0.95495,     0.95596,     0.95696,     0.95796,     0.95896,     0.95996,\n",
              "           0.96096,     0.96196,     0.96296,     0.96396,     0.96496,     0.96597,     0.96697,     0.96797,     0.96897,     0.96997,     0.97097,     0.97197,     0.97297,     0.97397,     0.97497,     0.97598,     0.97698,     0.97798,     0.97898,     0.97998,     0.98098,     0.98198,     0.98298,     0.98398,\n",
              "           0.98498,     0.98599,     0.98699,     0.98799,     0.98899,     0.98999,     0.99099,     0.99199,     0.99299,     0.99399,     0.99499,       0.996,       0.997,       0.998,       0.999,           1]), array([[    0.98099,     0.98099,     0.97931,     0.97834,     0.97786,      0.9775,     0.97678,     0.97654,     0.97582,      0.9751,     0.97474,     0.97449,     0.97449,     0.97425,     0.97365,     0.97293,     0.97281,     0.97257,     0.97257,     0.97233,     0.97209,     0.97209,     0.97197,\n",
              "            0.97137,     0.97101,     0.97028,      0.9698,      0.9698,      0.9698,     0.96968,     0.96944,     0.96944,      0.9692,     0.96908,     0.96908,     0.96896,     0.96884,     0.96884,     0.96884,     0.96884,     0.96884,     0.96872,     0.96872,     0.96836,       0.968,     0.96776,\n",
              "            0.96752,      0.9674,      0.9674,     0.96716,     0.96704,     0.96692,     0.96692,     0.96667,     0.96643,     0.96619,     0.96607,     0.96583,     0.96583,     0.96571,     0.96559,     0.96547,     0.96547,     0.96547,     0.96547,     0.96535,     0.96535,     0.96511,     0.96499,\n",
              "            0.96485,     0.96475,     0.96451,     0.96427,     0.96377,     0.96333,     0.96307,     0.96282,     0.96282,      0.9627,     0.96234,      0.9621,      0.9621,      0.9621,      0.9621,     0.96198,     0.96198,     0.96186,     0.96186,     0.96174,      0.9615,      0.9615,     0.96114,\n",
              "            0.96114,     0.96102,     0.96102,     0.96078,     0.96078,     0.96066,     0.96066,     0.96066,     0.96054,     0.96054,     0.96054,     0.96054,     0.96042,     0.96042,      0.9603,     0.95992,     0.95982,      0.9597,      0.9597,      0.9597,      0.9597,     0.95934,     0.95934,\n",
              "             0.9591,     0.95897,     0.95885,     0.95861,     0.95861,     0.95831,     0.95825,     0.95813,     0.95789,     0.95789,     0.95777,     0.95765,     0.95753,     0.95741,     0.95724,     0.95693,     0.95693,     0.95657,     0.95657,     0.95657,     0.95645,     0.95621,     0.95609,\n",
              "            0.95609,     0.95597,     0.95591,     0.95585,     0.95585,     0.95573,     0.95561,     0.95549,     0.95537,     0.95537,     0.95537,     0.95513,     0.95488,     0.95488,     0.95476,     0.95464,     0.95462,     0.95452,     0.95428,     0.95416,     0.95416,     0.95404,     0.95404,\n",
              "            0.95384,     0.95356,     0.95344,     0.95344,     0.95306,     0.95296,     0.95296,     0.95284,     0.95284,      0.9526,     0.95248,     0.95248,     0.95248,     0.95248,     0.95224,     0.95212,     0.95212,     0.95212,       0.952,     0.95176,     0.95165,     0.95144,      0.9514,\n",
              "            0.95128,     0.95115,     0.95115,     0.95103,     0.95103,     0.95091,     0.95055,     0.95055,     0.95049,     0.95043,     0.95031,     0.95031,     0.94995,     0.94995,     0.94971,     0.94947,     0.94923,     0.94922,     0.94887,     0.94863,     0.94863,     0.94863,     0.94863,\n",
              "            0.94851,     0.94839,     0.94827,     0.94815,     0.94815,     0.94803,     0.94791,     0.94755,     0.94755,     0.94743,     0.94718,     0.94682,      0.9467,     0.94634,     0.94634,      0.9461,     0.94601,     0.94574,     0.94574,     0.94562,     0.94562,     0.94538,     0.94514,\n",
              "            0.94502,     0.94502,     0.94502,      0.9449,     0.94466,     0.94454,     0.94423,     0.94394,     0.94388,      0.9437,     0.94346,     0.94321,     0.94297,     0.94256,     0.94237,     0.94213,     0.94207,     0.94189,     0.94165,     0.94165,     0.94165,     0.94141,     0.94117,\n",
              "             0.9408,     0.94057,     0.94047,     0.94045,     0.94033,     0.94021,     0.93985,     0.93985,     0.93973,     0.93973,     0.93973,     0.93961,     0.93924,       0.939,       0.939,       0.939,     0.93897,     0.93876,     0.93828,     0.93792,     0.93761,     0.93746,     0.93682,\n",
              "            0.93672,      0.9366,     0.93648,     0.93636,     0.93612,       0.936,     0.93588,     0.93576,     0.93564,     0.93551,     0.93539,     0.93539,     0.93539,     0.93539,     0.93503,     0.93503,     0.93482,     0.93467,     0.93443,     0.93419,     0.93413,     0.93402,     0.93395,\n",
              "            0.93367,     0.93359,      0.9335,     0.93347,     0.93335,     0.93323,     0.93293,     0.93287,     0.93264,     0.93239,     0.93235,     0.93221,     0.93191,     0.93179,     0.93179,     0.93174,     0.93167,     0.93154,     0.93142,     0.93142,     0.93118,     0.93106,     0.93106,\n",
              "            0.93094,     0.93082,     0.93058,     0.93058,     0.93046,     0.93046,     0.93038,     0.93034,     0.92998,     0.92998,     0.92993,     0.92974,     0.92962,     0.92938,     0.92927,     0.92902,      0.9289,      0.9289,      0.9289,     0.92878,     0.92878,     0.92866,     0.92864,\n",
              "            0.92842,     0.92818,     0.92818,     0.92818,     0.92818,     0.92818,     0.92817,     0.92806,     0.92794,     0.92794,     0.92787,     0.92757,     0.92757,     0.92746,     0.92745,     0.92733,     0.92733,     0.92709,     0.92673,     0.92654,     0.92637,     0.92625,     0.92589,\n",
              "            0.92565,     0.92553,     0.92514,     0.92493,     0.92469,     0.92457,     0.92449,     0.92433,     0.92425,     0.92409,     0.92409,     0.92361,     0.92336,     0.92321,     0.92288,      0.9226,     0.92228,     0.92228,     0.92228,     0.92192,     0.92192,      0.9218,     0.92144,\n",
              "            0.92144,     0.92132,     0.92132,      0.9213,     0.92084,     0.92084,     0.92042,      0.9203,     0.92024,     0.92003,     0.91987,     0.91978,     0.91965,     0.91963,     0.91951,     0.91927,     0.91891,     0.91865,     0.91819,     0.91816,     0.91795,     0.91795,     0.91783,\n",
              "            0.91783,     0.91703,     0.91675,      0.9163,     0.91615,      0.9159,     0.91545,     0.91542,     0.91533,     0.91506,     0.91506,     0.91482,     0.91456,     0.91408,     0.91398,     0.91395,     0.91386,     0.91374,     0.91326,     0.91302,     0.91285,     0.91247,     0.91222,\n",
              "            0.91193,     0.91193,     0.91193,     0.91136,     0.91121,     0.91085,     0.91073,     0.91073,     0.91038,     0.91002,     0.90942,     0.90941,     0.90917,     0.90868,     0.90844,     0.90808,     0.90783,      0.9076,     0.90708,     0.90671,     0.90611,     0.90604,      0.9055,\n",
              "            0.90538,     0.90501,     0.90465,     0.90436,     0.90392,     0.90356,     0.90327,     0.90271,     0.90222,     0.90162,     0.90126,     0.90089,     0.90075,     0.90016,     0.89978,     0.89954,     0.89907,     0.89859,     0.89846,     0.89786,     0.89726,     0.89677,     0.89653,\n",
              "            0.89568,     0.89544,     0.89483,     0.89413,     0.89399,     0.89365,     0.89326,     0.89317,     0.89265,      0.8922,     0.89208,     0.89192,     0.89168,      0.8916,     0.89124,     0.89119,     0.89058,     0.88986,     0.88925,     0.88913,     0.88884,     0.88864,     0.88859,\n",
              "            0.88852,     0.88767,     0.88731,     0.88667,     0.88667,     0.88645,     0.88583,     0.88511,     0.88488,     0.88428,     0.88402,     0.88366,     0.88319,     0.88294,     0.88162,     0.88102,     0.88077,     0.88053,     0.88028,     0.87956,     0.87883,     0.87799,     0.87714,\n",
              "            0.87666,     0.87572,     0.87497,     0.87424,     0.87308,     0.87235,     0.87134,     0.87091,     0.87031,     0.87019,     0.86959,     0.86928,     0.86868,     0.86807,     0.86759,     0.86687,     0.86614,     0.86586,     0.86553,     0.86505,     0.86432,     0.86348,     0.86297,\n",
              "            0.86191,     0.86154,     0.86094,     0.86046,     0.85973,     0.85822,     0.85762,     0.85689,     0.85635,     0.85623,     0.85556,     0.85491,     0.85399,     0.85322,     0.85302,     0.85226,     0.85157,     0.85106,        0.85,     0.84916,     0.84843,     0.84709,     0.84662,\n",
              "            0.84578,     0.84541,     0.84457,     0.84396,     0.84288,     0.84203,     0.84106,     0.83968,     0.83908,     0.83859,     0.83787,     0.83698,     0.83618,     0.83509,     0.83449,     0.83388,     0.83256,     0.83183,     0.83087,     0.83013,     0.82894,     0.82755,     0.82676,\n",
              "             0.8261,     0.82501,     0.82405,     0.82356,     0.82248,     0.82158,     0.82115,     0.82018,     0.81862,     0.81665,      0.8159,      0.8147,     0.81337,      0.8118,     0.81027,     0.80939,     0.80891,      0.8083,     0.80717,     0.80667,     0.80523,      0.8039,     0.80209,\n",
              "            0.80113,     0.80004,     0.79811,     0.79737,     0.79612,     0.79492,     0.79359,     0.79286,     0.79163,     0.79066,     0.78961,     0.78702,     0.78521,     0.78376,     0.78292,     0.78231,     0.78141,     0.77936,     0.77779,     0.77538,     0.77466,     0.77369,     0.77199,\n",
              "            0.77098,     0.76929,     0.76821,     0.76664,     0.76531,     0.76248,      0.7614,     0.75959,      0.7579,     0.75641,     0.75541,      0.7535,     0.75169,     0.75025,     0.74838,     0.74621,     0.74476,     0.74284,     0.73989,     0.73868,     0.73699,     0.73531,     0.73324,\n",
              "            0.73115,     0.72958,      0.7275,      0.7257,     0.72314,     0.72133,     0.71948,     0.71801,     0.71633,     0.71404,     0.70976,     0.70699,     0.70495,     0.70067,     0.69814,     0.69573,     0.69343,     0.69134,     0.68905,     0.68676,     0.68239,     0.68044,      0.6786,\n",
              "            0.67604,     0.67411,      0.6717,     0.66803,     0.66574,     0.66328,      0.6611,      0.6599,      0.6549,     0.65273,     0.64858,     0.64569,     0.64375,     0.64117,     0.63864,      0.6328,     0.63015,     0.62736,     0.62395,      0.6219,     0.61667,     0.61198,      0.6119,\n",
              "             0.6075,     0.60744,     0.60161,     0.59747,     0.59722,      0.5928,     0.58837,       0.588,     0.58217,     0.57626,     0.57608,      0.5691,     0.56388,     0.56388,     0.55959,     0.55485,     0.55479,     0.54991,     0.54982,     0.54433,      0.5404,     0.54031,     0.53482,\n",
              "            0.52848,      0.5284,     0.52274,     0.51787,     0.51179,     0.51171,     0.50474,     0.50462,      0.4988,     0.49337,     0.49329,     0.48915,     0.48262,     0.48247,     0.47588,     0.46978,      0.4697,     0.46252,      0.4569,     0.45682,     0.45129,     0.44615,     0.44113,\n",
              "            0.44105,     0.43479,     0.42753,     0.42167,     0.42159,     0.41586,     0.40916,     0.40907,     0.40375,     0.39807,     0.39217,     0.39202,     0.38609,     0.38039,     0.38031,     0.37279,     0.36703,     0.36695,     0.36117,     0.35351,     0.34673,     0.33891,     0.33882,\n",
              "            0.33391,     0.32683,     0.31905,     0.31896,     0.31308,      0.3048,     0.29867,     0.29839,     0.29349,     0.28708,     0.28029,     0.28021,     0.27337,     0.26653,     0.26085,       0.255,     0.25482,     0.24994,     0.24549,     0.24021,     0.23363,     0.22762,     0.22753,\n",
              "            0.22133,     0.21425,     0.20763,     0.20158,     0.20119,     0.19459,     0.18918,     0.18448,     0.17966,     0.17308,     0.17291,     0.16701,     0.16008,      0.1546,     0.14894,     0.14148,     0.13618,     0.13172,     0.12702,     0.12649,     0.12112,      0.1157,     0.11114,\n",
              "            0.10558,     0.10028,    0.096662,    0.091604,    0.091456,    0.086298,     0.08148,    0.076902,    0.071241,     0.06768,    0.064188,    0.059674,    0.055577,    0.052268,    0.048708,    0.045333,    0.042319,    0.038722,    0.036072,    0.032797,    0.030772,    0.029085,    0.026315,\n",
              "           0.024111,    0.021978,     0.02029,    0.018723,    0.017156,    0.015228,    0.014022,    0.013779,    0.012091,    0.010464,   0.0097393,   0.0088942,    0.008049,   0.0073095,    0.006479,   0.0058744,   0.0056071,   0.0052067,   0.0046022,   0.0041179,   0.0033931,   0.0027284,   0.0024847,\n",
              "          0.0021357,   0.0020535,   0.0019343,    0.001811,   0.0014471,   0.0011433,  0.00080029,  0.00059588,  0.00047256,  0.00035314,  0.00027092,  0.00023559,  0.00022764,  0.00021968,  0.00021172,  0.00020377,  0.00019581,  0.00018786,   0.0001799,  0.00017194,  0.00016399,  0.00015603,  0.00014808,\n",
              "         0.00014012,  0.00013216,  0.00012421,           0,           0,           0,           0,           0,           0,           0,           0,           0,           0,           0,           0,           0,           0,           0,           0,           0,           0,           0,           0,\n",
              "                  0,           0,           0,           0,           0,           0,           0,           0,           0,           0,           0,           0,           0,           0,           0,           0,           0,           0,           0,           0,           0,           0,           0,\n",
              "                  0,           0,           0,           0,           0,           0,           0,           0,           0,           0,           0,           0,           0,           0,           0,           0,           0,           0,           0,           0,           0,           0,           0,\n",
              "                  0,           0,           0,           0,           0,           0,           0,           0,           0,           0,           0,           0,           0,           0,           0,           0,           0,           0,           0,           0,           0,           0,           0,\n",
              "                  0,           0,           0,           0,           0,           0,           0,           0,           0,           0,           0]]), 'Confidence', 'Recall']]\n",
              "fitness: 0.593405124491464\n",
              "keys: ['metrics/precision(B)', 'metrics/recall(B)', 'metrics/mAP50(B)', 'metrics/mAP50-95(B)']\n",
              "maps: array([    0.55299])\n",
              "names: {0: 'head'}\n",
              "plot: True\n",
              "results_dict: {'metrics/precision(B)': 0.9239520454418364, 'metrics/recall(B)': 0.9148219441770934, 'metrics/mAP50(B)': 0.9571014799547054, 'metrics/mAP50-95(B)': 0.5529944183288816, 'fitness': 0.593405124491464}\n",
              "save_dir: PosixPath('runs/detect/train2')\n",
              "speed: {'preprocess': 0.09665161754951967, 'inference': 1.8830570540203047, 'loss': 0.0003586511243566423, 'postprocess': 0.8277903298963294}\n",
              "task: 'detect'"
            ]
          },
          "metadata": {},
          "execution_count": 9
        }
      ]
    },
    {
      "cell_type": "code",
      "source": [
        "from ultralytics import YOLO\n",
        "\n",
        "# Load the trained model\n",
        "model = YOLO('/content/drive/MyDrive/detect/train4/weights/best.pt')\n",
        "\n",
        "# Test on an image\n",
        "results = model('/content/drive/MyDrive/Headdatasets.v2-headdatasets-v2.yolov8/test/images/PartB_02027_jpg.rf.ea55edc1610edbf10be93a2803a8cfee.jpg', save=True, conf=0.25)  # Adjust `conf` for confidence threshold\n"
      ],
      "metadata": {
        "colab": {
          "base_uri": "https://localhost:8080/"
        },
        "id": "U_TS_dFdjdN1",
        "outputId": "e5f3c527-d04d-4108-ff1c-7be6ae8f7781"
      },
      "execution_count": null,
      "outputs": [
        {
          "output_type": "stream",
          "name": "stdout",
          "text": [
            "\n",
            "image 1/1 /content/drive/MyDrive/Headdatasets.v2-headdatasets-v2.yolov8/test/images/PartB_02027_jpg.rf.ea55edc1610edbf10be93a2803a8cfee.jpg: 544x640 37 heads, 57.9ms\n",
            "Speed: 2.3ms preprocess, 57.9ms inference, 1.4ms postprocess per image at shape (1, 3, 544, 640)\n",
            "Results saved to \u001b[1mruns/detect/predict4\u001b[0m\n"
          ]
        }
      ]
    },
    {
      "cell_type": "code",
      "source": [
        "metrics = model.val(data='/content/drive/MyDrive/lasthope/data.yaml', conf=0.25)\n",
        "print(metrics)  # Display evaluation metrics\n"
      ],
      "metadata": {
        "colab": {
          "base_uri": "https://localhost:8080/"
        },
        "id": "c3r8BnYQO1sv",
        "outputId": "5b353576-bd66-4f73-8009-5fc04dc24611"
      },
      "execution_count": null,
      "outputs": [
        {
          "output_type": "stream",
          "name": "stdout",
          "text": [
            "Ultralytics 8.3.35 🚀 Python-3.10.12 torch-2.5.1+cu121 CUDA:0 (NVIDIA A100-SXM4-40GB, 40514MiB)\n",
            "Downloading https://ultralytics.com/assets/Arial.ttf to '/root/.config/Ultralytics/Arial.ttf'...\n"
          ]
        },
        {
          "output_type": "stream",
          "name": "stderr",
          "text": [
            "100%|██████████| 755k/755k [00:00<00:00, 15.1MB/s]\n",
            "\u001b[34m\u001b[1mval: \u001b[0mScanning /content/drive/MyDrive/lasthope/valid/labels.cache... 466 images, 0 backgrounds, 0 corrupt: 100%|██████████| 466/466 [00:00<?, ?it/s]\n",
            "                 Class     Images  Instances      Box(P          R      mAP50  mAP50-95): 100%|██████████| 30/30 [00:15<00:00,  1.90it/s]\n"
          ]
        },
        {
          "output_type": "stream",
          "name": "stdout",
          "text": [
            "                   all        466       8312      0.927      0.912      0.948      0.576\n",
            "Speed: 0.3ms preprocess, 3.0ms inference, 0.0ms loss, 1.5ms postprocess per image\n",
            "Results saved to \u001b[1mruns/detect/val\u001b[0m\n",
            "ultralytics.utils.metrics.DetMetrics object with attributes:\n",
            "\n",
            "ap_class_index: array([0])\n",
            "box: ultralytics.utils.metrics.Metric object\n",
            "confusion_matrix: <ultralytics.utils.metrics.ConfusionMatrix object at 0x7a6cfaea4640>\n",
            "curves: ['Precision-Recall(B)', 'F1-Confidence(B)', 'Precision-Confidence(B)', 'Recall-Confidence(B)']\n",
            "curves_results: [[array([          0,    0.001001,    0.002002,    0.003003,    0.004004,    0.005005,    0.006006,    0.007007,    0.008008,    0.009009,     0.01001,    0.011011,    0.012012,    0.013013,    0.014014,    0.015015,    0.016016,    0.017017,    0.018018,    0.019019,     0.02002,    0.021021,    0.022022,    0.023023,\n",
            "          0.024024,    0.025025,    0.026026,    0.027027,    0.028028,    0.029029,     0.03003,    0.031031,    0.032032,    0.033033,    0.034034,    0.035035,    0.036036,    0.037037,    0.038038,    0.039039,     0.04004,    0.041041,    0.042042,    0.043043,    0.044044,    0.045045,    0.046046,    0.047047,\n",
            "          0.048048,    0.049049,     0.05005,    0.051051,    0.052052,    0.053053,    0.054054,    0.055055,    0.056056,    0.057057,    0.058058,    0.059059,     0.06006,    0.061061,    0.062062,    0.063063,    0.064064,    0.065065,    0.066066,    0.067067,    0.068068,    0.069069,     0.07007,    0.071071,\n",
            "          0.072072,    0.073073,    0.074074,    0.075075,    0.076076,    0.077077,    0.078078,    0.079079,     0.08008,    0.081081,    0.082082,    0.083083,    0.084084,    0.085085,    0.086086,    0.087087,    0.088088,    0.089089,     0.09009,    0.091091,    0.092092,    0.093093,    0.094094,    0.095095,\n",
            "          0.096096,    0.097097,    0.098098,    0.099099,      0.1001,      0.1011,      0.1021,      0.1031,      0.1041,     0.10511,     0.10611,     0.10711,     0.10811,     0.10911,     0.11011,     0.11111,     0.11211,     0.11311,     0.11411,     0.11512,     0.11612,     0.11712,     0.11812,     0.11912,\n",
            "           0.12012,     0.12112,     0.12212,     0.12312,     0.12412,     0.12513,     0.12613,     0.12713,     0.12813,     0.12913,     0.13013,     0.13113,     0.13213,     0.13313,     0.13413,     0.13514,     0.13614,     0.13714,     0.13814,     0.13914,     0.14014,     0.14114,     0.14214,     0.14314,\n",
            "           0.14414,     0.14515,     0.14615,     0.14715,     0.14815,     0.14915,     0.15015,     0.15115,     0.15215,     0.15315,     0.15415,     0.15516,     0.15616,     0.15716,     0.15816,     0.15916,     0.16016,     0.16116,     0.16216,     0.16316,     0.16416,     0.16517,     0.16617,     0.16717,\n",
            "           0.16817,     0.16917,     0.17017,     0.17117,     0.17217,     0.17317,     0.17417,     0.17518,     0.17618,     0.17718,     0.17818,     0.17918,     0.18018,     0.18118,     0.18218,     0.18318,     0.18418,     0.18519,     0.18619,     0.18719,     0.18819,     0.18919,     0.19019,     0.19119,\n",
            "           0.19219,     0.19319,     0.19419,      0.1952,      0.1962,      0.1972,      0.1982,      0.1992,      0.2002,      0.2012,      0.2022,      0.2032,      0.2042,     0.20521,     0.20621,     0.20721,     0.20821,     0.20921,     0.21021,     0.21121,     0.21221,     0.21321,     0.21421,     0.21522,\n",
            "           0.21622,     0.21722,     0.21822,     0.21922,     0.22022,     0.22122,     0.22222,     0.22322,     0.22422,     0.22523,     0.22623,     0.22723,     0.22823,     0.22923,     0.23023,     0.23123,     0.23223,     0.23323,     0.23423,     0.23524,     0.23624,     0.23724,     0.23824,     0.23924,\n",
            "           0.24024,     0.24124,     0.24224,     0.24324,     0.24424,     0.24525,     0.24625,     0.24725,     0.24825,     0.24925,     0.25025,     0.25125,     0.25225,     0.25325,     0.25425,     0.25526,     0.25626,     0.25726,     0.25826,     0.25926,     0.26026,     0.26126,     0.26226,     0.26326,\n",
            "           0.26426,     0.26527,     0.26627,     0.26727,     0.26827,     0.26927,     0.27027,     0.27127,     0.27227,     0.27327,     0.27427,     0.27528,     0.27628,     0.27728,     0.27828,     0.27928,     0.28028,     0.28128,     0.28228,     0.28328,     0.28428,     0.28529,     0.28629,     0.28729,\n",
            "           0.28829,     0.28929,     0.29029,     0.29129,     0.29229,     0.29329,     0.29429,      0.2953,      0.2963,      0.2973,      0.2983,      0.2993,      0.3003,      0.3013,      0.3023,      0.3033,      0.3043,     0.30531,     0.30631,     0.30731,     0.30831,     0.30931,     0.31031,     0.31131,\n",
            "           0.31231,     0.31331,     0.31431,     0.31532,     0.31632,     0.31732,     0.31832,     0.31932,     0.32032,     0.32132,     0.32232,     0.32332,     0.32432,     0.32533,     0.32633,     0.32733,     0.32833,     0.32933,     0.33033,     0.33133,     0.33233,     0.33333,     0.33433,     0.33534,\n",
            "           0.33634,     0.33734,     0.33834,     0.33934,     0.34034,     0.34134,     0.34234,     0.34334,     0.34434,     0.34535,     0.34635,     0.34735,     0.34835,     0.34935,     0.35035,     0.35135,     0.35235,     0.35335,     0.35435,     0.35536,     0.35636,     0.35736,     0.35836,     0.35936,\n",
            "           0.36036,     0.36136,     0.36236,     0.36336,     0.36436,     0.36537,     0.36637,     0.36737,     0.36837,     0.36937,     0.37037,     0.37137,     0.37237,     0.37337,     0.37437,     0.37538,     0.37638,     0.37738,     0.37838,     0.37938,     0.38038,     0.38138,     0.38238,     0.38338,\n",
            "           0.38438,     0.38539,     0.38639,     0.38739,     0.38839,     0.38939,     0.39039,     0.39139,     0.39239,     0.39339,     0.39439,      0.3954,      0.3964,      0.3974,      0.3984,      0.3994,      0.4004,      0.4014,      0.4024,      0.4034,      0.4044,     0.40541,     0.40641,     0.40741,\n",
            "           0.40841,     0.40941,     0.41041,     0.41141,     0.41241,     0.41341,     0.41441,     0.41542,     0.41642,     0.41742,     0.41842,     0.41942,     0.42042,     0.42142,     0.42242,     0.42342,     0.42442,     0.42543,     0.42643,     0.42743,     0.42843,     0.42943,     0.43043,     0.43143,\n",
            "           0.43243,     0.43343,     0.43443,     0.43544,     0.43644,     0.43744,     0.43844,     0.43944,     0.44044,     0.44144,     0.44244,     0.44344,     0.44444,     0.44545,     0.44645,     0.44745,     0.44845,     0.44945,     0.45045,     0.45145,     0.45245,     0.45345,     0.45445,     0.45546,\n",
            "           0.45646,     0.45746,     0.45846,     0.45946,     0.46046,     0.46146,     0.46246,     0.46346,     0.46446,     0.46547,     0.46647,     0.46747,     0.46847,     0.46947,     0.47047,     0.47147,     0.47247,     0.47347,     0.47447,     0.47548,     0.47648,     0.47748,     0.47848,     0.47948,\n",
            "           0.48048,     0.48148,     0.48248,     0.48348,     0.48448,     0.48549,     0.48649,     0.48749,     0.48849,     0.48949,     0.49049,     0.49149,     0.49249,     0.49349,     0.49449,      0.4955,      0.4965,      0.4975,      0.4985,      0.4995,      0.5005,      0.5015,      0.5025,      0.5035,\n",
            "            0.5045,     0.50551,     0.50651,     0.50751,     0.50851,     0.50951,     0.51051,     0.51151,     0.51251,     0.51351,     0.51451,     0.51552,     0.51652,     0.51752,     0.51852,     0.51952,     0.52052,     0.52152,     0.52252,     0.52352,     0.52452,     0.52553,     0.52653,     0.52753,\n",
            "           0.52853,     0.52953,     0.53053,     0.53153,     0.53253,     0.53353,     0.53453,     0.53554,     0.53654,     0.53754,     0.53854,     0.53954,     0.54054,     0.54154,     0.54254,     0.54354,     0.54454,     0.54555,     0.54655,     0.54755,     0.54855,     0.54955,     0.55055,     0.55155,\n",
            "           0.55255,     0.55355,     0.55455,     0.55556,     0.55656,     0.55756,     0.55856,     0.55956,     0.56056,     0.56156,     0.56256,     0.56356,     0.56456,     0.56557,     0.56657,     0.56757,     0.56857,     0.56957,     0.57057,     0.57157,     0.57257,     0.57357,     0.57457,     0.57558,\n",
            "           0.57658,     0.57758,     0.57858,     0.57958,     0.58058,     0.58158,     0.58258,     0.58358,     0.58458,     0.58559,     0.58659,     0.58759,     0.58859,     0.58959,     0.59059,     0.59159,     0.59259,     0.59359,     0.59459,      0.5956,      0.5966,      0.5976,      0.5986,      0.5996,\n",
            "            0.6006,      0.6016,      0.6026,      0.6036,      0.6046,     0.60561,     0.60661,     0.60761,     0.60861,     0.60961,     0.61061,     0.61161,     0.61261,     0.61361,     0.61461,     0.61562,     0.61662,     0.61762,     0.61862,     0.61962,     0.62062,     0.62162,     0.62262,     0.62362,\n",
            "           0.62462,     0.62563,     0.62663,     0.62763,     0.62863,     0.62963,     0.63063,     0.63163,     0.63263,     0.63363,     0.63463,     0.63564,     0.63664,     0.63764,     0.63864,     0.63964,     0.64064,     0.64164,     0.64264,     0.64364,     0.64464,     0.64565,     0.64665,     0.64765,\n",
            "           0.64865,     0.64965,     0.65065,     0.65165,     0.65265,     0.65365,     0.65465,     0.65566,     0.65666,     0.65766,     0.65866,     0.65966,     0.66066,     0.66166,     0.66266,     0.66366,     0.66466,     0.66567,     0.66667,     0.66767,     0.66867,     0.66967,     0.67067,     0.67167,\n",
            "           0.67267,     0.67367,     0.67467,     0.67568,     0.67668,     0.67768,     0.67868,     0.67968,     0.68068,     0.68168,     0.68268,     0.68368,     0.68468,     0.68569,     0.68669,     0.68769,     0.68869,     0.68969,     0.69069,     0.69169,     0.69269,     0.69369,     0.69469,      0.6957,\n",
            "            0.6967,      0.6977,      0.6987,      0.6997,      0.7007,      0.7017,      0.7027,      0.7037,      0.7047,     0.70571,     0.70671,     0.70771,     0.70871,     0.70971,     0.71071,     0.71171,     0.71271,     0.71371,     0.71471,     0.71572,     0.71672,     0.71772,     0.71872,     0.71972,\n",
            "           0.72072,     0.72172,     0.72272,     0.72372,     0.72472,     0.72573,     0.72673,     0.72773,     0.72873,     0.72973,     0.73073,     0.73173,     0.73273,     0.73373,     0.73473,     0.73574,     0.73674,     0.73774,     0.73874,     0.73974,     0.74074,     0.74174,     0.74274,     0.74374,\n",
            "           0.74474,     0.74575,     0.74675,     0.74775,     0.74875,     0.74975,     0.75075,     0.75175,     0.75275,     0.75375,     0.75475,     0.75576,     0.75676,     0.75776,     0.75876,     0.75976,     0.76076,     0.76176,     0.76276,     0.76376,     0.76476,     0.76577,     0.76677,     0.76777,\n",
            "           0.76877,     0.76977,     0.77077,     0.77177,     0.77277,     0.77377,     0.77477,     0.77578,     0.77678,     0.77778,     0.77878,     0.77978,     0.78078,     0.78178,     0.78278,     0.78378,     0.78478,     0.78579,     0.78679,     0.78779,     0.78879,     0.78979,     0.79079,     0.79179,\n",
            "           0.79279,     0.79379,     0.79479,      0.7958,      0.7968,      0.7978,      0.7988,      0.7998,      0.8008,      0.8018,      0.8028,      0.8038,      0.8048,     0.80581,     0.80681,     0.80781,     0.80881,     0.80981,     0.81081,     0.81181,     0.81281,     0.81381,     0.81481,     0.81582,\n",
            "           0.81682,     0.81782,     0.81882,     0.81982,     0.82082,     0.82182,     0.82282,     0.82382,     0.82482,     0.82583,     0.82683,     0.82783,     0.82883,     0.82983,     0.83083,     0.83183,     0.83283,     0.83383,     0.83483,     0.83584,     0.83684,     0.83784,     0.83884,     0.83984,\n",
            "           0.84084,     0.84184,     0.84284,     0.84384,     0.84484,     0.84585,     0.84685,     0.84785,     0.84885,     0.84985,     0.85085,     0.85185,     0.85285,     0.85385,     0.85485,     0.85586,     0.85686,     0.85786,     0.85886,     0.85986,     0.86086,     0.86186,     0.86286,     0.86386,\n",
            "           0.86486,     0.86587,     0.86687,     0.86787,     0.86887,     0.86987,     0.87087,     0.87187,     0.87287,     0.87387,     0.87487,     0.87588,     0.87688,     0.87788,     0.87888,     0.87988,     0.88088,     0.88188,     0.88288,     0.88388,     0.88488,     0.88589,     0.88689,     0.88789,\n",
            "           0.88889,     0.88989,     0.89089,     0.89189,     0.89289,     0.89389,     0.89489,      0.8959,      0.8969,      0.8979,      0.8989,      0.8999,      0.9009,      0.9019,      0.9029,      0.9039,      0.9049,     0.90591,     0.90691,     0.90791,     0.90891,     0.90991,     0.91091,     0.91191,\n",
            "           0.91291,     0.91391,     0.91491,     0.91592,     0.91692,     0.91792,     0.91892,     0.91992,     0.92092,     0.92192,     0.92292,     0.92392,     0.92492,     0.92593,     0.92693,     0.92793,     0.92893,     0.92993,     0.93093,     0.93193,     0.93293,     0.93393,     0.93493,     0.93594,\n",
            "           0.93694,     0.93794,     0.93894,     0.93994,     0.94094,     0.94194,     0.94294,     0.94394,     0.94494,     0.94595,     0.94695,     0.94795,     0.94895,     0.94995,     0.95095,     0.95195,     0.95295,     0.95395,     0.95495,     0.95596,     0.95696,     0.95796,     0.95896,     0.95996,\n",
            "           0.96096,     0.96196,     0.96296,     0.96396,     0.96496,     0.96597,     0.96697,     0.96797,     0.96897,     0.96997,     0.97097,     0.97197,     0.97297,     0.97397,     0.97497,     0.97598,     0.97698,     0.97798,     0.97898,     0.97998,     0.98098,     0.98198,     0.98298,     0.98398,\n",
            "           0.98498,     0.98599,     0.98699,     0.98799,     0.98899,     0.98999,     0.99099,     0.99199,     0.99299,     0.99399,     0.99499,       0.996,       0.997,       0.998,       0.999,           1]), array([[          1,           1,           1,           1,           1,           1,           1,           1,           1,           1,           1,           1,           1,           1,           1,           1,           1,           1,           1,           1,           1,           1,           1,\n",
            "                  1,           1,           1,           1,           1,           1,           1,           1,           1,           1,           1,           1,           1,           1,           1,           1,           1,           1,           1,     0.99905,     0.99905,     0.99905,     0.99905,\n",
            "            0.99905,     0.99905,     0.99905,     0.99905,     0.99905,     0.99905,     0.99905,     0.99905,     0.99905,     0.99905,     0.99905,     0.99905,     0.99905,     0.99905,     0.99905,     0.99905,     0.99905,     0.99905,     0.99905,     0.99905,     0.99905,     0.99905,     0.99905,\n",
            "            0.99905,     0.99905,     0.99905,     0.99905,     0.99905,     0.99905,     0.99905,     0.99905,     0.99905,     0.99905,     0.99905,     0.99905,     0.99905,     0.99905,     0.99905,     0.99905,     0.99905,     0.99905,     0.99905,     0.99905,     0.99905,     0.99905,     0.99905,\n",
            "            0.99905,     0.99905,     0.99905,     0.99905,     0.99905,     0.99905,     0.99905,     0.99905,     0.99905,     0.99905,     0.99905,     0.99905,     0.99905,     0.99905,     0.99905,     0.99905,     0.99905,     0.99905,     0.99905,     0.99905,     0.99905,     0.99905,     0.99905,\n",
            "            0.99905,     0.99905,     0.99905,     0.99905,     0.99905,     0.99905,     0.99905,     0.99905,     0.99905,     0.99905,     0.99905,     0.99905,     0.99823,     0.99823,     0.99823,     0.99823,     0.99823,     0.99823,     0.99823,     0.99823,     0.99823,     0.99793,     0.99793,\n",
            "            0.99793,     0.99793,     0.99793,     0.99793,     0.99793,     0.99793,     0.99793,     0.99793,     0.99793,     0.99793,     0.99793,     0.99793,     0.99793,     0.99793,     0.99793,     0.99793,     0.99793,     0.99793,     0.99793,     0.99793,     0.99793,     0.99793,     0.99793,\n",
            "            0.99793,     0.99793,     0.99793,     0.99793,     0.99793,     0.99793,     0.99793,     0.99793,     0.99793,     0.99793,     0.99793,     0.99793,     0.99793,     0.99793,     0.99746,     0.99746,     0.99746,     0.99746,     0.99746,     0.99746,     0.99746,     0.99746,     0.99746,\n",
            "            0.99746,     0.99746,     0.99746,     0.99746,     0.99746,     0.99705,     0.99705,     0.99705,     0.99705,     0.99705,     0.99705,     0.99705,     0.99705,     0.99705,     0.99705,     0.99705,     0.99705,     0.99705,     0.99705,     0.99705,     0.99651,     0.99651,     0.99625,\n",
            "            0.99625,     0.99625,     0.99625,     0.99625,     0.99625,     0.99625,     0.99625,     0.99625,     0.99625,     0.99625,     0.99625,     0.99625,     0.99625,     0.99625,     0.99625,     0.99625,     0.99625,     0.99609,     0.99609,     0.99609,     0.99609,     0.99609,     0.99609,\n",
            "            0.99609,     0.99609,     0.99609,     0.99609,     0.99609,     0.99609,     0.99609,     0.99609,     0.99609,     0.99609,     0.99609,     0.99609,     0.99609,     0.99609,     0.99609,     0.99609,     0.99609,     0.99609,     0.99609,     0.99609,     0.99609,     0.99609,     0.99609,\n",
            "            0.99609,     0.99609,     0.99609,     0.99609,     0.99609,     0.99609,     0.99609,     0.99609,     0.99609,     0.99609,     0.99609,     0.99609,     0.99609,     0.99609,     0.99609,     0.99609,     0.99609,     0.99609,     0.99609,     0.99609,     0.99609,     0.99609,     0.99609,\n",
            "            0.99609,     0.99609,     0.99609,     0.99609,     0.99609,     0.99609,     0.99609,     0.99609,     0.99609,     0.99609,     0.99609,     0.99609,     0.99609,     0.99609,     0.99609,     0.99609,     0.99609,     0.99609,     0.99609,     0.99609,     0.99609,     0.99609,     0.99609,\n",
            "            0.99609,     0.99609,     0.99609,     0.99609,     0.99609,     0.99609,     0.99609,     0.99584,     0.99584,     0.99584,     0.99584,     0.99584,     0.99584,     0.99584,     0.99584,     0.99584,     0.99584,     0.99584,     0.99553,     0.99553,     0.99553,     0.99553,     0.99553,\n",
            "            0.99512,     0.99512,     0.99512,     0.99512,     0.99512,     0.99512,     0.99512,     0.99512,     0.99512,     0.99512,     0.99512,     0.99512,     0.99512,     0.99512,     0.99512,     0.99512,     0.99512,     0.99512,     0.99512,     0.99512,     0.99512,     0.99512,     0.99489,\n",
            "            0.99489,     0.99489,     0.99489,     0.99489,     0.99489,     0.99489,     0.99426,     0.99426,     0.99426,     0.99421,     0.99421,     0.99421,     0.99421,     0.99421,     0.99421,     0.99421,     0.99421,     0.99421,     0.99421,     0.99421,     0.99421,     0.99421,     0.99421,\n",
            "            0.99421,     0.99421,     0.99421,     0.99421,     0.99393,     0.99393,      0.9938,      0.9938,      0.9938,      0.9938,      0.9938,      0.9938,      0.9938,      0.9938,      0.9938,      0.9938,      0.9938,      0.9938,     0.99359,     0.99359,     0.99359,     0.99359,     0.99359,\n",
            "            0.99359,     0.99337,     0.99337,     0.99337,     0.99337,     0.99337,     0.99322,     0.99322,     0.99322,     0.99322,     0.99322,     0.99322,     0.99322,     0.99322,     0.99304,     0.99304,     0.99304,     0.99304,     0.99304,     0.99304,     0.99304,     0.99299,     0.99299,\n",
            "            0.99299,     0.99299,     0.99299,     0.99299,     0.99299,     0.99299,     0.99299,     0.99299,     0.99299,     0.99299,     0.99299,     0.99299,     0.99282,     0.99282,     0.99282,     0.99282,     0.99282,     0.99282,     0.99259,     0.99259,     0.99259,     0.99242,     0.99242,\n",
            "            0.99242,     0.99242,     0.99242,     0.99242,     0.99216,     0.99167,     0.99167,     0.99163,     0.99163,     0.99163,     0.99163,     0.99163,     0.99163,     0.99163,     0.99163,     0.99163,     0.99163,     0.99163,     0.99163,     0.99141,     0.99141,     0.99133,     0.99133,\n",
            "            0.99133,     0.99133,     0.99133,     0.99133,     0.99133,     0.99133,     0.99133,     0.99133,     0.99111,     0.99111,     0.99093,     0.99093,     0.99093,     0.99083,     0.99083,     0.99083,     0.99083,     0.99083,     0.99083,     0.99083,     0.99083,     0.99063,     0.99063,\n",
            "            0.99063,     0.99063,     0.99063,     0.99063,     0.99063,     0.99063,     0.99063,     0.99063,     0.99063,     0.99063,     0.99063,     0.99063,     0.99063,      0.9904,     0.99025,     0.99025,     0.99025,     0.99025,     0.98983,     0.98983,     0.98983,     0.98979,     0.98979,\n",
            "            0.98979,     0.98979,     0.98979,     0.98979,     0.98979,     0.98979,     0.98979,     0.98974,     0.98974,     0.98974,     0.98974,     0.98974,     0.98974,     0.98974,     0.98974,     0.98974,     0.98952,     0.98934,     0.98934,     0.98934,     0.98934,     0.98934,     0.98934,\n",
            "            0.98934,     0.98934,     0.98934,     0.98934,     0.98934,     0.98934,     0.98934,     0.98896,     0.98896,     0.98896,      0.9886,      0.9886,      0.9886,      0.9886,     0.98849,     0.98849,     0.98849,     0.98849,     0.98849,     0.98837,     0.98837,     0.98837,     0.98837,\n",
            "            0.98831,     0.98831,     0.98831,     0.98831,     0.98831,     0.98831,     0.98831,     0.98831,     0.98831,     0.98831,     0.98831,     0.98831,     0.98831,     0.98831,     0.98831,     0.98831,     0.98831,     0.98796,     0.98796,     0.98796,     0.98781,     0.98781,     0.98781,\n",
            "            0.98749,     0.98749,     0.98749,     0.98749,     0.98745,     0.98745,     0.98745,     0.98745,     0.98745,     0.98745,     0.98745,     0.98745,      0.9873,      0.9873,     0.98714,     0.98714,     0.98698,     0.98698,     0.98688,     0.98688,     0.98688,     0.98688,     0.98683,\n",
            "            0.98683,     0.98683,     0.98683,     0.98683,     0.98683,     0.98683,     0.98637,     0.98637,     0.98637,     0.98637,     0.98637,     0.98637,     0.98637,     0.98637,     0.98637,     0.98637,     0.98637,     0.98637,     0.98637,     0.98637,     0.98625,     0.98625,     0.98625,\n",
            "            0.98615,     0.98615,     0.98615,     0.98615,     0.98603,     0.98603,     0.98603,     0.98568,     0.98564,     0.98564,     0.98564,     0.98564,     0.98564,     0.98564,     0.98564,     0.98536,     0.98536,     0.98536,     0.98536,     0.98521,     0.98504,     0.98494,     0.98494,\n",
            "            0.98494,     0.98488,     0.98488,     0.98488,     0.98488,     0.98488,     0.98472,     0.98463,     0.98463,     0.98463,     0.98463,     0.98463,     0.98463,     0.98463,     0.98463,     0.98463,     0.98463,     0.98463,     0.98454,     0.98454,     0.98454,     0.98454,      0.9844,\n",
            "             0.9844,     0.98408,     0.98395,     0.98395,     0.98388,     0.98388,     0.98388,     0.98388,     0.98371,     0.98358,     0.98344,     0.98344,     0.98337,     0.98337,     0.98337,     0.98337,     0.98324,     0.98313,     0.98313,     0.98313,     0.98298,     0.98251,     0.98241,\n",
            "            0.98241,     0.98241,     0.98229,     0.98229,     0.98223,     0.98223,     0.98223,     0.98223,     0.98212,     0.98212,     0.98188,     0.98188,     0.98188,     0.98188,     0.98171,     0.98171,     0.98171,     0.98171,     0.98171,     0.98171,     0.98156,     0.98143,     0.98129,\n",
            "            0.98117,     0.98117,     0.98117,     0.98117,     0.98117,     0.98117,     0.98117,     0.98117,     0.98083,     0.98083,     0.98083,     0.98083,     0.98083,     0.98073,     0.98073,     0.98061,     0.98061,     0.98049,     0.98036,     0.98023,     0.98023,     0.98012,     0.97983,\n",
            "            0.97972,     0.97972,     0.97959,     0.97934,     0.97934,     0.97934,     0.97934,     0.97934,     0.97934,     0.97934,     0.97934,     0.97921,     0.97877,     0.97849,     0.97823,     0.97812,     0.97812,     0.97802,     0.97792,     0.97792,      0.9778,      0.9777,      0.9777,\n",
            "            0.97758,     0.97743,      0.9769,      0.9769,     0.97679,     0.97669,     0.97669,     0.97641,     0.97635,     0.97635,     0.97635,     0.97598,     0.97598,     0.97585,     0.97545,     0.97528,     0.97528,     0.97528,     0.97528,     0.97517,     0.97507,     0.97507,     0.97482,\n",
            "            0.97456,     0.97428,     0.97389,     0.97363,     0.97351,      0.9734,     0.97322,     0.97322,     0.97322,      0.9731,     0.97284,     0.97245,     0.97236,     0.97223,     0.97199,     0.97186,     0.97165,     0.97165,     0.97143,     0.97129,     0.97119,     0.97098,     0.97098,\n",
            "            0.97058,     0.97024,     0.97024,     0.96985,     0.96959,     0.96959,     0.96959,     0.96959,     0.96934,     0.96898,     0.96872,     0.96822,     0.96812,     0.96803,     0.96794,     0.96794,     0.96776,     0.96776,     0.96764,     0.96756,     0.96722,     0.96722,     0.96684,\n",
            "            0.96664,     0.96651,     0.96614,     0.96597,     0.96597,     0.96587,     0.96578,      0.9654,      0.9652,     0.96502,     0.96502,     0.96492,     0.96443,     0.96437,     0.96437,     0.96414,     0.96392,     0.96356,     0.96337,     0.96337,     0.96276,     0.96227,      0.9621,\n",
            "             0.9621,     0.96189,     0.96169,     0.96146,     0.96109,     0.96088,     0.96029,     0.95967,     0.95921,     0.95861,     0.95819,     0.95819,     0.95774,     0.95738,     0.95629,     0.95596,     0.95564,     0.95494,     0.95471,     0.95427,     0.95408,     0.95312,      0.9527,\n",
            "            0.95258,     0.95127,     0.95082,     0.95064,     0.95007,      0.9495,     0.94884,      0.9479,     0.94761,      0.9474,     0.94696,      0.9463,     0.94586,     0.94449,     0.94417,     0.94349,     0.94309,     0.94266,     0.94176,     0.94066,     0.94036,     0.93934,     0.93906,\n",
            "            0.93829,     0.93741,     0.93699,     0.93649,     0.93609,     0.93602,     0.93528,     0.93465,     0.93266,     0.93155,      0.9307,        0.93,     0.92925,      0.9284,     0.92768,     0.92707,     0.92601,     0.92351,     0.92214,     0.92154,     0.92061,     0.91815,     0.91757,\n",
            "            0.91512,     0.91303,     0.91152,     0.91082,     0.90918,     0.90478,     0.90201,     0.89832,     0.89582,     0.89437,     0.88213,     0.86934,     0.85656,     0.84377,     0.83099,      0.8182,     0.80542,     0.79264,     0.77985,     0.76707,     0.75428,      0.7415,     0.72871,\n",
            "            0.71593,     0.70314,     0.69036,     0.67758,     0.66479,     0.65201,     0.63922,     0.62644,     0.61365,     0.60087,     0.58808,      0.5753,     0.56252,     0.54973,     0.53695,     0.52416,     0.51138,     0.49859,     0.48581,     0.47302,     0.46024,     0.44746,     0.43467,\n",
            "            0.42189,      0.4091,     0.39632,     0.38353,     0.37075,     0.35796,     0.34518,      0.3324,     0.31961,     0.30683,     0.29404,     0.28126,     0.26847,     0.25569,      0.2429,     0.23012,     0.21734,     0.20455,     0.19177,     0.17898,      0.1662,     0.15341,     0.14063,\n",
            "            0.12784,     0.11506,     0.10228,    0.089491,    0.076707,    0.063922,    0.051138,    0.038353,    0.025569,    0.012784,           0]]), 'Recall', 'Precision'], [array([          0,    0.001001,    0.002002,    0.003003,    0.004004,    0.005005,    0.006006,    0.007007,    0.008008,    0.009009,     0.01001,    0.011011,    0.012012,    0.013013,    0.014014,    0.015015,    0.016016,    0.017017,    0.018018,    0.019019,     0.02002,    0.021021,    0.022022,    0.023023,\n",
            "          0.024024,    0.025025,    0.026026,    0.027027,    0.028028,    0.029029,     0.03003,    0.031031,    0.032032,    0.033033,    0.034034,    0.035035,    0.036036,    0.037037,    0.038038,    0.039039,     0.04004,    0.041041,    0.042042,    0.043043,    0.044044,    0.045045,    0.046046,    0.047047,\n",
            "          0.048048,    0.049049,     0.05005,    0.051051,    0.052052,    0.053053,    0.054054,    0.055055,    0.056056,    0.057057,    0.058058,    0.059059,     0.06006,    0.061061,    0.062062,    0.063063,    0.064064,    0.065065,    0.066066,    0.067067,    0.068068,    0.069069,     0.07007,    0.071071,\n",
            "          0.072072,    0.073073,    0.074074,    0.075075,    0.076076,    0.077077,    0.078078,    0.079079,     0.08008,    0.081081,    0.082082,    0.083083,    0.084084,    0.085085,    0.086086,    0.087087,    0.088088,    0.089089,     0.09009,    0.091091,    0.092092,    0.093093,    0.094094,    0.095095,\n",
            "          0.096096,    0.097097,    0.098098,    0.099099,      0.1001,      0.1011,      0.1021,      0.1031,      0.1041,     0.10511,     0.10611,     0.10711,     0.10811,     0.10911,     0.11011,     0.11111,     0.11211,     0.11311,     0.11411,     0.11512,     0.11612,     0.11712,     0.11812,     0.11912,\n",
            "           0.12012,     0.12112,     0.12212,     0.12312,     0.12412,     0.12513,     0.12613,     0.12713,     0.12813,     0.12913,     0.13013,     0.13113,     0.13213,     0.13313,     0.13413,     0.13514,     0.13614,     0.13714,     0.13814,     0.13914,     0.14014,     0.14114,     0.14214,     0.14314,\n",
            "           0.14414,     0.14515,     0.14615,     0.14715,     0.14815,     0.14915,     0.15015,     0.15115,     0.15215,     0.15315,     0.15415,     0.15516,     0.15616,     0.15716,     0.15816,     0.15916,     0.16016,     0.16116,     0.16216,     0.16316,     0.16416,     0.16517,     0.16617,     0.16717,\n",
            "           0.16817,     0.16917,     0.17017,     0.17117,     0.17217,     0.17317,     0.17417,     0.17518,     0.17618,     0.17718,     0.17818,     0.17918,     0.18018,     0.18118,     0.18218,     0.18318,     0.18418,     0.18519,     0.18619,     0.18719,     0.18819,     0.18919,     0.19019,     0.19119,\n",
            "           0.19219,     0.19319,     0.19419,      0.1952,      0.1962,      0.1972,      0.1982,      0.1992,      0.2002,      0.2012,      0.2022,      0.2032,      0.2042,     0.20521,     0.20621,     0.20721,     0.20821,     0.20921,     0.21021,     0.21121,     0.21221,     0.21321,     0.21421,     0.21522,\n",
            "           0.21622,     0.21722,     0.21822,     0.21922,     0.22022,     0.22122,     0.22222,     0.22322,     0.22422,     0.22523,     0.22623,     0.22723,     0.22823,     0.22923,     0.23023,     0.23123,     0.23223,     0.23323,     0.23423,     0.23524,     0.23624,     0.23724,     0.23824,     0.23924,\n",
            "           0.24024,     0.24124,     0.24224,     0.24324,     0.24424,     0.24525,     0.24625,     0.24725,     0.24825,     0.24925,     0.25025,     0.25125,     0.25225,     0.25325,     0.25425,     0.25526,     0.25626,     0.25726,     0.25826,     0.25926,     0.26026,     0.26126,     0.26226,     0.26326,\n",
            "           0.26426,     0.26527,     0.26627,     0.26727,     0.26827,     0.26927,     0.27027,     0.27127,     0.27227,     0.27327,     0.27427,     0.27528,     0.27628,     0.27728,     0.27828,     0.27928,     0.28028,     0.28128,     0.28228,     0.28328,     0.28428,     0.28529,     0.28629,     0.28729,\n",
            "           0.28829,     0.28929,     0.29029,     0.29129,     0.29229,     0.29329,     0.29429,      0.2953,      0.2963,      0.2973,      0.2983,      0.2993,      0.3003,      0.3013,      0.3023,      0.3033,      0.3043,     0.30531,     0.30631,     0.30731,     0.30831,     0.30931,     0.31031,     0.31131,\n",
            "           0.31231,     0.31331,     0.31431,     0.31532,     0.31632,     0.31732,     0.31832,     0.31932,     0.32032,     0.32132,     0.32232,     0.32332,     0.32432,     0.32533,     0.32633,     0.32733,     0.32833,     0.32933,     0.33033,     0.33133,     0.33233,     0.33333,     0.33433,     0.33534,\n",
            "           0.33634,     0.33734,     0.33834,     0.33934,     0.34034,     0.34134,     0.34234,     0.34334,     0.34434,     0.34535,     0.34635,     0.34735,     0.34835,     0.34935,     0.35035,     0.35135,     0.35235,     0.35335,     0.35435,     0.35536,     0.35636,     0.35736,     0.35836,     0.35936,\n",
            "           0.36036,     0.36136,     0.36236,     0.36336,     0.36436,     0.36537,     0.36637,     0.36737,     0.36837,     0.36937,     0.37037,     0.37137,     0.37237,     0.37337,     0.37437,     0.37538,     0.37638,     0.37738,     0.37838,     0.37938,     0.38038,     0.38138,     0.38238,     0.38338,\n",
            "           0.38438,     0.38539,     0.38639,     0.38739,     0.38839,     0.38939,     0.39039,     0.39139,     0.39239,     0.39339,     0.39439,      0.3954,      0.3964,      0.3974,      0.3984,      0.3994,      0.4004,      0.4014,      0.4024,      0.4034,      0.4044,     0.40541,     0.40641,     0.40741,\n",
            "           0.40841,     0.40941,     0.41041,     0.41141,     0.41241,     0.41341,     0.41441,     0.41542,     0.41642,     0.41742,     0.41842,     0.41942,     0.42042,     0.42142,     0.42242,     0.42342,     0.42442,     0.42543,     0.42643,     0.42743,     0.42843,     0.42943,     0.43043,     0.43143,\n",
            "           0.43243,     0.43343,     0.43443,     0.43544,     0.43644,     0.43744,     0.43844,     0.43944,     0.44044,     0.44144,     0.44244,     0.44344,     0.44444,     0.44545,     0.44645,     0.44745,     0.44845,     0.44945,     0.45045,     0.45145,     0.45245,     0.45345,     0.45445,     0.45546,\n",
            "           0.45646,     0.45746,     0.45846,     0.45946,     0.46046,     0.46146,     0.46246,     0.46346,     0.46446,     0.46547,     0.46647,     0.46747,     0.46847,     0.46947,     0.47047,     0.47147,     0.47247,     0.47347,     0.47447,     0.47548,     0.47648,     0.47748,     0.47848,     0.47948,\n",
            "           0.48048,     0.48148,     0.48248,     0.48348,     0.48448,     0.48549,     0.48649,     0.48749,     0.48849,     0.48949,     0.49049,     0.49149,     0.49249,     0.49349,     0.49449,      0.4955,      0.4965,      0.4975,      0.4985,      0.4995,      0.5005,      0.5015,      0.5025,      0.5035,\n",
            "            0.5045,     0.50551,     0.50651,     0.50751,     0.50851,     0.50951,     0.51051,     0.51151,     0.51251,     0.51351,     0.51451,     0.51552,     0.51652,     0.51752,     0.51852,     0.51952,     0.52052,     0.52152,     0.52252,     0.52352,     0.52452,     0.52553,     0.52653,     0.52753,\n",
            "           0.52853,     0.52953,     0.53053,     0.53153,     0.53253,     0.53353,     0.53453,     0.53554,     0.53654,     0.53754,     0.53854,     0.53954,     0.54054,     0.54154,     0.54254,     0.54354,     0.54454,     0.54555,     0.54655,     0.54755,     0.54855,     0.54955,     0.55055,     0.55155,\n",
            "           0.55255,     0.55355,     0.55455,     0.55556,     0.55656,     0.55756,     0.55856,     0.55956,     0.56056,     0.56156,     0.56256,     0.56356,     0.56456,     0.56557,     0.56657,     0.56757,     0.56857,     0.56957,     0.57057,     0.57157,     0.57257,     0.57357,     0.57457,     0.57558,\n",
            "           0.57658,     0.57758,     0.57858,     0.57958,     0.58058,     0.58158,     0.58258,     0.58358,     0.58458,     0.58559,     0.58659,     0.58759,     0.58859,     0.58959,     0.59059,     0.59159,     0.59259,     0.59359,     0.59459,      0.5956,      0.5966,      0.5976,      0.5986,      0.5996,\n",
            "            0.6006,      0.6016,      0.6026,      0.6036,      0.6046,     0.60561,     0.60661,     0.60761,     0.60861,     0.60961,     0.61061,     0.61161,     0.61261,     0.61361,     0.61461,     0.61562,     0.61662,     0.61762,     0.61862,     0.61962,     0.62062,     0.62162,     0.62262,     0.62362,\n",
            "           0.62462,     0.62563,     0.62663,     0.62763,     0.62863,     0.62963,     0.63063,     0.63163,     0.63263,     0.63363,     0.63463,     0.63564,     0.63664,     0.63764,     0.63864,     0.63964,     0.64064,     0.64164,     0.64264,     0.64364,     0.64464,     0.64565,     0.64665,     0.64765,\n",
            "           0.64865,     0.64965,     0.65065,     0.65165,     0.65265,     0.65365,     0.65465,     0.65566,     0.65666,     0.65766,     0.65866,     0.65966,     0.66066,     0.66166,     0.66266,     0.66366,     0.66466,     0.66567,     0.66667,     0.66767,     0.66867,     0.66967,     0.67067,     0.67167,\n",
            "           0.67267,     0.67367,     0.67467,     0.67568,     0.67668,     0.67768,     0.67868,     0.67968,     0.68068,     0.68168,     0.68268,     0.68368,     0.68468,     0.68569,     0.68669,     0.68769,     0.68869,     0.68969,     0.69069,     0.69169,     0.69269,     0.69369,     0.69469,      0.6957,\n",
            "            0.6967,      0.6977,      0.6987,      0.6997,      0.7007,      0.7017,      0.7027,      0.7037,      0.7047,     0.70571,     0.70671,     0.70771,     0.70871,     0.70971,     0.71071,     0.71171,     0.71271,     0.71371,     0.71471,     0.71572,     0.71672,     0.71772,     0.71872,     0.71972,\n",
            "           0.72072,     0.72172,     0.72272,     0.72372,     0.72472,     0.72573,     0.72673,     0.72773,     0.72873,     0.72973,     0.73073,     0.73173,     0.73273,     0.73373,     0.73473,     0.73574,     0.73674,     0.73774,     0.73874,     0.73974,     0.74074,     0.74174,     0.74274,     0.74374,\n",
            "           0.74474,     0.74575,     0.74675,     0.74775,     0.74875,     0.74975,     0.75075,     0.75175,     0.75275,     0.75375,     0.75475,     0.75576,     0.75676,     0.75776,     0.75876,     0.75976,     0.76076,     0.76176,     0.76276,     0.76376,     0.76476,     0.76577,     0.76677,     0.76777,\n",
            "           0.76877,     0.76977,     0.77077,     0.77177,     0.77277,     0.77377,     0.77477,     0.77578,     0.77678,     0.77778,     0.77878,     0.77978,     0.78078,     0.78178,     0.78278,     0.78378,     0.78478,     0.78579,     0.78679,     0.78779,     0.78879,     0.78979,     0.79079,     0.79179,\n",
            "           0.79279,     0.79379,     0.79479,      0.7958,      0.7968,      0.7978,      0.7988,      0.7998,      0.8008,      0.8018,      0.8028,      0.8038,      0.8048,     0.80581,     0.80681,     0.80781,     0.80881,     0.80981,     0.81081,     0.81181,     0.81281,     0.81381,     0.81481,     0.81582,\n",
            "           0.81682,     0.81782,     0.81882,     0.81982,     0.82082,     0.82182,     0.82282,     0.82382,     0.82482,     0.82583,     0.82683,     0.82783,     0.82883,     0.82983,     0.83083,     0.83183,     0.83283,     0.83383,     0.83483,     0.83584,     0.83684,     0.83784,     0.83884,     0.83984,\n",
            "           0.84084,     0.84184,     0.84284,     0.84384,     0.84484,     0.84585,     0.84685,     0.84785,     0.84885,     0.84985,     0.85085,     0.85185,     0.85285,     0.85385,     0.85485,     0.85586,     0.85686,     0.85786,     0.85886,     0.85986,     0.86086,     0.86186,     0.86286,     0.86386,\n",
            "           0.86486,     0.86587,     0.86687,     0.86787,     0.86887,     0.86987,     0.87087,     0.87187,     0.87287,     0.87387,     0.87487,     0.87588,     0.87688,     0.87788,     0.87888,     0.87988,     0.88088,     0.88188,     0.88288,     0.88388,     0.88488,     0.88589,     0.88689,     0.88789,\n",
            "           0.88889,     0.88989,     0.89089,     0.89189,     0.89289,     0.89389,     0.89489,      0.8959,      0.8969,      0.8979,      0.8989,      0.8999,      0.9009,      0.9019,      0.9029,      0.9039,      0.9049,     0.90591,     0.90691,     0.90791,     0.90891,     0.90991,     0.91091,     0.91191,\n",
            "           0.91291,     0.91391,     0.91491,     0.91592,     0.91692,     0.91792,     0.91892,     0.91992,     0.92092,     0.92192,     0.92292,     0.92392,     0.92492,     0.92593,     0.92693,     0.92793,     0.92893,     0.92993,     0.93093,     0.93193,     0.93293,     0.93393,     0.93493,     0.93594,\n",
            "           0.93694,     0.93794,     0.93894,     0.93994,     0.94094,     0.94194,     0.94294,     0.94394,     0.94494,     0.94595,     0.94695,     0.94795,     0.94895,     0.94995,     0.95095,     0.95195,     0.95295,     0.95395,     0.95495,     0.95596,     0.95696,     0.95796,     0.95896,     0.95996,\n",
            "           0.96096,     0.96196,     0.96296,     0.96396,     0.96496,     0.96597,     0.96697,     0.96797,     0.96897,     0.96997,     0.97097,     0.97197,     0.97297,     0.97397,     0.97497,     0.97598,     0.97698,     0.97798,     0.97898,     0.97998,     0.98098,     0.98198,     0.98298,     0.98398,\n",
            "           0.98498,     0.98599,     0.98699,     0.98799,     0.98899,     0.98999,     0.99099,     0.99199,     0.99299,     0.99399,     0.99499,       0.996,       0.997,       0.998,       0.999,           1]), array([[    0.91177,     0.91177,     0.91177,     0.91177,     0.91177,     0.91177,     0.91177,     0.91177,     0.91177,     0.91177,     0.91177,     0.91177,     0.91177,     0.91177,     0.91177,     0.91177,     0.91177,     0.91177,     0.91177,     0.91177,     0.91177,     0.91177,     0.91177,\n",
            "            0.91177,     0.91177,     0.91177,     0.91177,     0.91177,     0.91177,     0.91177,     0.91177,     0.91177,     0.91177,     0.91177,     0.91177,     0.91177,     0.91177,     0.91177,     0.91177,     0.91177,     0.91177,     0.91177,     0.91177,     0.91177,     0.91177,     0.91177,\n",
            "            0.91177,     0.91177,     0.91177,     0.91177,     0.91177,     0.91177,     0.91177,     0.91177,     0.91177,     0.91177,     0.91177,     0.91177,     0.91177,     0.91177,     0.91177,     0.91177,     0.91177,     0.91177,     0.91177,     0.91177,     0.91177,     0.91177,     0.91177,\n",
            "            0.91177,     0.91177,     0.91177,     0.91177,     0.91177,     0.91177,     0.91177,     0.91177,     0.91177,     0.91177,     0.91177,     0.91177,     0.91177,     0.91177,     0.91177,     0.91177,     0.91177,     0.91177,     0.91177,     0.91177,     0.91177,     0.91177,     0.91177,\n",
            "            0.91177,     0.91177,     0.91177,     0.91177,     0.91177,     0.91177,     0.91177,     0.91177,     0.91177,     0.91177,     0.91177,     0.91177,     0.91177,     0.91177,     0.91177,     0.91177,     0.91177,     0.91177,     0.91177,     0.91177,     0.91177,     0.91177,     0.91177,\n",
            "            0.91177,     0.91177,     0.91177,     0.91177,     0.91177,     0.91177,     0.91177,     0.91177,     0.91177,     0.91177,     0.91177,     0.91177,     0.91177,     0.91177,     0.91177,     0.91177,     0.91177,     0.91177,     0.91177,     0.91177,     0.91177,     0.91177,     0.91177,\n",
            "            0.91177,     0.91177,     0.91177,     0.91177,     0.91177,     0.91177,     0.91177,     0.91177,     0.91177,     0.91177,     0.91177,     0.91177,     0.91177,     0.91177,     0.91177,     0.91177,     0.91177,     0.91177,     0.91177,     0.91177,     0.91177,     0.91177,     0.91177,\n",
            "            0.91177,     0.91177,     0.91177,     0.91177,     0.91177,     0.91177,     0.91177,     0.91177,     0.91177,     0.91177,     0.91177,     0.91177,     0.91177,     0.91177,     0.91177,     0.91177,     0.91177,     0.91177,     0.91177,     0.91177,     0.91177,     0.91177,     0.91177,\n",
            "            0.91177,     0.91177,     0.91177,     0.91177,     0.91177,     0.91177,     0.91177,     0.91177,     0.91177,     0.91177,     0.91177,     0.91177,     0.91177,     0.91177,     0.91177,     0.91177,     0.91177,     0.91177,     0.91177,     0.91177,     0.91177,     0.91177,     0.91177,\n",
            "            0.91177,     0.91177,     0.91177,     0.91177,     0.91177,     0.91177,     0.91177,     0.91177,     0.91177,     0.91177,     0.91177,     0.91177,     0.91177,     0.91177,     0.91177,     0.91177,     0.91177,     0.91177,     0.91177,     0.91177,     0.91177,     0.91177,     0.91177,\n",
            "            0.91177,     0.91177,     0.91177,     0.91177,     0.91177,     0.91177,     0.91177,     0.91177,     0.91177,     0.91177,     0.91177,     0.91177,     0.91177,     0.91177,     0.91177,     0.91177,     0.91177,     0.91177,     0.91177,     0.91177,      0.9118,     0.91201,      0.9121,\n",
            "            0.91211,     0.91202,     0.91223,     0.91247,     0.91279,     0.91276,     0.91283,     0.91316,      0.9133,     0.91358,     0.91376,     0.91397,     0.91399,     0.91401,      0.9142,     0.91431,     0.91469,     0.91497,     0.91491,     0.91479,     0.91499,     0.91518,     0.91539,\n",
            "            0.91548,     0.91559,     0.91571,     0.91585,     0.91606,     0.91622,     0.91675,     0.91686,     0.91687,     0.91679,     0.91692,       0.917,     0.91728,     0.91727,     0.91706,     0.91737,     0.91715,     0.91724,     0.91746,     0.91749,     0.91753,     0.91747,     0.91744,\n",
            "            0.91771,     0.91789,     0.91804,     0.91813,     0.91792,     0.91798,     0.91813,     0.91842,      0.9184,     0.91864,     0.91873,      0.9186,     0.91839,     0.91858,      0.9188,     0.91924,     0.91914,     0.91915,     0.91921,      0.9193,     0.91929,     0.91924,     0.91938,\n",
            "            0.91926,     0.91918,     0.91913,      0.9191,     0.91908,      0.9193,     0.91929,     0.91922,     0.91932,     0.91943,      0.9195,     0.91984,     0.91981,     0.91999,     0.91997,     0.91997,     0.91993,      0.9197,     0.91963,     0.91975,     0.91964,     0.91961,     0.91958,\n",
            "            0.91946,     0.91945,     0.91938,     0.91933,     0.91957,     0.91936,     0.91929,      0.9193,     0.91926,     0.91928,     0.91923,     0.91903,     0.91908,     0.91905,      0.9192,     0.91908,     0.91923,     0.91912,     0.91929,     0.91949,      0.9195,     0.91961,      0.9195,\n",
            "            0.91945,     0.91949,     0.91933,     0.91937,     0.91916,     0.91882,     0.91878,     0.91853,     0.91846,     0.91814,     0.91797,     0.91795,     0.91789,     0.91782,     0.91771,     0.91786,     0.91782,     0.91763,     0.91768,     0.91761,     0.91765,     0.91735,     0.91715,\n",
            "            0.91703,     0.91725,      0.9172,     0.91699,      0.9169,     0.91674,      0.9167,     0.91668,     0.91674,     0.91667,     0.91663,     0.91655,     0.91662,      0.9166,     0.91659,     0.91659,     0.91645,     0.91639,     0.91621,     0.91607,     0.91596,     0.91581,     0.91583,\n",
            "            0.91552,     0.91555,     0.91542,     0.91542,     0.91556,     0.91555,     0.91543,     0.91564,     0.91547,     0.91525,     0.91521,     0.91522,     0.91508,      0.9149,     0.91486,     0.91486,     0.91467,     0.91445,     0.91431,     0.91421,     0.91391,     0.91377,     0.91363,\n",
            "            0.91365,     0.91365,     0.91378,     0.91377,     0.91358,     0.91344,     0.91345,     0.91331,     0.91322,     0.91318,      0.9129,     0.91249,     0.91235,     0.91232,      0.9121,     0.91206,     0.91211,     0.91216,     0.91204,     0.91195,     0.91196,     0.91169,     0.91142,\n",
            "            0.91145,     0.91125,     0.91119,     0.91128,     0.91127,     0.91079,      0.9108,     0.91051,     0.91027,     0.91005,     0.90997,     0.90985,     0.90976,     0.90986,     0.90977,      0.9096,     0.90951,     0.90922,     0.90894,     0.90891,     0.90897,     0.90872,     0.90874,\n",
            "            0.90855,     0.90828,      0.9083,     0.90823,     0.90779,     0.90744,     0.90712,     0.90695,     0.90688,      0.9065,     0.90644,      0.9063,     0.90641,     0.90622,     0.90614,     0.90597,     0.90581,     0.90567,     0.90549,     0.90541,     0.90532,     0.90505,     0.90474,\n",
            "            0.90435,     0.90403,     0.90379,     0.90374,     0.90326,     0.90278,     0.90267,     0.90252,     0.90237,     0.90226,     0.90213,     0.90149,     0.90107,     0.90056,     0.90017,     0.89954,     0.89929,     0.89885,     0.89839,     0.89813,     0.89774,     0.89702,     0.89675,\n",
            "            0.89633,     0.89587,     0.89558,     0.89512,     0.89475,     0.89425,     0.89401,     0.89359,     0.89316,     0.89259,     0.89206,     0.89178,     0.89149,     0.89082,     0.89053,     0.88996,     0.88959,     0.88922,     0.88876,     0.88832,     0.88757,     0.88701,     0.88637,\n",
            "            0.88583,     0.88559,     0.88516,     0.88491,     0.88457,      0.8842,     0.88369,     0.88307,     0.88291,     0.88242,     0.88179,     0.88132,     0.88073,     0.88054,     0.88015,      0.8796,     0.87936,     0.87905,     0.87845,     0.87804,     0.87734,     0.87669,     0.87621,\n",
            "            0.87567,     0.87525,     0.87504,     0.87422,     0.87389,     0.87364,     0.87333,      0.8728,     0.87201,     0.87113,     0.87094,     0.87027,     0.86949,     0.86902,     0.86872,     0.86843,     0.86799,     0.86729,     0.86659,     0.86531,     0.86467,     0.86359,     0.86302,\n",
            "            0.86209,     0.86149,     0.86088,     0.86002,     0.85917,     0.85878,     0.85778,     0.85667,     0.85564,     0.85548,     0.85455,     0.85353,     0.85241,     0.85153,     0.85091,     0.85005,     0.84901,     0.84872,     0.84803,     0.84715,     0.84613,      0.8452,     0.84364,\n",
            "            0.84286,     0.84218,     0.84093,     0.83991,     0.83911,      0.8383,      0.8374,     0.83593,      0.8349,     0.83435,     0.83258,     0.83173,     0.83097,     0.83025,     0.82937,     0.82814,     0.82718,     0.82579,     0.82449,     0.82376,     0.82256,     0.82126,     0.81955,\n",
            "            0.81865,     0.81766,     0.81633,     0.81502,     0.81358,     0.81246,      0.8112,     0.80979,     0.80829,     0.80698,      0.8054,     0.80377,     0.80226,     0.80113,     0.79875,     0.79743,     0.79622,     0.79527,     0.79342,     0.79138,     0.79032,      0.7883,     0.78526,\n",
            "            0.78384,     0.78159,     0.77965,      0.7772,     0.77569,     0.77391,     0.77211,     0.77066,     0.76897,     0.76746,      0.7655,     0.76333,      0.7618,     0.76011,     0.75792,     0.75676,     0.75415,     0.75225,      0.7506,     0.74914,     0.74694,     0.74426,      0.7423,\n",
            "            0.73957,     0.73809,     0.73619,     0.73381,     0.73159,      0.7288,     0.72702,     0.72475,     0.72252,     0.72041,     0.71697,     0.71443,      0.7124,     0.70892,     0.70687,     0.70383,      0.7013,     0.69882,     0.69608,     0.69294,     0.69073,     0.68741,     0.68471,\n",
            "            0.68193,     0.67819,     0.67561,     0.67181,     0.66874,     0.66525,     0.66165,     0.65905,     0.65686,      0.6529,     0.65044,     0.64705,     0.64322,     0.63975,     0.63591,     0.63236,     0.62809,     0.62523,     0.62256,     0.61952,     0.61597,     0.61265,     0.60943,\n",
            "             0.6058,     0.60351,     0.59878,     0.59513,     0.58973,     0.58677,     0.58345,     0.58058,     0.57791,     0.57453,     0.57067,     0.56678,     0.56195,     0.55782,     0.55341,     0.54821,     0.54369,     0.53937,     0.53528,     0.53106,     0.52587,     0.52127,     0.51758,\n",
            "            0.51297,     0.50784,     0.50291,     0.49689,     0.49039,       0.485,     0.47972,     0.47538,     0.47066,     0.46324,      0.4568,     0.45281,     0.44706,     0.44217,     0.43698,     0.43078,     0.42554,      0.4196,     0.41448,     0.40732,     0.40123,      0.3966,     0.39156,\n",
            "            0.38644,     0.38018,     0.37544,     0.36919,     0.36385,       0.358,     0.35001,     0.34273,      0.3378,     0.33227,     0.32271,     0.31653,     0.31087,     0.30404,     0.29726,     0.29088,     0.28228,     0.27509,     0.26773,     0.26194,     0.25453,     0.24887,      0.2401,\n",
            "            0.23313,     0.22632,     0.22088,     0.21448,       0.208,     0.20296,     0.19625,     0.18986,     0.18239,     0.17586,     0.16961,     0.16047,     0.15656,     0.14907,     0.14314,     0.13831,     0.12948,     0.12368,     0.11709,     0.11092,     0.10789,     0.10264,     0.09698,\n",
            "           0.092244,    0.086403,    0.081618,    0.077723,    0.073511,    0.069085,    0.063327,    0.057832,    0.053822,    0.050638,     0.04751,    0.044077,    0.041476,    0.037969,    0.034039,    0.030397,    0.028037,    0.026036,    0.024014,    0.021581,    0.020114,    0.017262,     0.01558,\n",
            "           0.012551,    0.010312,   0.0088875,   0.0084495,   0.0075098,   0.0063761,   0.0058716,   0.0052243,   0.0040657,   0.0036156,   0.0028831,   0.0025421,   0.0017265,   0.0013869,   0.0012188,    0.000874,   0.0006307,  0.00048069,  0.00046517,  0.00044965,  0.00043414,  0.00041862,   0.0004031,\n",
            "         0.00038758,  0.00037206,  0.00035654,  0.00034102,   0.0003255,  0.00030998,  0.00029446,  0.00027893,  0.00026341,  0.00024789,           0,           0,           0,           0,           0,           0,           0,           0,           0,           0,           0,           0,           0,\n",
            "                  0,           0,           0,           0,           0,           0,           0,           0,           0,           0,           0,           0,           0,           0,           0,           0,           0,           0,           0,           0,           0,           0,           0,\n",
            "                  0,           0,           0,           0,           0,           0,           0,           0,           0,           0,           0,           0,           0,           0,           0,           0,           0,           0,           0,           0,           0,           0,           0,\n",
            "                  0,           0,           0,           0,           0,           0,           0,           0,           0,           0,           0,           0,           0,           0,           0,           0,           0,           0,           0,           0,           0,           0,           0,\n",
            "                  0,           0,           0,           0,           0,           0,           0,           0,           0,           0,           0,           0,           0,           0,           0,           0,           0,           0,           0,           0,           0,           0,           0,\n",
            "                  0,           0,           0,           0,           0,           0,           0,           0,           0,           0,           0]]), 'Confidence', 'F1'], [array([          0,    0.001001,    0.002002,    0.003003,    0.004004,    0.005005,    0.006006,    0.007007,    0.008008,    0.009009,     0.01001,    0.011011,    0.012012,    0.013013,    0.014014,    0.015015,    0.016016,    0.017017,    0.018018,    0.019019,     0.02002,    0.021021,    0.022022,    0.023023,\n",
            "          0.024024,    0.025025,    0.026026,    0.027027,    0.028028,    0.029029,     0.03003,    0.031031,    0.032032,    0.033033,    0.034034,    0.035035,    0.036036,    0.037037,    0.038038,    0.039039,     0.04004,    0.041041,    0.042042,    0.043043,    0.044044,    0.045045,    0.046046,    0.047047,\n",
            "          0.048048,    0.049049,     0.05005,    0.051051,    0.052052,    0.053053,    0.054054,    0.055055,    0.056056,    0.057057,    0.058058,    0.059059,     0.06006,    0.061061,    0.062062,    0.063063,    0.064064,    0.065065,    0.066066,    0.067067,    0.068068,    0.069069,     0.07007,    0.071071,\n",
            "          0.072072,    0.073073,    0.074074,    0.075075,    0.076076,    0.077077,    0.078078,    0.079079,     0.08008,    0.081081,    0.082082,    0.083083,    0.084084,    0.085085,    0.086086,    0.087087,    0.088088,    0.089089,     0.09009,    0.091091,    0.092092,    0.093093,    0.094094,    0.095095,\n",
            "          0.096096,    0.097097,    0.098098,    0.099099,      0.1001,      0.1011,      0.1021,      0.1031,      0.1041,     0.10511,     0.10611,     0.10711,     0.10811,     0.10911,     0.11011,     0.11111,     0.11211,     0.11311,     0.11411,     0.11512,     0.11612,     0.11712,     0.11812,     0.11912,\n",
            "           0.12012,     0.12112,     0.12212,     0.12312,     0.12412,     0.12513,     0.12613,     0.12713,     0.12813,     0.12913,     0.13013,     0.13113,     0.13213,     0.13313,     0.13413,     0.13514,     0.13614,     0.13714,     0.13814,     0.13914,     0.14014,     0.14114,     0.14214,     0.14314,\n",
            "           0.14414,     0.14515,     0.14615,     0.14715,     0.14815,     0.14915,     0.15015,     0.15115,     0.15215,     0.15315,     0.15415,     0.15516,     0.15616,     0.15716,     0.15816,     0.15916,     0.16016,     0.16116,     0.16216,     0.16316,     0.16416,     0.16517,     0.16617,     0.16717,\n",
            "           0.16817,     0.16917,     0.17017,     0.17117,     0.17217,     0.17317,     0.17417,     0.17518,     0.17618,     0.17718,     0.17818,     0.17918,     0.18018,     0.18118,     0.18218,     0.18318,     0.18418,     0.18519,     0.18619,     0.18719,     0.18819,     0.18919,     0.19019,     0.19119,\n",
            "           0.19219,     0.19319,     0.19419,      0.1952,      0.1962,      0.1972,      0.1982,      0.1992,      0.2002,      0.2012,      0.2022,      0.2032,      0.2042,     0.20521,     0.20621,     0.20721,     0.20821,     0.20921,     0.21021,     0.21121,     0.21221,     0.21321,     0.21421,     0.21522,\n",
            "           0.21622,     0.21722,     0.21822,     0.21922,     0.22022,     0.22122,     0.22222,     0.22322,     0.22422,     0.22523,     0.22623,     0.22723,     0.22823,     0.22923,     0.23023,     0.23123,     0.23223,     0.23323,     0.23423,     0.23524,     0.23624,     0.23724,     0.23824,     0.23924,\n",
            "           0.24024,     0.24124,     0.24224,     0.24324,     0.24424,     0.24525,     0.24625,     0.24725,     0.24825,     0.24925,     0.25025,     0.25125,     0.25225,     0.25325,     0.25425,     0.25526,     0.25626,     0.25726,     0.25826,     0.25926,     0.26026,     0.26126,     0.26226,     0.26326,\n",
            "           0.26426,     0.26527,     0.26627,     0.26727,     0.26827,     0.26927,     0.27027,     0.27127,     0.27227,     0.27327,     0.27427,     0.27528,     0.27628,     0.27728,     0.27828,     0.27928,     0.28028,     0.28128,     0.28228,     0.28328,     0.28428,     0.28529,     0.28629,     0.28729,\n",
            "           0.28829,     0.28929,     0.29029,     0.29129,     0.29229,     0.29329,     0.29429,      0.2953,      0.2963,      0.2973,      0.2983,      0.2993,      0.3003,      0.3013,      0.3023,      0.3033,      0.3043,     0.30531,     0.30631,     0.30731,     0.30831,     0.30931,     0.31031,     0.31131,\n",
            "           0.31231,     0.31331,     0.31431,     0.31532,     0.31632,     0.31732,     0.31832,     0.31932,     0.32032,     0.32132,     0.32232,     0.32332,     0.32432,     0.32533,     0.32633,     0.32733,     0.32833,     0.32933,     0.33033,     0.33133,     0.33233,     0.33333,     0.33433,     0.33534,\n",
            "           0.33634,     0.33734,     0.33834,     0.33934,     0.34034,     0.34134,     0.34234,     0.34334,     0.34434,     0.34535,     0.34635,     0.34735,     0.34835,     0.34935,     0.35035,     0.35135,     0.35235,     0.35335,     0.35435,     0.35536,     0.35636,     0.35736,     0.35836,     0.35936,\n",
            "           0.36036,     0.36136,     0.36236,     0.36336,     0.36436,     0.36537,     0.36637,     0.36737,     0.36837,     0.36937,     0.37037,     0.37137,     0.37237,     0.37337,     0.37437,     0.37538,     0.37638,     0.37738,     0.37838,     0.37938,     0.38038,     0.38138,     0.38238,     0.38338,\n",
            "           0.38438,     0.38539,     0.38639,     0.38739,     0.38839,     0.38939,     0.39039,     0.39139,     0.39239,     0.39339,     0.39439,      0.3954,      0.3964,      0.3974,      0.3984,      0.3994,      0.4004,      0.4014,      0.4024,      0.4034,      0.4044,     0.40541,     0.40641,     0.40741,\n",
            "           0.40841,     0.40941,     0.41041,     0.41141,     0.41241,     0.41341,     0.41441,     0.41542,     0.41642,     0.41742,     0.41842,     0.41942,     0.42042,     0.42142,     0.42242,     0.42342,     0.42442,     0.42543,     0.42643,     0.42743,     0.42843,     0.42943,     0.43043,     0.43143,\n",
            "           0.43243,     0.43343,     0.43443,     0.43544,     0.43644,     0.43744,     0.43844,     0.43944,     0.44044,     0.44144,     0.44244,     0.44344,     0.44444,     0.44545,     0.44645,     0.44745,     0.44845,     0.44945,     0.45045,     0.45145,     0.45245,     0.45345,     0.45445,     0.45546,\n",
            "           0.45646,     0.45746,     0.45846,     0.45946,     0.46046,     0.46146,     0.46246,     0.46346,     0.46446,     0.46547,     0.46647,     0.46747,     0.46847,     0.46947,     0.47047,     0.47147,     0.47247,     0.47347,     0.47447,     0.47548,     0.47648,     0.47748,     0.47848,     0.47948,\n",
            "           0.48048,     0.48148,     0.48248,     0.48348,     0.48448,     0.48549,     0.48649,     0.48749,     0.48849,     0.48949,     0.49049,     0.49149,     0.49249,     0.49349,     0.49449,      0.4955,      0.4965,      0.4975,      0.4985,      0.4995,      0.5005,      0.5015,      0.5025,      0.5035,\n",
            "            0.5045,     0.50551,     0.50651,     0.50751,     0.50851,     0.50951,     0.51051,     0.51151,     0.51251,     0.51351,     0.51451,     0.51552,     0.51652,     0.51752,     0.51852,     0.51952,     0.52052,     0.52152,     0.52252,     0.52352,     0.52452,     0.52553,     0.52653,     0.52753,\n",
            "           0.52853,     0.52953,     0.53053,     0.53153,     0.53253,     0.53353,     0.53453,     0.53554,     0.53654,     0.53754,     0.53854,     0.53954,     0.54054,     0.54154,     0.54254,     0.54354,     0.54454,     0.54555,     0.54655,     0.54755,     0.54855,     0.54955,     0.55055,     0.55155,\n",
            "           0.55255,     0.55355,     0.55455,     0.55556,     0.55656,     0.55756,     0.55856,     0.55956,     0.56056,     0.56156,     0.56256,     0.56356,     0.56456,     0.56557,     0.56657,     0.56757,     0.56857,     0.56957,     0.57057,     0.57157,     0.57257,     0.57357,     0.57457,     0.57558,\n",
            "           0.57658,     0.57758,     0.57858,     0.57958,     0.58058,     0.58158,     0.58258,     0.58358,     0.58458,     0.58559,     0.58659,     0.58759,     0.58859,     0.58959,     0.59059,     0.59159,     0.59259,     0.59359,     0.59459,      0.5956,      0.5966,      0.5976,      0.5986,      0.5996,\n",
            "            0.6006,      0.6016,      0.6026,      0.6036,      0.6046,     0.60561,     0.60661,     0.60761,     0.60861,     0.60961,     0.61061,     0.61161,     0.61261,     0.61361,     0.61461,     0.61562,     0.61662,     0.61762,     0.61862,     0.61962,     0.62062,     0.62162,     0.62262,     0.62362,\n",
            "           0.62462,     0.62563,     0.62663,     0.62763,     0.62863,     0.62963,     0.63063,     0.63163,     0.63263,     0.63363,     0.63463,     0.63564,     0.63664,     0.63764,     0.63864,     0.63964,     0.64064,     0.64164,     0.64264,     0.64364,     0.64464,     0.64565,     0.64665,     0.64765,\n",
            "           0.64865,     0.64965,     0.65065,     0.65165,     0.65265,     0.65365,     0.65465,     0.65566,     0.65666,     0.65766,     0.65866,     0.65966,     0.66066,     0.66166,     0.66266,     0.66366,     0.66466,     0.66567,     0.66667,     0.66767,     0.66867,     0.66967,     0.67067,     0.67167,\n",
            "           0.67267,     0.67367,     0.67467,     0.67568,     0.67668,     0.67768,     0.67868,     0.67968,     0.68068,     0.68168,     0.68268,     0.68368,     0.68468,     0.68569,     0.68669,     0.68769,     0.68869,     0.68969,     0.69069,     0.69169,     0.69269,     0.69369,     0.69469,      0.6957,\n",
            "            0.6967,      0.6977,      0.6987,      0.6997,      0.7007,      0.7017,      0.7027,      0.7037,      0.7047,     0.70571,     0.70671,     0.70771,     0.70871,     0.70971,     0.71071,     0.71171,     0.71271,     0.71371,     0.71471,     0.71572,     0.71672,     0.71772,     0.71872,     0.71972,\n",
            "           0.72072,     0.72172,     0.72272,     0.72372,     0.72472,     0.72573,     0.72673,     0.72773,     0.72873,     0.72973,     0.73073,     0.73173,     0.73273,     0.73373,     0.73473,     0.73574,     0.73674,     0.73774,     0.73874,     0.73974,     0.74074,     0.74174,     0.74274,     0.74374,\n",
            "           0.74474,     0.74575,     0.74675,     0.74775,     0.74875,     0.74975,     0.75075,     0.75175,     0.75275,     0.75375,     0.75475,     0.75576,     0.75676,     0.75776,     0.75876,     0.75976,     0.76076,     0.76176,     0.76276,     0.76376,     0.76476,     0.76577,     0.76677,     0.76777,\n",
            "           0.76877,     0.76977,     0.77077,     0.77177,     0.77277,     0.77377,     0.77477,     0.77578,     0.77678,     0.77778,     0.77878,     0.77978,     0.78078,     0.78178,     0.78278,     0.78378,     0.78478,     0.78579,     0.78679,     0.78779,     0.78879,     0.78979,     0.79079,     0.79179,\n",
            "           0.79279,     0.79379,     0.79479,      0.7958,      0.7968,      0.7978,      0.7988,      0.7998,      0.8008,      0.8018,      0.8028,      0.8038,      0.8048,     0.80581,     0.80681,     0.80781,     0.80881,     0.80981,     0.81081,     0.81181,     0.81281,     0.81381,     0.81481,     0.81582,\n",
            "           0.81682,     0.81782,     0.81882,     0.81982,     0.82082,     0.82182,     0.82282,     0.82382,     0.82482,     0.82583,     0.82683,     0.82783,     0.82883,     0.82983,     0.83083,     0.83183,     0.83283,     0.83383,     0.83483,     0.83584,     0.83684,     0.83784,     0.83884,     0.83984,\n",
            "           0.84084,     0.84184,     0.84284,     0.84384,     0.84484,     0.84585,     0.84685,     0.84785,     0.84885,     0.84985,     0.85085,     0.85185,     0.85285,     0.85385,     0.85485,     0.85586,     0.85686,     0.85786,     0.85886,     0.85986,     0.86086,     0.86186,     0.86286,     0.86386,\n",
            "           0.86486,     0.86587,     0.86687,     0.86787,     0.86887,     0.86987,     0.87087,     0.87187,     0.87287,     0.87387,     0.87487,     0.87588,     0.87688,     0.87788,     0.87888,     0.87988,     0.88088,     0.88188,     0.88288,     0.88388,     0.88488,     0.88589,     0.88689,     0.88789,\n",
            "           0.88889,     0.88989,     0.89089,     0.89189,     0.89289,     0.89389,     0.89489,      0.8959,      0.8969,      0.8979,      0.8989,      0.8999,      0.9009,      0.9019,      0.9029,      0.9039,      0.9049,     0.90591,     0.90691,     0.90791,     0.90891,     0.90991,     0.91091,     0.91191,\n",
            "           0.91291,     0.91391,     0.91491,     0.91592,     0.91692,     0.91792,     0.91892,     0.91992,     0.92092,     0.92192,     0.92292,     0.92392,     0.92492,     0.92593,     0.92693,     0.92793,     0.92893,     0.92993,     0.93093,     0.93193,     0.93293,     0.93393,     0.93493,     0.93594,\n",
            "           0.93694,     0.93794,     0.93894,     0.93994,     0.94094,     0.94194,     0.94294,     0.94394,     0.94494,     0.94595,     0.94695,     0.94795,     0.94895,     0.94995,     0.95095,     0.95195,     0.95295,     0.95395,     0.95495,     0.95596,     0.95696,     0.95796,     0.95896,     0.95996,\n",
            "           0.96096,     0.96196,     0.96296,     0.96396,     0.96496,     0.96597,     0.96697,     0.96797,     0.96897,     0.96997,     0.97097,     0.97197,     0.97297,     0.97397,     0.97497,     0.97598,     0.97698,     0.97798,     0.97898,     0.97998,     0.98098,     0.98198,     0.98298,     0.98398,\n",
            "           0.98498,     0.98599,     0.98699,     0.98799,     0.98899,     0.98999,     0.99099,     0.99199,     0.99299,     0.99399,     0.99499,       0.996,       0.997,       0.998,       0.999,           1]), array([[    0.89426,     0.89426,     0.89426,     0.89426,     0.89426,     0.89426,     0.89426,     0.89426,     0.89426,     0.89426,     0.89426,     0.89426,     0.89426,     0.89426,     0.89426,     0.89426,     0.89426,     0.89426,     0.89426,     0.89426,     0.89426,     0.89426,     0.89426,\n",
            "            0.89426,     0.89426,     0.89426,     0.89426,     0.89426,     0.89426,     0.89426,     0.89426,     0.89426,     0.89426,     0.89426,     0.89426,     0.89426,     0.89426,     0.89426,     0.89426,     0.89426,     0.89426,     0.89426,     0.89426,     0.89426,     0.89426,     0.89426,\n",
            "            0.89426,     0.89426,     0.89426,     0.89426,     0.89426,     0.89426,     0.89426,     0.89426,     0.89426,     0.89426,     0.89426,     0.89426,     0.89426,     0.89426,     0.89426,     0.89426,     0.89426,     0.89426,     0.89426,     0.89426,     0.89426,     0.89426,     0.89426,\n",
            "            0.89426,     0.89426,     0.89426,     0.89426,     0.89426,     0.89426,     0.89426,     0.89426,     0.89426,     0.89426,     0.89426,     0.89426,     0.89426,     0.89426,     0.89426,     0.89426,     0.89426,     0.89426,     0.89426,     0.89426,     0.89426,     0.89426,     0.89426,\n",
            "            0.89426,     0.89426,     0.89426,     0.89426,     0.89426,     0.89426,     0.89426,     0.89426,     0.89426,     0.89426,     0.89426,     0.89426,     0.89426,     0.89426,     0.89426,     0.89426,     0.89426,     0.89426,     0.89426,     0.89426,     0.89426,     0.89426,     0.89426,\n",
            "            0.89426,     0.89426,     0.89426,     0.89426,     0.89426,     0.89426,     0.89426,     0.89426,     0.89426,     0.89426,     0.89426,     0.89426,     0.89426,     0.89426,     0.89426,     0.89426,     0.89426,     0.89426,     0.89426,     0.89426,     0.89426,     0.89426,     0.89426,\n",
            "            0.89426,     0.89426,     0.89426,     0.89426,     0.89426,     0.89426,     0.89426,     0.89426,     0.89426,     0.89426,     0.89426,     0.89426,     0.89426,     0.89426,     0.89426,     0.89426,     0.89426,     0.89426,     0.89426,     0.89426,     0.89426,     0.89426,     0.89426,\n",
            "            0.89426,     0.89426,     0.89426,     0.89426,     0.89426,     0.89426,     0.89426,     0.89426,     0.89426,     0.89426,     0.89426,     0.89426,     0.89426,     0.89426,     0.89426,     0.89426,     0.89426,     0.89426,     0.89426,     0.89426,     0.89426,     0.89426,     0.89426,\n",
            "            0.89426,     0.89426,     0.89426,     0.89426,     0.89426,     0.89426,     0.89426,     0.89426,     0.89426,     0.89426,     0.89426,     0.89426,     0.89426,     0.89426,     0.89426,     0.89426,     0.89426,     0.89426,     0.89426,     0.89426,     0.89426,     0.89426,     0.89426,\n",
            "            0.89426,     0.89426,     0.89426,     0.89426,     0.89426,     0.89426,     0.89426,     0.89426,     0.89426,     0.89426,     0.89426,     0.89426,     0.89426,     0.89426,     0.89426,     0.89426,     0.89426,     0.89426,     0.89426,     0.89426,     0.89426,     0.89426,     0.89426,\n",
            "            0.89426,     0.89426,     0.89426,     0.89426,     0.89426,     0.89426,     0.89426,     0.89426,     0.89426,     0.89426,     0.89426,     0.89426,     0.89426,     0.89426,     0.89426,     0.89426,     0.89426,     0.89426,     0.89426,     0.89426,     0.89432,     0.89496,     0.89522,\n",
            "            0.89545,     0.89562,     0.89622,     0.89695,     0.89774,     0.89796,      0.8981,     0.89895,     0.89923,     0.89977,     0.90036,     0.90075,     0.90102,      0.9014,     0.90178,     0.90221,     0.90308,     0.90362,     0.90375,     0.90383,     0.90424,     0.90459,     0.90512,\n",
            "             0.9053,     0.90562,     0.90598,     0.90636,     0.90678,     0.90734,     0.90848,     0.90886,     0.90916,     0.90934,     0.90976,     0.91003,     0.91057,      0.9108,     0.91077,     0.91152,      0.9116,     0.91189,     0.91243,     0.91252,     0.91282,     0.91318,     0.91322,\n",
            "             0.9139,     0.91425,     0.91479,     0.91504,     0.91511,     0.91532,     0.91567,      0.9164,     0.91658,     0.91728,     0.91766,     0.91764,     0.91771,     0.91815,     0.91881,      0.9197,     0.91997,     0.92028,     0.92048,     0.92078,     0.92102,     0.92113,     0.92145,\n",
            "            0.92153,     0.92152,     0.92183,     0.92213,     0.92252,     0.92308,      0.9233,      0.9234,     0.92399,     0.92444,     0.92473,      0.9254,     0.92557,     0.92623,     0.92643,     0.92675,     0.92694,     0.92722,     0.92734,     0.92767,     0.92776,     0.92804,     0.92834,\n",
            "            0.92849,     0.92891,     0.92933,     0.92947,     0.92999,     0.92997,     0.92996,     0.93007,     0.93027,     0.93038,     0.93065,     0.93078,     0.93111,     0.93129,     0.93188,     0.93187,     0.93243,     0.93263,     0.93332,     0.93372,     0.93398,     0.93454,     0.93463,\n",
            "            0.93466,     0.93488,     0.93549,     0.93592,     0.93601,     0.93608,     0.93608,     0.93613,     0.93636,     0.93645,     0.93665,     0.93699,     0.93708,     0.93737,     0.93768,     0.93799,     0.93807,     0.93843,     0.93884,     0.93891,     0.93905,     0.93915,     0.93927,\n",
            "            0.93941,     0.93987,     0.94035,     0.94032,     0.94043,     0.94063,     0.94111,     0.94119,     0.94165,     0.94176,     0.94175,     0.94198,     0.94232,     0.94238,     0.94248,     0.94266,     0.94275,     0.94298,     0.94307,     0.94325,     0.94338,     0.94394,     0.94411,\n",
            "            0.94427,     0.94446,     0.94447,     0.94472,     0.94506,     0.94529,     0.94531,     0.94574,     0.94574,     0.94588,     0.94619,      0.9463,     0.94646,     0.94664,     0.94696,      0.9473,      0.9474,      0.9476,      0.9476,     0.94759,     0.94756,     0.94766,       0.948,\n",
            "            0.94824,     0.94837,     0.94866,     0.94883,     0.94893,     0.94903,     0.94915,     0.94931,     0.94982,      0.9503,     0.95054,      0.9506,     0.95082,     0.95093,     0.95115,      0.9514,      0.9518,     0.95199,      0.9521,      0.9523,     0.95269,     0.95267,     0.95272,\n",
            "            0.95306,      0.9532,     0.95346,     0.95371,     0.95407,     0.95403,     0.95427,     0.95436,     0.95483,     0.95493,     0.95492,     0.95491,     0.95515,     0.95551,     0.95551,     0.95566,     0.95573,     0.95595,     0.95593,     0.95617,     0.95689,     0.95713,     0.95738,\n",
            "            0.95773,     0.95773,     0.95792,     0.95805,     0.95816,     0.95822,     0.95823,     0.95877,     0.95921,      0.9593,     0.95957,     0.95971,     0.96011,     0.96028,     0.96064,     0.96078,     0.96087,     0.96086,     0.96097,     0.96122,     0.96143,     0.96144,     0.96167,\n",
            "            0.96164,     0.96187,     0.96196,     0.96197,     0.96206,     0.96203,     0.96215,     0.96252,     0.96258,     0.96275,      0.9631,     0.96333,     0.96356,     0.96391,     0.96409,     0.96435,     0.96433,      0.9643,     0.96466,      0.9649,       0.965,     0.96495,     0.96519,\n",
            "            0.96516,     0.96539,     0.96577,     0.96578,     0.96589,     0.96594,     0.96592,     0.96603,     0.96623,     0.96662,     0.96658,     0.96683,     0.96721,     0.96746,     0.96754,     0.96764,     0.96775,     0.96773,      0.9677,     0.96767,     0.96802,     0.96809,     0.96808,\n",
            "            0.96832,     0.96871,     0.96895,     0.96907,     0.96946,     0.96957,     0.96954,      0.9695,     0.96949,      0.9696,     0.96983,     0.97022,     0.97029,      0.9707,     0.97097,     0.97094,     0.97093,     0.97093,     0.97123,      0.9714,     0.97151,     0.97171,     0.97186,\n",
            "            0.97197,     0.97222,     0.97235,     0.97245,     0.97243,     0.97256,     0.97282,     0.97321,     0.97317,     0.97313,      0.9734,      0.9735,     0.97361,     0.97387,     0.97428,     0.97455,     0.97481,     0.97496,     0.97503,     0.97526,     0.97522,     0.97517,     0.97572,\n",
            "            0.97597,     0.97594,      0.9762,     0.97631,     0.97627,     0.97669,     0.97679,     0.97689,     0.97684,     0.97758,     0.97768,     0.97779,     0.97789,       0.978,     0.97808,     0.97808,     0.97819,     0.97848,     0.97875,     0.97932,     0.97928,     0.97924,     0.97918,\n",
            "             0.9793,     0.97958,     0.97968,      0.9801,     0.98023,     0.98035,     0.98047,     0.98072,     0.98068,     0.98082,     0.98075,     0.98072,     0.98069,     0.98114,      0.9811,     0.98106,     0.98102,     0.98129,     0.98156,     0.98169,     0.98165,      0.9816,     0.98186,\n",
            "            0.98183,     0.98212,     0.98207,     0.98219,     0.98213,     0.98226,     0.98238,     0.98249,     0.98311,     0.98323,     0.98335,     0.98329,     0.98341,     0.98385,      0.9838,     0.98393,     0.98424,     0.98438,     0.98449,      0.9846,     0.98457,      0.9845,     0.98441,\n",
            "            0.98471,     0.98482,     0.98476,     0.98486,     0.98536,      0.9853,     0.98561,     0.98557,     0.98552,     0.98593,     0.98597,     0.98609,     0.98623,     0.98637,     0.98631,     0.98628,      0.9862,     0.98615,     0.98629,     0.98682,     0.98676,     0.98669,     0.98683,\n",
            "            0.98695,      0.9871,     0.98745,     0.98739,     0.98733,     0.98745,     0.98776,     0.98795,      0.9881,     0.98825,     0.98817,     0.98831,     0.98826,     0.98817,     0.98833,     0.98847,      0.9884,     0.98856,     0.98892,     0.98929,     0.98923,     0.98916,     0.98909,\n",
            "             0.9897,     0.98961,     0.98978,      0.9897,     0.98963,     0.99001,     0.99017,     0.99059,     0.99054,     0.99046,      0.9904,     0.99082,     0.99074,     0.99091,     0.99109,     0.99127,     0.99118,     0.99138,     0.99159,     0.99153,     0.99146,     0.99166,      0.9924,\n",
            "            0.99233,     0.99256,     0.99276,     0.99297,     0.99288,     0.99283,     0.99277,     0.99301,     0.99297,      0.9932,     0.99314,     0.99307,     0.99329,     0.99353,     0.99376,     0.99368,     0.99361,     0.99418,     0.99412,     0.99406,     0.99398,     0.99424,     0.99487,\n",
            "            0.99481,     0.99508,     0.99502,     0.99494,     0.99485,     0.99552,     0.99583,     0.99578,     0.99572,     0.99603,     0.99596,     0.99591,     0.99584,     0.99578,     0.99572,     0.99564,     0.99557,     0.99549,     0.99542,     0.99532,     0.99523,     0.99517,     0.99509,\n",
            "            0.99501,     0.99541,     0.99586,     0.99577,     0.99623,     0.99616,     0.99605,     0.99595,     0.99705,     0.99699,     0.99689,     0.99745,     0.99739,     0.99732,     0.99725,     0.99788,     0.99781,     0.99774,     0.99767,     0.99761,     0.99753,     0.99747,     0.99736,\n",
            "            0.99818,     0.99812,     0.99903,       0.999,     0.99896,     0.99894,      0.9989,     0.99885,      0.9988,     0.99875,      0.9987,     0.99862,     0.99859,     0.99851,     0.99844,     0.99838,     0.99827,     0.99818,     0.99807,     0.99796,     0.99789,     0.99778,     0.99765,\n",
            "            0.99752,     0.99734,     0.99718,           1,           1,           1,           1,           1,           1,           1,           1,           1,           1,           1,           1,           1,           1,           1,           1,           1,           1,           1,           1,\n",
            "                  1,           1,           1,           1,           1,           1,           1,           1,           1,           1,           1,           1,           1,           1,           1,           1,           1,           1,           1,           1,           1,           1,           1,\n",
            "                  1,           1,           1,           1,           1,           1,           1,           1,           1,           1,           1,           1,           1,           1,           1,           1,           1,           1,           1,           1,           1,           1,           1,\n",
            "                  1,           1,           1,           1,           1,           1,           1,           1,           1,           1,           1,           1,           1,           1,           1,           1,           1,           1,           1,           1,           1,           1,           1,\n",
            "                  1,           1,           1,           1,           1,           1,           1,           1,           1,           1,           1,           1,           1,           1,           1,           1,           1,           1,           1,           1,           1,           1,           1,\n",
            "                  1,           1,           1,           1,           1,           1,           1,           1,           1,           1,           1,           1,           1,           1,           1,           1,           1,           1,           1,           1,           1,           1,           1,\n",
            "                  1,           1,           1,           1,           1,           1,           1,           1,           1,           1,           1,           1,           1,           1,           1,           1,           1,           1,           1,           1,           1,           1,           1,\n",
            "                  1,           1,           1,           1,           1,           1,           1,           1,           1,           1,           1]]), 'Confidence', 'Precision'], [array([          0,    0.001001,    0.002002,    0.003003,    0.004004,    0.005005,    0.006006,    0.007007,    0.008008,    0.009009,     0.01001,    0.011011,    0.012012,    0.013013,    0.014014,    0.015015,    0.016016,    0.017017,    0.018018,    0.019019,     0.02002,    0.021021,    0.022022,    0.023023,\n",
            "          0.024024,    0.025025,    0.026026,    0.027027,    0.028028,    0.029029,     0.03003,    0.031031,    0.032032,    0.033033,    0.034034,    0.035035,    0.036036,    0.037037,    0.038038,    0.039039,     0.04004,    0.041041,    0.042042,    0.043043,    0.044044,    0.045045,    0.046046,    0.047047,\n",
            "          0.048048,    0.049049,     0.05005,    0.051051,    0.052052,    0.053053,    0.054054,    0.055055,    0.056056,    0.057057,    0.058058,    0.059059,     0.06006,    0.061061,    0.062062,    0.063063,    0.064064,    0.065065,    0.066066,    0.067067,    0.068068,    0.069069,     0.07007,    0.071071,\n",
            "          0.072072,    0.073073,    0.074074,    0.075075,    0.076076,    0.077077,    0.078078,    0.079079,     0.08008,    0.081081,    0.082082,    0.083083,    0.084084,    0.085085,    0.086086,    0.087087,    0.088088,    0.089089,     0.09009,    0.091091,    0.092092,    0.093093,    0.094094,    0.095095,\n",
            "          0.096096,    0.097097,    0.098098,    0.099099,      0.1001,      0.1011,      0.1021,      0.1031,      0.1041,     0.10511,     0.10611,     0.10711,     0.10811,     0.10911,     0.11011,     0.11111,     0.11211,     0.11311,     0.11411,     0.11512,     0.11612,     0.11712,     0.11812,     0.11912,\n",
            "           0.12012,     0.12112,     0.12212,     0.12312,     0.12412,     0.12513,     0.12613,     0.12713,     0.12813,     0.12913,     0.13013,     0.13113,     0.13213,     0.13313,     0.13413,     0.13514,     0.13614,     0.13714,     0.13814,     0.13914,     0.14014,     0.14114,     0.14214,     0.14314,\n",
            "           0.14414,     0.14515,     0.14615,     0.14715,     0.14815,     0.14915,     0.15015,     0.15115,     0.15215,     0.15315,     0.15415,     0.15516,     0.15616,     0.15716,     0.15816,     0.15916,     0.16016,     0.16116,     0.16216,     0.16316,     0.16416,     0.16517,     0.16617,     0.16717,\n",
            "           0.16817,     0.16917,     0.17017,     0.17117,     0.17217,     0.17317,     0.17417,     0.17518,     0.17618,     0.17718,     0.17818,     0.17918,     0.18018,     0.18118,     0.18218,     0.18318,     0.18418,     0.18519,     0.18619,     0.18719,     0.18819,     0.18919,     0.19019,     0.19119,\n",
            "           0.19219,     0.19319,     0.19419,      0.1952,      0.1962,      0.1972,      0.1982,      0.1992,      0.2002,      0.2012,      0.2022,      0.2032,      0.2042,     0.20521,     0.20621,     0.20721,     0.20821,     0.20921,     0.21021,     0.21121,     0.21221,     0.21321,     0.21421,     0.21522,\n",
            "           0.21622,     0.21722,     0.21822,     0.21922,     0.22022,     0.22122,     0.22222,     0.22322,     0.22422,     0.22523,     0.22623,     0.22723,     0.22823,     0.22923,     0.23023,     0.23123,     0.23223,     0.23323,     0.23423,     0.23524,     0.23624,     0.23724,     0.23824,     0.23924,\n",
            "           0.24024,     0.24124,     0.24224,     0.24324,     0.24424,     0.24525,     0.24625,     0.24725,     0.24825,     0.24925,     0.25025,     0.25125,     0.25225,     0.25325,     0.25425,     0.25526,     0.25626,     0.25726,     0.25826,     0.25926,     0.26026,     0.26126,     0.26226,     0.26326,\n",
            "           0.26426,     0.26527,     0.26627,     0.26727,     0.26827,     0.26927,     0.27027,     0.27127,     0.27227,     0.27327,     0.27427,     0.27528,     0.27628,     0.27728,     0.27828,     0.27928,     0.28028,     0.28128,     0.28228,     0.28328,     0.28428,     0.28529,     0.28629,     0.28729,\n",
            "           0.28829,     0.28929,     0.29029,     0.29129,     0.29229,     0.29329,     0.29429,      0.2953,      0.2963,      0.2973,      0.2983,      0.2993,      0.3003,      0.3013,      0.3023,      0.3033,      0.3043,     0.30531,     0.30631,     0.30731,     0.30831,     0.30931,     0.31031,     0.31131,\n",
            "           0.31231,     0.31331,     0.31431,     0.31532,     0.31632,     0.31732,     0.31832,     0.31932,     0.32032,     0.32132,     0.32232,     0.32332,     0.32432,     0.32533,     0.32633,     0.32733,     0.32833,     0.32933,     0.33033,     0.33133,     0.33233,     0.33333,     0.33433,     0.33534,\n",
            "           0.33634,     0.33734,     0.33834,     0.33934,     0.34034,     0.34134,     0.34234,     0.34334,     0.34434,     0.34535,     0.34635,     0.34735,     0.34835,     0.34935,     0.35035,     0.35135,     0.35235,     0.35335,     0.35435,     0.35536,     0.35636,     0.35736,     0.35836,     0.35936,\n",
            "           0.36036,     0.36136,     0.36236,     0.36336,     0.36436,     0.36537,     0.36637,     0.36737,     0.36837,     0.36937,     0.37037,     0.37137,     0.37237,     0.37337,     0.37437,     0.37538,     0.37638,     0.37738,     0.37838,     0.37938,     0.38038,     0.38138,     0.38238,     0.38338,\n",
            "           0.38438,     0.38539,     0.38639,     0.38739,     0.38839,     0.38939,     0.39039,     0.39139,     0.39239,     0.39339,     0.39439,      0.3954,      0.3964,      0.3974,      0.3984,      0.3994,      0.4004,      0.4014,      0.4024,      0.4034,      0.4044,     0.40541,     0.40641,     0.40741,\n",
            "           0.40841,     0.40941,     0.41041,     0.41141,     0.41241,     0.41341,     0.41441,     0.41542,     0.41642,     0.41742,     0.41842,     0.41942,     0.42042,     0.42142,     0.42242,     0.42342,     0.42442,     0.42543,     0.42643,     0.42743,     0.42843,     0.42943,     0.43043,     0.43143,\n",
            "           0.43243,     0.43343,     0.43443,     0.43544,     0.43644,     0.43744,     0.43844,     0.43944,     0.44044,     0.44144,     0.44244,     0.44344,     0.44444,     0.44545,     0.44645,     0.44745,     0.44845,     0.44945,     0.45045,     0.45145,     0.45245,     0.45345,     0.45445,     0.45546,\n",
            "           0.45646,     0.45746,     0.45846,     0.45946,     0.46046,     0.46146,     0.46246,     0.46346,     0.46446,     0.46547,     0.46647,     0.46747,     0.46847,     0.46947,     0.47047,     0.47147,     0.47247,     0.47347,     0.47447,     0.47548,     0.47648,     0.47748,     0.47848,     0.47948,\n",
            "           0.48048,     0.48148,     0.48248,     0.48348,     0.48448,     0.48549,     0.48649,     0.48749,     0.48849,     0.48949,     0.49049,     0.49149,     0.49249,     0.49349,     0.49449,      0.4955,      0.4965,      0.4975,      0.4985,      0.4995,      0.5005,      0.5015,      0.5025,      0.5035,\n",
            "            0.5045,     0.50551,     0.50651,     0.50751,     0.50851,     0.50951,     0.51051,     0.51151,     0.51251,     0.51351,     0.51451,     0.51552,     0.51652,     0.51752,     0.51852,     0.51952,     0.52052,     0.52152,     0.52252,     0.52352,     0.52452,     0.52553,     0.52653,     0.52753,\n",
            "           0.52853,     0.52953,     0.53053,     0.53153,     0.53253,     0.53353,     0.53453,     0.53554,     0.53654,     0.53754,     0.53854,     0.53954,     0.54054,     0.54154,     0.54254,     0.54354,     0.54454,     0.54555,     0.54655,     0.54755,     0.54855,     0.54955,     0.55055,     0.55155,\n",
            "           0.55255,     0.55355,     0.55455,     0.55556,     0.55656,     0.55756,     0.55856,     0.55956,     0.56056,     0.56156,     0.56256,     0.56356,     0.56456,     0.56557,     0.56657,     0.56757,     0.56857,     0.56957,     0.57057,     0.57157,     0.57257,     0.57357,     0.57457,     0.57558,\n",
            "           0.57658,     0.57758,     0.57858,     0.57958,     0.58058,     0.58158,     0.58258,     0.58358,     0.58458,     0.58559,     0.58659,     0.58759,     0.58859,     0.58959,     0.59059,     0.59159,     0.59259,     0.59359,     0.59459,      0.5956,      0.5966,      0.5976,      0.5986,      0.5996,\n",
            "            0.6006,      0.6016,      0.6026,      0.6036,      0.6046,     0.60561,     0.60661,     0.60761,     0.60861,     0.60961,     0.61061,     0.61161,     0.61261,     0.61361,     0.61461,     0.61562,     0.61662,     0.61762,     0.61862,     0.61962,     0.62062,     0.62162,     0.62262,     0.62362,\n",
            "           0.62462,     0.62563,     0.62663,     0.62763,     0.62863,     0.62963,     0.63063,     0.63163,     0.63263,     0.63363,     0.63463,     0.63564,     0.63664,     0.63764,     0.63864,     0.63964,     0.64064,     0.64164,     0.64264,     0.64364,     0.64464,     0.64565,     0.64665,     0.64765,\n",
            "           0.64865,     0.64965,     0.65065,     0.65165,     0.65265,     0.65365,     0.65465,     0.65566,     0.65666,     0.65766,     0.65866,     0.65966,     0.66066,     0.66166,     0.66266,     0.66366,     0.66466,     0.66567,     0.66667,     0.66767,     0.66867,     0.66967,     0.67067,     0.67167,\n",
            "           0.67267,     0.67367,     0.67467,     0.67568,     0.67668,     0.67768,     0.67868,     0.67968,     0.68068,     0.68168,     0.68268,     0.68368,     0.68468,     0.68569,     0.68669,     0.68769,     0.68869,     0.68969,     0.69069,     0.69169,     0.69269,     0.69369,     0.69469,      0.6957,\n",
            "            0.6967,      0.6977,      0.6987,      0.6997,      0.7007,      0.7017,      0.7027,      0.7037,      0.7047,     0.70571,     0.70671,     0.70771,     0.70871,     0.70971,     0.71071,     0.71171,     0.71271,     0.71371,     0.71471,     0.71572,     0.71672,     0.71772,     0.71872,     0.71972,\n",
            "           0.72072,     0.72172,     0.72272,     0.72372,     0.72472,     0.72573,     0.72673,     0.72773,     0.72873,     0.72973,     0.73073,     0.73173,     0.73273,     0.73373,     0.73473,     0.73574,     0.73674,     0.73774,     0.73874,     0.73974,     0.74074,     0.74174,     0.74274,     0.74374,\n",
            "           0.74474,     0.74575,     0.74675,     0.74775,     0.74875,     0.74975,     0.75075,     0.75175,     0.75275,     0.75375,     0.75475,     0.75576,     0.75676,     0.75776,     0.75876,     0.75976,     0.76076,     0.76176,     0.76276,     0.76376,     0.76476,     0.76577,     0.76677,     0.76777,\n",
            "           0.76877,     0.76977,     0.77077,     0.77177,     0.77277,     0.77377,     0.77477,     0.77578,     0.77678,     0.77778,     0.77878,     0.77978,     0.78078,     0.78178,     0.78278,     0.78378,     0.78478,     0.78579,     0.78679,     0.78779,     0.78879,     0.78979,     0.79079,     0.79179,\n",
            "           0.79279,     0.79379,     0.79479,      0.7958,      0.7968,      0.7978,      0.7988,      0.7998,      0.8008,      0.8018,      0.8028,      0.8038,      0.8048,     0.80581,     0.80681,     0.80781,     0.80881,     0.80981,     0.81081,     0.81181,     0.81281,     0.81381,     0.81481,     0.81582,\n",
            "           0.81682,     0.81782,     0.81882,     0.81982,     0.82082,     0.82182,     0.82282,     0.82382,     0.82482,     0.82583,     0.82683,     0.82783,     0.82883,     0.82983,     0.83083,     0.83183,     0.83283,     0.83383,     0.83483,     0.83584,     0.83684,     0.83784,     0.83884,     0.83984,\n",
            "           0.84084,     0.84184,     0.84284,     0.84384,     0.84484,     0.84585,     0.84685,     0.84785,     0.84885,     0.84985,     0.85085,     0.85185,     0.85285,     0.85385,     0.85485,     0.85586,     0.85686,     0.85786,     0.85886,     0.85986,     0.86086,     0.86186,     0.86286,     0.86386,\n",
            "           0.86486,     0.86587,     0.86687,     0.86787,     0.86887,     0.86987,     0.87087,     0.87187,     0.87287,     0.87387,     0.87487,     0.87588,     0.87688,     0.87788,     0.87888,     0.87988,     0.88088,     0.88188,     0.88288,     0.88388,     0.88488,     0.88589,     0.88689,     0.88789,\n",
            "           0.88889,     0.88989,     0.89089,     0.89189,     0.89289,     0.89389,     0.89489,      0.8959,      0.8969,      0.8979,      0.8989,      0.8999,      0.9009,      0.9019,      0.9029,      0.9039,      0.9049,     0.90591,     0.90691,     0.90791,     0.90891,     0.90991,     0.91091,     0.91191,\n",
            "           0.91291,     0.91391,     0.91491,     0.91592,     0.91692,     0.91792,     0.91892,     0.91992,     0.92092,     0.92192,     0.92292,     0.92392,     0.92492,     0.92593,     0.92693,     0.92793,     0.92893,     0.92993,     0.93093,     0.93193,     0.93293,     0.93393,     0.93493,     0.93594,\n",
            "           0.93694,     0.93794,     0.93894,     0.93994,     0.94094,     0.94194,     0.94294,     0.94394,     0.94494,     0.94595,     0.94695,     0.94795,     0.94895,     0.94995,     0.95095,     0.95195,     0.95295,     0.95395,     0.95495,     0.95596,     0.95696,     0.95796,     0.95896,     0.95996,\n",
            "           0.96096,     0.96196,     0.96296,     0.96396,     0.96496,     0.96597,     0.96697,     0.96797,     0.96897,     0.96997,     0.97097,     0.97197,     0.97297,     0.97397,     0.97497,     0.97598,     0.97698,     0.97798,     0.97898,     0.97998,     0.98098,     0.98198,     0.98298,     0.98398,\n",
            "           0.98498,     0.98599,     0.98699,     0.98799,     0.98899,     0.98999,     0.99099,     0.99199,     0.99299,     0.99399,     0.99499,       0.996,       0.997,       0.998,       0.999,           1]), array([[    0.92998,     0.92998,     0.92998,     0.92998,     0.92998,     0.92998,     0.92998,     0.92998,     0.92998,     0.92998,     0.92998,     0.92998,     0.92998,     0.92998,     0.92998,     0.92998,     0.92998,     0.92998,     0.92998,     0.92998,     0.92998,     0.92998,     0.92998,\n",
            "            0.92998,     0.92998,     0.92998,     0.92998,     0.92998,     0.92998,     0.92998,     0.92998,     0.92998,     0.92998,     0.92998,     0.92998,     0.92998,     0.92998,     0.92998,     0.92998,     0.92998,     0.92998,     0.92998,     0.92998,     0.92998,     0.92998,     0.92998,\n",
            "            0.92998,     0.92998,     0.92998,     0.92998,     0.92998,     0.92998,     0.92998,     0.92998,     0.92998,     0.92998,     0.92998,     0.92998,     0.92998,     0.92998,     0.92998,     0.92998,     0.92998,     0.92998,     0.92998,     0.92998,     0.92998,     0.92998,     0.92998,\n",
            "            0.92998,     0.92998,     0.92998,     0.92998,     0.92998,     0.92998,     0.92998,     0.92998,     0.92998,     0.92998,     0.92998,     0.92998,     0.92998,     0.92998,     0.92998,     0.92998,     0.92998,     0.92998,     0.92998,     0.92998,     0.92998,     0.92998,     0.92998,\n",
            "            0.92998,     0.92998,     0.92998,     0.92998,     0.92998,     0.92998,     0.92998,     0.92998,     0.92998,     0.92998,     0.92998,     0.92998,     0.92998,     0.92998,     0.92998,     0.92998,     0.92998,     0.92998,     0.92998,     0.92998,     0.92998,     0.92998,     0.92998,\n",
            "            0.92998,     0.92998,     0.92998,     0.92998,     0.92998,     0.92998,     0.92998,     0.92998,     0.92998,     0.92998,     0.92998,     0.92998,     0.92998,     0.92998,     0.92998,     0.92998,     0.92998,     0.92998,     0.92998,     0.92998,     0.92998,     0.92998,     0.92998,\n",
            "            0.92998,     0.92998,     0.92998,     0.92998,     0.92998,     0.92998,     0.92998,     0.92998,     0.92998,     0.92998,     0.92998,     0.92998,     0.92998,     0.92998,     0.92998,     0.92998,     0.92998,     0.92998,     0.92998,     0.92998,     0.92998,     0.92998,     0.92998,\n",
            "            0.92998,     0.92998,     0.92998,     0.92998,     0.92998,     0.92998,     0.92998,     0.92998,     0.92998,     0.92998,     0.92998,     0.92998,     0.92998,     0.92998,     0.92998,     0.92998,     0.92998,     0.92998,     0.92998,     0.92998,     0.92998,     0.92998,     0.92998,\n",
            "            0.92998,     0.92998,     0.92998,     0.92998,     0.92998,     0.92998,     0.92998,     0.92998,     0.92998,     0.92998,     0.92998,     0.92998,     0.92998,     0.92998,     0.92998,     0.92998,     0.92998,     0.92998,     0.92998,     0.92998,     0.92998,     0.92998,     0.92998,\n",
            "            0.92998,     0.92998,     0.92998,     0.92998,     0.92998,     0.92998,     0.92998,     0.92998,     0.92998,     0.92998,     0.92998,     0.92998,     0.92998,     0.92998,     0.92998,     0.92998,     0.92998,     0.92998,     0.92998,     0.92998,     0.92998,     0.92998,     0.92998,\n",
            "            0.92998,     0.92998,     0.92998,     0.92998,     0.92998,     0.92998,     0.92998,     0.92998,     0.92998,     0.92998,     0.92998,     0.92998,     0.92998,     0.92998,     0.92998,     0.92998,     0.92998,     0.92998,     0.92998,     0.92998,     0.92998,     0.92972,     0.92962,\n",
            "             0.9294,     0.92904,     0.92883,     0.92854,     0.92835,     0.92806,     0.92806,     0.92782,     0.92782,     0.92782,     0.92757,     0.92757,     0.92733,     0.92697,     0.92697,     0.92673,     0.92661,     0.92661,     0.92634,     0.92601,     0.92601,     0.92601,     0.92589,\n",
            "            0.92589,     0.92579,     0.92565,     0.92553,     0.92553,     0.92529,     0.92517,     0.92501,     0.92472,     0.92436,     0.92419,     0.92409,     0.92409,     0.92383,     0.92344,     0.92331,     0.92276,     0.92264,     0.92256,     0.92252,     0.92228,      0.9218,      0.9217,\n",
            "            0.92156,     0.92156,     0.92132,     0.92125,     0.92075,     0.92065,      0.9206,     0.92046,     0.92024,        0.92,     0.91979,     0.91956,     0.91907,     0.91902,     0.91879,     0.91879,      0.9183,     0.91803,     0.91795,     0.91783,     0.91757,     0.91735,     0.91733,\n",
            "            0.91699,     0.91685,     0.91646,     0.91608,     0.91566,     0.91554,      0.9153,     0.91508,      0.9147,     0.91446,     0.91434,     0.91434,     0.91412,     0.91383,     0.91359,     0.91329,     0.91302,      0.9123,     0.91205,     0.91196,     0.91166,     0.91133,     0.91097,\n",
            "            0.91061,     0.91018,     0.90965,     0.90941,     0.90938,       0.909,     0.90887,     0.90879,      0.9085,     0.90845,     0.90808,     0.90757,     0.90735,     0.90712,     0.90686,     0.90664,      0.9064,       0.906,     0.90568,     0.90568,     0.90546,     0.90516,     0.90484,\n",
            "            0.90472,      0.9046,     0.90372,     0.90339,     0.90291,     0.90219,      0.9021,     0.90159,     0.90123,     0.90053,     0.90003,     0.89966,     0.89948,     0.89906,     0.89858,     0.89858,     0.89843,     0.89774,     0.89746,     0.89726,      0.8972,     0.89654,     0.89605,\n",
            "            0.89569,     0.89569,     0.89517,     0.89479,     0.89452,     0.89404,     0.89353,     0.89342,     0.89311,     0.89289,     0.89281,     0.89244,     0.89229,      0.8922,     0.89208,     0.89194,     0.89158,     0.89127,     0.89083,      0.8904,     0.89009,     0.88932,      0.8892,\n",
            "            0.88847,     0.88835,      0.8881,     0.88787,     0.88784,     0.88763,     0.88739,     0.88739,     0.88708,     0.88655,     0.88619,     0.88612,     0.88571,     0.88523,     0.88487,     0.88456,     0.88413,     0.88354,     0.88329,     0.88311,     0.88257,     0.88222,     0.88166,\n",
            "             0.8815,     0.88138,     0.88138,      0.8812,     0.88077,     0.88042,     0.88034,     0.87993,     0.87933,     0.87885,     0.87813,     0.87733,     0.87688,     0.87672,     0.87613,     0.87584,      0.8756,     0.87552,     0.87521,     0.87488,     0.87458,      0.8741,     0.87356,\n",
            "            0.87332,     0.87283,     0.87251,     0.87247,     0.87214,     0.87131,     0.87112,     0.87051,     0.86968,     0.86921,     0.86905,     0.86886,      0.8685,     0.86838,     0.86822,     0.86778,     0.86755,     0.86685,     0.86635,      0.8661,     0.86562,     0.86497,     0.86481,\n",
            "            0.86417,     0.86369,     0.86357,     0.86333,     0.86245,     0.86177,     0.86118,     0.86044,     0.85996,     0.85921,     0.85888,     0.85852,      0.8584,     0.85793,     0.85749,     0.85707,     0.85673,     0.85647,     0.85606,     0.85574,     0.85539,     0.85491,     0.85418,\n",
            "             0.8535,     0.85275,     0.85226,     0.85215,     0.85123,     0.85041,     0.85012,     0.84956,     0.84925,     0.84891,     0.84841,      0.8471,     0.84619,     0.84502,      0.8442,      0.8429,     0.84247,     0.84171,     0.84064,     0.84001,     0.83925,     0.83803,     0.83736,\n",
            "            0.83665,     0.83569,      0.8349,      0.8341,     0.83337,     0.83246,     0.83207,     0.83127,     0.83037,      0.8291,      0.8282,     0.82755,     0.82677,     0.82543,     0.82487,     0.82382,     0.82311,      0.8225,     0.82173,       0.821,     0.81947,     0.81846,     0.81738,\n",
            "            0.81629,      0.8156,     0.81471,     0.81419,     0.81334,     0.81264,     0.81181,     0.81079,     0.81052,     0.80963,     0.80839,     0.80734,      0.8063,      0.8057,     0.80486,     0.80396,     0.80357,     0.80306,     0.80185,     0.80104,     0.79981,      0.7986,      0.7977,\n",
            "            0.79673,     0.79587,     0.79544,     0.79402,     0.79349,     0.79299,      0.7923,     0.79117,     0.78989,     0.78849,       0.788,     0.78683,     0.78549,     0.78456,      0.7838,     0.78316,     0.78226,     0.78104,     0.77985,     0.77764,     0.77663,     0.77493,     0.77365,\n",
            "            0.77201,     0.77106,     0.76993,     0.76848,     0.76715,     0.76627,     0.76462,     0.76279,      0.7612,      0.7605,     0.75897,      0.7573,     0.75548,     0.75403,     0.75301,     0.75166,     0.74997,     0.74935,     0.74811,     0.74642,     0.74486,     0.74344,     0.74107,\n",
            "            0.73979,     0.73859,      0.7366,     0.73481,     0.73352,     0.73221,     0.73076,     0.72839,     0.72685,     0.72595,     0.72331,     0.72204,     0.72092,     0.71959,     0.71829,     0.71647,     0.71506,     0.71283,     0.71075,     0.70961,     0.70784,     0.70595,     0.70328,\n",
            "            0.70198,     0.70038,     0.69845,     0.69648,      0.6944,     0.69271,     0.69082,     0.68872,     0.68626,     0.68431,     0.68198,     0.67968,     0.67747,     0.67565,     0.67229,     0.67036,     0.66852,     0.66711,     0.66446,     0.66155,     0.66008,     0.65731,     0.65313,\n",
            "            0.65103,     0.64789,     0.64525,     0.64185,      0.6396,      0.6372,     0.63464,     0.63269,     0.63044,     0.62825,      0.6256,     0.62266,     0.62058,     0.61829,     0.61542,      0.6139,      0.6105,     0.60804,     0.60583,     0.60373,      0.6009,     0.59747,     0.59489,\n",
            "            0.59134,     0.58941,     0.58686,     0.58386,     0.58108,     0.57753,     0.57519,     0.57228,     0.56946,     0.56679,     0.56257,     0.55941,     0.55694,     0.55272,     0.55018,     0.54647,     0.54344,     0.54042,     0.53705,     0.53321,     0.53061,     0.52672,     0.52359,\n",
            "            0.52017,     0.51586,     0.51283,     0.50849,     0.50499,     0.50093,     0.49682,     0.49378,     0.49134,     0.48694,     0.48423,     0.48038,     0.47619,     0.47235,     0.46815,     0.46427,     0.45969,     0.45659,     0.45371,      0.4505,     0.44677,     0.44324,     0.43973,\n",
            "            0.43598,     0.43357,     0.42866,     0.42489,     0.41942,     0.41645,     0.41312,      0.4102,     0.40755,     0.40417,     0.40036,     0.39655,      0.3918,     0.38777,     0.38349,     0.37852,     0.37423,     0.37007,     0.36624,     0.36231,     0.35751,     0.35323,     0.34977,\n",
            "            0.34559,     0.34091,     0.33649,     0.33113,     0.32539,     0.32059,     0.31597,     0.31222,     0.30816,      0.3018,     0.29636,     0.29302,     0.28823,     0.28418,     0.27991,     0.27485,      0.2706,     0.26582,     0.26173,     0.25605,     0.25126,     0.24765,     0.24373,\n",
            "            0.23978,     0.23496,     0.23132,     0.22661,     0.22257,     0.21821,     0.21231,     0.20698,     0.20335,     0.19935,     0.19252,     0.18812,     0.18413,     0.17936,     0.17466,     0.17025,     0.16439,     0.15954,     0.15461,     0.15076,     0.14587,     0.14217,     0.13648,\n",
            "            0.13198,     0.12763,     0.12416,     0.12014,     0.11609,     0.11296,     0.10881,      0.1049,     0.10036,    0.096421,    0.092675,    0.087242,     0.08494,    0.080545,    0.077095,    0.074302,    0.069228,    0.065926,    0.062196,    0.058721,    0.057025,    0.054105,    0.050967,\n",
            "           0.048358,    0.045157,     0.04255,    0.040433,    0.038158,    0.035778,    0.032699,    0.029777,    0.027655,    0.025977,    0.024333,    0.022535,    0.021177,    0.019352,    0.017314,    0.015433,    0.014218,    0.013189,    0.012153,    0.010908,    0.010159,   0.0087061,   0.0078514,\n",
            "           0.006315,   0.0051826,   0.0044636,   0.0042427,   0.0037691,   0.0031983,   0.0029445,    0.002619,    0.002037,   0.0018111,   0.0014436,   0.0012727,  0.00086401,  0.00069395,  0.00060976,  0.00043719,  0.00031545,   0.0002404,  0.00023264,  0.00022488,  0.00021711,  0.00020935,  0.00020159,\n",
            "         0.00019383,  0.00018606,   0.0001783,  0.00017054,  0.00016278,  0.00015501,  0.00014725,  0.00013949,  0.00013172,  0.00012396,           0,           0,           0,           0,           0,           0,           0,           0,           0,           0,           0,           0,           0,\n",
            "                  0,           0,           0,           0,           0,           0,           0,           0,           0,           0,           0,           0,           0,           0,           0,           0,           0,           0,           0,           0,           0,           0,           0,\n",
            "                  0,           0,           0,           0,           0,           0,           0,           0,           0,           0,           0,           0,           0,           0,           0,           0,           0,           0,           0,           0,           0,           0,           0,\n",
            "                  0,           0,           0,           0,           0,           0,           0,           0,           0,           0,           0,           0,           0,           0,           0,           0,           0,           0,           0,           0,           0,           0,           0,\n",
            "                  0,           0,           0,           0,           0,           0,           0,           0,           0,           0,           0,           0,           0,           0,           0,           0,           0,           0,           0,           0,           0,           0,           0,\n",
            "                  0,           0,           0,           0,           0,           0,           0,           0,           0,           0,           0]]), 'Confidence', 'Recall']]\n",
            "fitness: 0.6133279004102142\n",
            "keys: ['metrics/precision(B)', 'metrics/recall(B)', 'metrics/mAP50(B)', 'metrics/mAP50-95(B)']\n",
            "maps: array([    0.57615])\n",
            "names: {0: 'head'}\n",
            "plot: True\n",
            "results_dict: {'metrics/precision(B)': 0.9272174357649174, 'metrics/recall(B)': 0.9122954764196343, 'metrics/mAP50(B)': 0.9479692418841859, 'metrics/mAP50-95(B)': 0.5761455291353285, 'fitness': 0.6133279004102142}\n",
            "save_dir: PosixPath('runs/detect/val')\n",
            "speed: {'preprocess': 0.3204473610088037, 'inference': 2.9732485185876936, 'loss': 0.0010324650056372385, 'postprocess': 1.5398964861431859}\n",
            "task: 'detect'\n"
          ]
        }
      ]
    }
  ]
}